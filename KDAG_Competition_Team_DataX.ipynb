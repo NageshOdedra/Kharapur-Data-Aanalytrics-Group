{
  "nbformat": 4,
  "nbformat_minor": 0,
  "metadata": {
    "accelerator": "GPU",
    "colab": {
      "name": "KDAG Competition Team DataX.ipynb",
      "provenance": [],
      "collapsed_sections": [],
      "toc_visible": true,
      "include_colab_link": true
    },
    "kernelspec": {
      "display_name": "Python 3",
      "name": "python3"
    }
  },
  "cells": [
    {
      "cell_type": "markdown",
      "metadata": {
        "id": "view-in-github",
        "colab_type": "text"
      },
      "source": [
        "<a href=\"https://colab.research.google.com/github/vanadnarayane26/KDAG-Competition/blob/main/KDAG_Competition_Team_DataX.ipynb\" target=\"_parent\"><img src=\"https://colab.research.google.com/assets/colab-badge.svg\" alt=\"Open In Colab\"/></a>"
      ]
    },
    {
      "cell_type": "code",
      "metadata": {
        "id": "jD3k1clM1bVf"
      },
      "source": [
        "import pandas as pd\n",
        "import numpy as np\n",
        "import matplotlib.pyplot as plt\n",
        "import seaborn as sns\n",
        "import datetime\n",
        "\n",
        "\n",
        "try:\n",
        "  import category_encoders\n",
        "  import timestring\n",
        "  import dateutil\n",
        "except:\n",
        "  !pip install category_encoders\n",
        "  !pip install timestring\n",
        "  !pip install dateutil\n",
        "  print('Installed and Imported!')\n",
        "  import timestring\n",
        "  import category_encoders as ce\n",
        "  import dateutil"
      ],
      "execution_count": null,
      "outputs": []
    },
    {
      "cell_type": "code",
      "metadata": {
        "id": "XEQZj3MO40pE"
      },
      "source": [
        "#Train data\n",
        "url = 'https://raw.githubusercontent.com/vanadnarayane26/KDAG-Competition/main/train.csv'\n",
        "df = pd.read_csv(url)"
      ],
      "execution_count": null,
      "outputs": []
    },
    {
      "cell_type": "code",
      "metadata": {
        "id": "JKjd0qLPWvhA"
      },
      "source": [
        "df_train = df.copy()"
      ],
      "execution_count": null,
      "outputs": []
    },
    {
      "cell_type": "code",
      "metadata": {
        "id": "cyV7M52tWfR6"
      },
      "source": [
        "#Test data\n",
        "url_test = 'https://raw.githubusercontent.com/vanadnarayane26/KDAG-Competition/main/test.csv'\n",
        "df_test = pd.read_csv(url_test)"
      ],
      "execution_count": null,
      "outputs": []
    },
    {
      "cell_type": "code",
      "metadata": {
        "id": "3rn6vbgQWymD"
      },
      "source": [
        "df_test_copy = df_test.copy()"
      ],
      "execution_count": null,
      "outputs": []
    },
    {
      "cell_type": "code",
      "metadata": {
        "colab": {
          "base_uri": "https://localhost:8080/",
          "height": 296
        },
        "id": "ewHX1geA5D57",
        "outputId": "b1c31d3e-2bf1-44c6-d602-890093d27a6f"
      },
      "source": [
        "df.head()"
      ],
      "execution_count": null,
      "outputs": [
        {
          "output_type": "execute_result",
          "data": {
            "text/html": [
              "<div>\n",
              "<style scoped>\n",
              "    .dataframe tbody tr th:only-of-type {\n",
              "        vertical-align: middle;\n",
              "    }\n",
              "\n",
              "    .dataframe tbody tr th {\n",
              "        vertical-align: top;\n",
              "    }\n",
              "\n",
              "    .dataframe thead th {\n",
              "        text-align: right;\n",
              "    }\n",
              "</style>\n",
              "<table border=\"1\" class=\"dataframe\">\n",
              "  <thead>\n",
              "    <tr style=\"text-align: right;\">\n",
              "      <th></th>\n",
              "      <th>id</th>\n",
              "      <th>departure city</th>\n",
              "      <th>discount</th>\n",
              "      <th>price</th>\n",
              "      <th>no of items</th>\n",
              "      <th>location</th>\n",
              "      <th>class</th>\n",
              "      <th>segment</th>\n",
              "      <th>sub-class</th>\n",
              "      <th>delivery type</th>\n",
              "      <th>RID</th>\n",
              "      <th>profit</th>\n",
              "      <th>delivery date</th>\n",
              "      <th>address code</th>\n",
              "      <th>departure state</th>\n",
              "      <th>placement date</th>\n",
              "    </tr>\n",
              "  </thead>\n",
              "  <tbody>\n",
              "    <tr>\n",
              "      <th>0</th>\n",
              "      <td>1</td>\n",
              "      <td>Houston</td>\n",
              "      <td>0.2</td>\n",
              "      <td>16.448</td>\n",
              "      <td>2</td>\n",
              "      <td>Central</td>\n",
              "      <td>kariox</td>\n",
              "      <td>Consumer</td>\n",
              "      <td>phone</td>\n",
              "      <td>Standard Class</td>\n",
              "      <td>7981</td>\n",
              "      <td>5.5512</td>\n",
              "      <td>2018-01-01</td>\n",
              "      <td>77095</td>\n",
              "      <td>Texas</td>\n",
              "      <td>2018-01-01</td>\n",
              "    </tr>\n",
              "    <tr>\n",
              "      <th>1</th>\n",
              "      <td>2</td>\n",
              "      <td>Westland</td>\n",
              "      <td>0.0</td>\n",
              "      <td>29.700</td>\n",
              "      <td>5</td>\n",
              "      <td>Central</td>\n",
              "      <td>kariox</td>\n",
              "      <td>Consumer</td>\n",
              "      <td>headset</td>\n",
              "      <td>Standard Class</td>\n",
              "      <td>6334</td>\n",
              "      <td>13.3650</td>\n",
              "      <td>2018-01-01</td>\n",
              "      <td>48185</td>\n",
              "      <td>Michigan</td>\n",
              "      <td>2018-01-01</td>\n",
              "    </tr>\n",
              "    <tr>\n",
              "      <th>2</th>\n",
              "      <td>3</td>\n",
              "      <td>Westland</td>\n",
              "      <td>0.0</td>\n",
              "      <td>14.730</td>\n",
              "      <td>3</td>\n",
              "      <td>Central</td>\n",
              "      <td>qexty</td>\n",
              "      <td>Consumer</td>\n",
              "      <td>shorts</td>\n",
              "      <td>Standard Class</td>\n",
              "      <td>6333</td>\n",
              "      <td>4.8609</td>\n",
              "      <td>2018-01-01</td>\n",
              "      <td>48185</td>\n",
              "      <td>Michigan</td>\n",
              "      <td>2018-01-01</td>\n",
              "    </tr>\n",
              "    <tr>\n",
              "      <th>3</th>\n",
              "      <td>4</td>\n",
              "      <td>Westland</td>\n",
              "      <td>0.0</td>\n",
              "      <td>43.920</td>\n",
              "      <td>3</td>\n",
              "      <td>Central</td>\n",
              "      <td>kariox</td>\n",
              "      <td>Consumer</td>\n",
              "      <td>television</td>\n",
              "      <td>Standard Class</td>\n",
              "      <td>6332</td>\n",
              "      <td>12.7368</td>\n",
              "      <td>2018-01-01</td>\n",
              "      <td>48185</td>\n",
              "      <td>Michigan</td>\n",
              "      <td>2018-01-01</td>\n",
              "    </tr>\n",
              "    <tr>\n",
              "      <th>4</th>\n",
              "      <td>5</td>\n",
              "      <td>Westland</td>\n",
              "      <td>0.0</td>\n",
              "      <td>66.580</td>\n",
              "      <td>2</td>\n",
              "      <td>Central</td>\n",
              "      <td>kariox</td>\n",
              "      <td>Consumer</td>\n",
              "      <td>laptop</td>\n",
              "      <td>Standard Class</td>\n",
              "      <td>6331</td>\n",
              "      <td>15.9792</td>\n",
              "      <td>2018-01-01</td>\n",
              "      <td>48185</td>\n",
              "      <td>Michigan</td>\n",
              "      <td>2018-01-01</td>\n",
              "    </tr>\n",
              "  </tbody>\n",
              "</table>\n",
              "</div>"
            ],
            "text/plain": [
              "   id departure city  discount  ...  address code  departure state placement date\n",
              "0   1        Houston       0.2  ...         77095            Texas     2018-01-01\n",
              "1   2       Westland       0.0  ...         48185         Michigan     2018-01-01\n",
              "2   3       Westland       0.0  ...         48185         Michigan     2018-01-01\n",
              "3   4       Westland       0.0  ...         48185         Michigan     2018-01-01\n",
              "4   5       Westland       0.0  ...         48185         Michigan     2018-01-01\n",
              "\n",
              "[5 rows x 16 columns]"
            ]
          },
          "metadata": {
            "tags": []
          },
          "execution_count": 421
        }
      ]
    },
    {
      "cell_type": "code",
      "metadata": {
        "colab": {
          "base_uri": "https://localhost:8080/",
          "height": 316
        },
        "id": "jVUEDjwd5Qg0",
        "outputId": "ef2e8719-b825-44f4-8d43-e8c6f2e1d6f0"
      },
      "source": [
        "df.tail()"
      ],
      "execution_count": null,
      "outputs": [
        {
          "output_type": "execute_result",
          "data": {
            "text/html": [
              "<div>\n",
              "<style scoped>\n",
              "    .dataframe tbody tr th:only-of-type {\n",
              "        vertical-align: middle;\n",
              "    }\n",
              "\n",
              "    .dataframe tbody tr th {\n",
              "        vertical-align: top;\n",
              "    }\n",
              "\n",
              "    .dataframe thead th {\n",
              "        text-align: right;\n",
              "    }\n",
              "</style>\n",
              "<table border=\"1\" class=\"dataframe\">\n",
              "  <thead>\n",
              "    <tr style=\"text-align: right;\">\n",
              "      <th></th>\n",
              "      <th>id</th>\n",
              "      <th>departure city</th>\n",
              "      <th>discount</th>\n",
              "      <th>price</th>\n",
              "      <th>no of items</th>\n",
              "      <th>location</th>\n",
              "      <th>class</th>\n",
              "      <th>segment</th>\n",
              "      <th>sub-class</th>\n",
              "      <th>delivery type</th>\n",
              "      <th>RID</th>\n",
              "      <th>profit</th>\n",
              "      <th>delivery date</th>\n",
              "      <th>address code</th>\n",
              "      <th>departure state</th>\n",
              "      <th>placement date</th>\n",
              "    </tr>\n",
              "  </thead>\n",
              "  <tbody>\n",
              "    <tr>\n",
              "      <th>6695</th>\n",
              "      <td>6696</td>\n",
              "      <td>Burlington</td>\n",
              "      <td>0.0</td>\n",
              "      <td>542.940</td>\n",
              "      <td>3</td>\n",
              "      <td>East</td>\n",
              "      <td>kariox</td>\n",
              "      <td>Consumer</td>\n",
              "      <td>battery</td>\n",
              "      <td>Standard Class</td>\n",
              "      <td>9389</td>\n",
              "      <td>152.0232</td>\n",
              "      <td>2021-01-01</td>\n",
              "      <td>5408</td>\n",
              "      <td>Vermont</td>\n",
              "      <td>2021-01-01</td>\n",
              "    </tr>\n",
              "    <tr>\n",
              "      <th>6696</th>\n",
              "      <td>6697</td>\n",
              "      <td>San Jose</td>\n",
              "      <td>0.2</td>\n",
              "      <td>276.784</td>\n",
              "      <td>2</td>\n",
              "      <td>West</td>\n",
              "      <td>kariox</td>\n",
              "      <td>Corporate</td>\n",
              "      <td>headset</td>\n",
              "      <td>Standard Class</td>\n",
              "      <td>9597</td>\n",
              "      <td>89.9548</td>\n",
              "      <td>2021-01-01</td>\n",
              "      <td>95123</td>\n",
              "      <td>California</td>\n",
              "      <td>2021-01-01</td>\n",
              "    </tr>\n",
              "    <tr>\n",
              "      <th>6697</th>\n",
              "      <td>6698</td>\n",
              "      <td>Burlington</td>\n",
              "      <td>0.0</td>\n",
              "      <td>2.040</td>\n",
              "      <td>1</td>\n",
              "      <td>East</td>\n",
              "      <td>kariox</td>\n",
              "      <td>Consumer</td>\n",
              "      <td>watch</td>\n",
              "      <td>Standard Class</td>\n",
              "      <td>9390</td>\n",
              "      <td>0.9588</td>\n",
              "      <td>2021-01-01</td>\n",
              "      <td>5408</td>\n",
              "      <td>Vermont</td>\n",
              "      <td>2021-01-01</td>\n",
              "    </tr>\n",
              "    <tr>\n",
              "      <th>6698</th>\n",
              "      <td>6699</td>\n",
              "      <td>New York City</td>\n",
              "      <td>0.1</td>\n",
              "      <td>207.846</td>\n",
              "      <td>3</td>\n",
              "      <td>East</td>\n",
              "      <td>qexty</td>\n",
              "      <td>Corporate</td>\n",
              "      <td>tshirts</td>\n",
              "      <td>Second Class</td>\n",
              "      <td>440</td>\n",
              "      <td>2.3094</td>\n",
              "      <td>2021-01-01</td>\n",
              "      <td>10024</td>\n",
              "      <td>New York</td>\n",
              "      <td>2021-01-01</td>\n",
              "    </tr>\n",
              "    <tr>\n",
              "      <th>6699</th>\n",
              "      <td>6700</td>\n",
              "      <td>Los Angeles</td>\n",
              "      <td>0.2</td>\n",
              "      <td>160.776</td>\n",
              "      <td>3</td>\n",
              "      <td>West</td>\n",
              "      <td>fynota</td>\n",
              "      <td>Consumer</td>\n",
              "      <td>colddrinks</td>\n",
              "      <td>Standard Class</td>\n",
              "      <td>1659</td>\n",
              "      <td>10.0485</td>\n",
              "      <td>2021-01-01</td>\n",
              "      <td>90045</td>\n",
              "      <td>California</td>\n",
              "      <td>2021-01-01</td>\n",
              "    </tr>\n",
              "  </tbody>\n",
              "</table>\n",
              "</div>"
            ],
            "text/plain": [
              "        id departure city  ...  departure state  placement date\n",
              "6695  6696     Burlington  ...          Vermont      2021-01-01\n",
              "6696  6697       San Jose  ...       California      2021-01-01\n",
              "6697  6698     Burlington  ...          Vermont      2021-01-01\n",
              "6698  6699  New York City  ...         New York      2021-01-01\n",
              "6699  6700    Los Angeles  ...       California      2021-01-01\n",
              "\n",
              "[5 rows x 16 columns]"
            ]
          },
          "metadata": {
            "tags": []
          },
          "execution_count": 422
        }
      ]
    },
    {
      "cell_type": "code",
      "metadata": {
        "colab": {
          "base_uri": "https://localhost:8080/"
        },
        "id": "keKpH4735i4_",
        "outputId": "82497815-7f99-4491-ae83-e1a9c5c9fa7f"
      },
      "source": [
        "df.info()"
      ],
      "execution_count": null,
      "outputs": [
        {
          "output_type": "stream",
          "text": [
            "<class 'pandas.core.frame.DataFrame'>\n",
            "RangeIndex: 6700 entries, 0 to 6699\n",
            "Data columns (total 16 columns):\n",
            " #   Column           Non-Null Count  Dtype  \n",
            "---  ------           --------------  -----  \n",
            " 0   id               6700 non-null   int64  \n",
            " 1   departure city   6700 non-null   object \n",
            " 2   discount         6700 non-null   float64\n",
            " 3   price            6700 non-null   float64\n",
            " 4   no of items      6700 non-null   int64  \n",
            " 5   location         6700 non-null   object \n",
            " 6   class            6700 non-null   object \n",
            " 7   segment          6700 non-null   object \n",
            " 8   sub-class        6700 non-null   object \n",
            " 9   delivery type    6699 non-null   object \n",
            " 10  RID              6700 non-null   int64  \n",
            " 11  profit           6700 non-null   float64\n",
            " 12  delivery date    6700 non-null   object \n",
            " 13  address code     6700 non-null   int64  \n",
            " 14  departure state  6700 non-null   object \n",
            " 15  placement date   6700 non-null   object \n",
            "dtypes: float64(3), int64(4), object(9)\n",
            "memory usage: 837.6+ KB\n"
          ],
          "name": "stdout"
        }
      ]
    },
    {
      "cell_type": "code",
      "metadata": {
        "colab": {
          "base_uri": "https://localhost:8080/",
          "height": 284
        },
        "id": "f220eOCfbFzx",
        "outputId": "8d4c8168-8c30-4173-8a12-34c61be26847"
      },
      "source": [
        "df.describe()"
      ],
      "execution_count": null,
      "outputs": [
        {
          "output_type": "execute_result",
          "data": {
            "text/html": [
              "<div>\n",
              "<style scoped>\n",
              "    .dataframe tbody tr th:only-of-type {\n",
              "        vertical-align: middle;\n",
              "    }\n",
              "\n",
              "    .dataframe tbody tr th {\n",
              "        vertical-align: top;\n",
              "    }\n",
              "\n",
              "    .dataframe thead th {\n",
              "        text-align: right;\n",
              "    }\n",
              "</style>\n",
              "<table border=\"1\" class=\"dataframe\">\n",
              "  <thead>\n",
              "    <tr style=\"text-align: right;\">\n",
              "      <th></th>\n",
              "      <th>id</th>\n",
              "      <th>discount</th>\n",
              "      <th>price</th>\n",
              "      <th>no of items</th>\n",
              "      <th>RID</th>\n",
              "      <th>profit</th>\n",
              "      <th>address code</th>\n",
              "    </tr>\n",
              "  </thead>\n",
              "  <tbody>\n",
              "    <tr>\n",
              "      <th>count</th>\n",
              "      <td>6700.000000</td>\n",
              "      <td>6700.000000</td>\n",
              "      <td>6700.000000</td>\n",
              "      <td>6700.000000</td>\n",
              "      <td>6700.000000</td>\n",
              "      <td>6700.000000</td>\n",
              "      <td>6700.000000</td>\n",
              "    </tr>\n",
              "    <tr>\n",
              "      <th>mean</th>\n",
              "      <td>3350.500000</td>\n",
              "      <td>0.155876</td>\n",
              "      <td>234.424275</td>\n",
              "      <td>3.798507</td>\n",
              "      <td>4954.381791</td>\n",
              "      <td>29.121046</td>\n",
              "      <td>54719.073284</td>\n",
              "    </tr>\n",
              "    <tr>\n",
              "      <th>std</th>\n",
              "      <td>1934.267734</td>\n",
              "      <td>0.205922</td>\n",
              "      <td>641.440815</td>\n",
              "      <td>2.225327</td>\n",
              "      <td>2921.304952</td>\n",
              "      <td>230.712951</td>\n",
              "      <td>32092.421012</td>\n",
              "    </tr>\n",
              "    <tr>\n",
              "      <th>min</th>\n",
              "      <td>1.000000</td>\n",
              "      <td>0.000000</td>\n",
              "      <td>0.836000</td>\n",
              "      <td>1.000000</td>\n",
              "      <td>1.000000</td>\n",
              "      <td>-6599.978000</td>\n",
              "      <td>1040.000000</td>\n",
              "    </tr>\n",
              "    <tr>\n",
              "      <th>25%</th>\n",
              "      <td>1675.750000</td>\n",
              "      <td>0.000000</td>\n",
              "      <td>17.340000</td>\n",
              "      <td>2.000000</td>\n",
              "      <td>2389.750000</td>\n",
              "      <td>1.713750</td>\n",
              "      <td>22204.000000</td>\n",
              "    </tr>\n",
              "    <tr>\n",
              "      <th>50%</th>\n",
              "      <td>3350.500000</td>\n",
              "      <td>0.200000</td>\n",
              "      <td>54.960000</td>\n",
              "      <td>3.000000</td>\n",
              "      <td>4941.500000</td>\n",
              "      <td>8.803200</td>\n",
              "      <td>55113.000000</td>\n",
              "    </tr>\n",
              "    <tr>\n",
              "      <th>75%</th>\n",
              "      <td>5025.250000</td>\n",
              "      <td>0.200000</td>\n",
              "      <td>212.940000</td>\n",
              "      <td>5.000000</td>\n",
              "      <td>7507.250000</td>\n",
              "      <td>30.023400</td>\n",
              "      <td>90004.000000</td>\n",
              "    </tr>\n",
              "    <tr>\n",
              "      <th>max</th>\n",
              "      <td>6700.000000</td>\n",
              "      <td>0.800000</td>\n",
              "      <td>22638.480000</td>\n",
              "      <td>14.000000</td>\n",
              "      <td>9990.000000</td>\n",
              "      <td>8399.976000</td>\n",
              "      <td>99301.000000</td>\n",
              "    </tr>\n",
              "  </tbody>\n",
              "</table>\n",
              "</div>"
            ],
            "text/plain": [
              "                id     discount  ...       profit  address code\n",
              "count  6700.000000  6700.000000  ...  6700.000000   6700.000000\n",
              "mean   3350.500000     0.155876  ...    29.121046  54719.073284\n",
              "std    1934.267734     0.205922  ...   230.712951  32092.421012\n",
              "min       1.000000     0.000000  ... -6599.978000   1040.000000\n",
              "25%    1675.750000     0.000000  ...     1.713750  22204.000000\n",
              "50%    3350.500000     0.200000  ...     8.803200  55113.000000\n",
              "75%    5025.250000     0.200000  ...    30.023400  90004.000000\n",
              "max    6700.000000     0.800000  ...  8399.976000  99301.000000\n",
              "\n",
              "[8 rows x 7 columns]"
            ]
          },
          "metadata": {
            "tags": []
          },
          "execution_count": 424
        }
      ]
    },
    {
      "cell_type": "code",
      "metadata": {
        "colab": {
          "base_uri": "https://localhost:8080/"
        },
        "id": "Bem5uMO15kHT",
        "outputId": "e1fcb23b-ba06-4c4d-e37c-a84dd062f069"
      },
      "source": [
        "len(df['address code'].unique())"
      ],
      "execution_count": null,
      "outputs": [
        {
          "output_type": "execute_result",
          "data": {
            "text/plain": [
              "562"
            ]
          },
          "metadata": {
            "tags": []
          },
          "execution_count": 425
        }
      ]
    },
    {
      "cell_type": "code",
      "metadata": {
        "colab": {
          "base_uri": "https://localhost:8080/"
        },
        "id": "XwjllutOFtc6",
        "outputId": "5a6abd08-d534-4b3a-d347-fa577c71f06f"
      },
      "source": [
        "df_test.shape"
      ],
      "execution_count": null,
      "outputs": [
        {
          "output_type": "execute_result",
          "data": {
            "text/plain": [
              "(3294, 15)"
            ]
          },
          "metadata": {
            "tags": []
          },
          "execution_count": 426
        }
      ]
    },
    {
      "cell_type": "code",
      "metadata": {
        "colab": {
          "base_uri": "https://localhost:8080/",
          "height": 333
        },
        "id": "I2TmN0SqbfJN",
        "outputId": "5cba934b-e3db-445d-fb2a-eb5567862f8e"
      },
      "source": [
        "sns.distplot(df['profit'])\n",
        "plt.show()"
      ],
      "execution_count": null,
      "outputs": [
        {
          "output_type": "stream",
          "text": [
            "/usr/local/lib/python3.7/dist-packages/seaborn/distributions.py:2557: FutureWarning: `distplot` is a deprecated function and will be removed in a future version. Please adapt your code to use either `displot` (a figure-level function with similar flexibility) or `histplot` (an axes-level function for histograms).\n",
            "  warnings.warn(msg, FutureWarning)\n"
          ],
          "name": "stderr"
        },
        {
          "output_type": "display_data",
          "data": {
            "image/png": "[encoded data removed]",
            "text/plain": [
              "<Figure size 432x288 with 1 Axes>"
            ]
          },
          "metadata": {
            "tags": [],
            "needs_background": "light"
          }
        }
      ]
    },
    {
      "cell_type": "markdown",
      "metadata": {
        "id": "Xeov2w7Fcf53"
      },
      "source": [
        "# **EDA**"
      ]
    },
    {
      "cell_type": "code",
      "metadata": {
        "id": "8dA_H39kFCI1"
      },
      "source": [
        "df['placement date']=pd.to_datetime(df['placement date'])"
      ],
      "execution_count": null,
      "outputs": []
    },
    {
      "cell_type": "code",
      "metadata": {
        "id": "WWGE5kRKFqoY"
      },
      "source": [
        "df_test['placement date']=pd.to_datetime(df_test['placement date'])"
      ],
      "execution_count": null,
      "outputs": []
    },
    {
      "cell_type": "code",
      "metadata": {
        "colab": {
          "base_uri": "https://localhost:8080/",
          "height": 195
        },
        "id": "8mm14DHLF4oV",
        "outputId": "4da3c15c-6252-46c0-c1b3-8f1ae652be03"
      },
      "source": [
        "df['month'] = df['placement date'].dt.month\n",
        "df[['placement date','month']].head()"
      ],
      "execution_count": null,
      "outputs": [
        {
          "output_type": "execute_result",
          "data": {
            "text/html": [
              "<div>\n",
              "<style scoped>\n",
              "    .dataframe tbody tr th:only-of-type {\n",
              "        vertical-align: middle;\n",
              "    }\n",
              "\n",
              "    .dataframe tbody tr th {\n",
              "        vertical-align: top;\n",
              "    }\n",
              "\n",
              "    .dataframe thead th {\n",
              "        text-align: right;\n",
              "    }\n",
              "</style>\n",
              "<table border=\"1\" class=\"dataframe\">\n",
              "  <thead>\n",
              "    <tr style=\"text-align: right;\">\n",
              "      <th></th>\n",
              "      <th>placement date</th>\n",
              "      <th>month</th>\n",
              "    </tr>\n",
              "  </thead>\n",
              "  <tbody>\n",
              "    <tr>\n",
              "      <th>0</th>\n",
              "      <td>2018-01-01</td>\n",
              "      <td>1</td>\n",
              "    </tr>\n",
              "    <tr>\n",
              "      <th>1</th>\n",
              "      <td>2018-01-01</td>\n",
              "      <td>1</td>\n",
              "    </tr>\n",
              "    <tr>\n",
              "      <th>2</th>\n",
              "      <td>2018-01-01</td>\n",
              "      <td>1</td>\n",
              "    </tr>\n",
              "    <tr>\n",
              "      <th>3</th>\n",
              "      <td>2018-01-01</td>\n",
              "      <td>1</td>\n",
              "    </tr>\n",
              "    <tr>\n",
              "      <th>4</th>\n",
              "      <td>2018-01-01</td>\n",
              "      <td>1</td>\n",
              "    </tr>\n",
              "  </tbody>\n",
              "</table>\n",
              "</div>"
            ],
            "text/plain": [
              "  placement date  month\n",
              "0     2018-01-01      1\n",
              "1     2018-01-01      1\n",
              "2     2018-01-01      1\n",
              "3     2018-01-01      1\n",
              "4     2018-01-01      1"
            ]
          },
          "metadata": {
            "tags": []
          },
          "execution_count": 430
        }
      ]
    },
    {
      "cell_type": "code",
      "metadata": {
        "colab": {
          "base_uri": "https://localhost:8080/",
          "height": 195
        },
        "id": "bjiwYMCJGUG1",
        "outputId": "84be4ce0-490f-4612-c47e-e93159b43589"
      },
      "source": [
        "df_test['month'] = df_test['placement date'].dt.month\n",
        "df_test[['placement date','month']].head()"
      ],
      "execution_count": null,
      "outputs": [
        {
          "output_type": "execute_result",
          "data": {
            "text/html": [
              "<div>\n",
              "<style scoped>\n",
              "    .dataframe tbody tr th:only-of-type {\n",
              "        vertical-align: middle;\n",
              "    }\n",
              "\n",
              "    .dataframe tbody tr th {\n",
              "        vertical-align: top;\n",
              "    }\n",
              "\n",
              "    .dataframe thead th {\n",
              "        text-align: right;\n",
              "    }\n",
              "</style>\n",
              "<table border=\"1\" class=\"dataframe\">\n",
              "  <thead>\n",
              "    <tr style=\"text-align: right;\">\n",
              "      <th></th>\n",
              "      <th>placement date</th>\n",
              "      <th>month</th>\n",
              "    </tr>\n",
              "  </thead>\n",
              "  <tbody>\n",
              "    <tr>\n",
              "      <th>0</th>\n",
              "      <td>2021-01-01</td>\n",
              "      <td>1</td>\n",
              "    </tr>\n",
              "    <tr>\n",
              "      <th>1</th>\n",
              "      <td>2021-01-01</td>\n",
              "      <td>1</td>\n",
              "    </tr>\n",
              "    <tr>\n",
              "      <th>2</th>\n",
              "      <td>2021-01-01</td>\n",
              "      <td>1</td>\n",
              "    </tr>\n",
              "    <tr>\n",
              "      <th>3</th>\n",
              "      <td>2021-01-01</td>\n",
              "      <td>1</td>\n",
              "    </tr>\n",
              "    <tr>\n",
              "      <th>4</th>\n",
              "      <td>2021-01-01</td>\n",
              "      <td>1</td>\n",
              "    </tr>\n",
              "  </tbody>\n",
              "</table>\n",
              "</div>"
            ],
            "text/plain": [
              "  placement date  month\n",
              "0     2021-01-01      1\n",
              "1     2021-01-01      1\n",
              "2     2021-01-01      1\n",
              "3     2021-01-01      1\n",
              "4     2021-01-01      1"
            ]
          },
          "metadata": {
            "tags": []
          },
          "execution_count": 431
        }
      ]
    },
    {
      "cell_type": "code",
      "metadata": {
        "colab": {
          "base_uri": "https://localhost:8080/",
          "height": 195
        },
        "id": "0YCLpRkNF5up",
        "outputId": "9359b517-a73c-4060-935c-f709bdad9388"
      },
      "source": [
        "df['quarter'] = df['placement date'].dt.quarter\n",
        "df[['placement date','quarter']].head()"
      ],
      "execution_count": null,
      "outputs": [
        {
          "output_type": "execute_result",
          "data": {
            "text/html": [
              "<div>\n",
              "<style scoped>\n",
              "    .dataframe tbody tr th:only-of-type {\n",
              "        vertical-align: middle;\n",
              "    }\n",
              "\n",
              "    .dataframe tbody tr th {\n",
              "        vertical-align: top;\n",
              "    }\n",
              "\n",
              "    .dataframe thead th {\n",
              "        text-align: right;\n",
              "    }\n",
              "</style>\n",
              "<table border=\"1\" class=\"dataframe\">\n",
              "  <thead>\n",
              "    <tr style=\"text-align: right;\">\n",
              "      <th></th>\n",
              "      <th>placement date</th>\n",
              "      <th>quarter</th>\n",
              "    </tr>\n",
              "  </thead>\n",
              "  <tbody>\n",
              "    <tr>\n",
              "      <th>0</th>\n",
              "      <td>2018-01-01</td>\n",
              "      <td>1</td>\n",
              "    </tr>\n",
              "    <tr>\n",
              "      <th>1</th>\n",
              "      <td>2018-01-01</td>\n",
              "      <td>1</td>\n",
              "    </tr>\n",
              "    <tr>\n",
              "      <th>2</th>\n",
              "      <td>2018-01-01</td>\n",
              "      <td>1</td>\n",
              "    </tr>\n",
              "    <tr>\n",
              "      <th>3</th>\n",
              "      <td>2018-01-01</td>\n",
              "      <td>1</td>\n",
              "    </tr>\n",
              "    <tr>\n",
              "      <th>4</th>\n",
              "      <td>2018-01-01</td>\n",
              "      <td>1</td>\n",
              "    </tr>\n",
              "  </tbody>\n",
              "</table>\n",
              "</div>"
            ],
            "text/plain": [
              "  placement date  quarter\n",
              "0     2018-01-01        1\n",
              "1     2018-01-01        1\n",
              "2     2018-01-01        1\n",
              "3     2018-01-01        1\n",
              "4     2018-01-01        1"
            ]
          },
          "metadata": {
            "tags": []
          },
          "execution_count": 432
        }
      ]
    },
    {
      "cell_type": "code",
      "metadata": {
        "colab": {
          "base_uri": "https://localhost:8080/",
          "height": 195
        },
        "id": "HlQYB_pHGqSY",
        "outputId": "1f115af1-f79b-452e-c558-5e2b516e92eb"
      },
      "source": [
        "df_test['quarter'] = df_test['placement date'].dt.quarter\n",
        "df_test[['placement date','quarter']].head()"
      ],
      "execution_count": null,
      "outputs": [
        {
          "output_type": "execute_result",
          "data": {
            "text/html": [
              "<div>\n",
              "<style scoped>\n",
              "    .dataframe tbody tr th:only-of-type {\n",
              "        vertical-align: middle;\n",
              "    }\n",
              "\n",
              "    .dataframe tbody tr th {\n",
              "        vertical-align: top;\n",
              "    }\n",
              "\n",
              "    .dataframe thead th {\n",
              "        text-align: right;\n",
              "    }\n",
              "</style>\n",
              "<table border=\"1\" class=\"dataframe\">\n",
              "  <thead>\n",
              "    <tr style=\"text-align: right;\">\n",
              "      <th></th>\n",
              "      <th>placement date</th>\n",
              "      <th>quarter</th>\n",
              "    </tr>\n",
              "  </thead>\n",
              "  <tbody>\n",
              "    <tr>\n",
              "      <th>0</th>\n",
              "      <td>2021-01-01</td>\n",
              "      <td>1</td>\n",
              "    </tr>\n",
              "    <tr>\n",
              "      <th>1</th>\n",
              "      <td>2021-01-01</td>\n",
              "      <td>1</td>\n",
              "    </tr>\n",
              "    <tr>\n",
              "      <th>2</th>\n",
              "      <td>2021-01-01</td>\n",
              "      <td>1</td>\n",
              "    </tr>\n",
              "    <tr>\n",
              "      <th>3</th>\n",
              "      <td>2021-01-01</td>\n",
              "      <td>1</td>\n",
              "    </tr>\n",
              "    <tr>\n",
              "      <th>4</th>\n",
              "      <td>2021-01-01</td>\n",
              "      <td>1</td>\n",
              "    </tr>\n",
              "  </tbody>\n",
              "</table>\n",
              "</div>"
            ],
            "text/plain": [
              "  placement date  quarter\n",
              "0     2021-01-01        1\n",
              "1     2021-01-01        1\n",
              "2     2021-01-01        1\n",
              "3     2021-01-01        1\n",
              "4     2021-01-01        1"
            ]
          },
          "metadata": {
            "tags": []
          },
          "execution_count": 433
        }
      ]
    },
    {
      "cell_type": "code",
      "metadata": {
        "id": "oheeliCTI4aP"
      },
      "source": [
        "df=df.drop(['placement date'],axis=1)\n",
        "df_test=df_test.drop(['placement date'],axis=1)"
      ],
      "execution_count": null,
      "outputs": []
    },
    {
      "cell_type": "code",
      "metadata": {
        "colab": {
          "base_uri": "https://localhost:8080/"
        },
        "id": "1GnHKcZBJShu",
        "outputId": "e6779c84-4af8-47fd-83bb-eb6478dc66f9"
      },
      "source": [
        "df.columns"
      ],
      "execution_count": null,
      "outputs": [
        {
          "output_type": "execute_result",
          "data": {
            "text/plain": [
              "Index(['id', 'departure city', 'discount', 'price', 'no of items', 'location',\n",
              "       'class', 'segment', 'sub-class', 'delivery type', 'RID', 'profit',\n",
              "       'delivery date', 'address code', 'departure state', 'month', 'quarter'],\n",
              "      dtype='object')"
            ]
          },
          "metadata": {
            "tags": []
          },
          "execution_count": 435
        }
      ]
    },
    {
      "cell_type": "markdown",
      "metadata": {
        "id": "6HhSsxH7cVQL"
      },
      "source": [
        "## ***Departure city***"
      ]
    },
    {
      "cell_type": "code",
      "metadata": {
        "colab": {
          "base_uri": "https://localhost:8080/"
        },
        "id": "HDM-3JB_50ot",
        "outputId": "3ef94978-aa2a-46c0-8754-aa4bd4f9fe0c"
      },
      "source": [
        "len(df['departure city'].unique())"
      ],
      "execution_count": null,
      "outputs": [
        {
          "output_type": "execute_result",
          "data": {
            "text/plain": [
              "469"
            ]
          },
          "metadata": {
            "tags": []
          },
          "execution_count": 436
        }
      ]
    },
    {
      "cell_type": "code",
      "metadata": {
        "colab": {
          "base_uri": "https://localhost:8080/"
        },
        "id": "r0FNiJ38-VqR",
        "outputId": "b5037b30-6fb9-453f-8092-288177ec3ed3"
      },
      "source": [
        "df['departure city'].describe()"
      ],
      "execution_count": null,
      "outputs": [
        {
          "output_type": "execute_result",
          "data": {
            "text/plain": [
              "count              6700\n",
              "unique              469\n",
              "top       New York City\n",
              "freq                610\n",
              "Name: departure city, dtype: object"
            ]
          },
          "metadata": {
            "tags": []
          },
          "execution_count": 437
        }
      ]
    },
    {
      "cell_type": "code",
      "metadata": {
        "colab": {
          "base_uri": "https://localhost:8080/",
          "height": 333
        },
        "id": "ZdrYsOTjJ41e",
        "outputId": "83fc9df6-7362-45a8-ced0-be6de86511ca"
      },
      "source": [
        "#Categorical data will need encoding. Handle later\n",
        "sns.scatterplot(df['departure city'],df['profit'])\n",
        "plt.show()"
      ],
      "execution_count": null,
      "outputs": [
        {
          "output_type": "stream",
          "text": [
            "/usr/local/lib/python3.7/dist-packages/seaborn/_decorators.py:43: FutureWarning: Pass the following variables as keyword args: x, y. From version 0.12, the only valid positional argument will be `data`, and passing other arguments without an explicit keyword will result in an error or misinterpretation.\n",
            "  FutureWarning\n"
          ],
          "name": "stderr"
        },
        {
          "output_type": "display_data",
          "data": {
            "image/png": "[encoded data removed]",
            "text/plain": [
              "<Figure size 432x288 with 1 Axes>"
            ]
          },
          "metadata": {
            "tags": [],
            "needs_background": "light"
          }
        }
      ]
    },
    {
      "cell_type": "markdown",
      "metadata": {
        "id": "JoN5gqmmKfKb"
      },
      "source": [
        "## **Price**(skewed)"
      ]
    },
    {
      "cell_type": "code",
      "metadata": {
        "colab": {
          "base_uri": "https://localhost:8080/"
        },
        "id": "_jatxUSoIS-u",
        "outputId": "fbc86614-e260-4a78-afed-e59bc4360933"
      },
      "source": [
        "df['price'].describe()"
      ],
      "execution_count": null,
      "outputs": [
        {
          "output_type": "execute_result",
          "data": {
            "text/plain": [
              "count     6700.000000\n",
              "mean       234.424275\n",
              "std        641.440815\n",
              "min          0.836000\n",
              "25%         17.340000\n",
              "50%         54.960000\n",
              "75%        212.940000\n",
              "max      22638.480000\n",
              "Name: price, dtype: float64"
            ]
          },
          "metadata": {
            "tags": []
          },
          "execution_count": 439
        }
      ]
    },
    {
      "cell_type": "markdown",
      "metadata": {
        "id": "aryhxCDQI66b"
      },
      "source": [
        "int continuous = box plot, scatter plot, remove outliers.\n",
        "float continous = box plot, scatter plot, remove outliers.\n",
        "object = barplot, catplot, stacked bar graph. missing values.\n",
        "categorical missing values = mode.\n",
        "int,float but categorical = = barplot, catplot, stacked bar graph. missing values.\n",
        "search feature engineering and (extraction)\n",
        "linear regression implementation through sklearn"
      ]
    },
    {
      "cell_type": "code",
      "metadata": {
        "colab": {
          "base_uri": "https://localhost:8080/"
        },
        "id": "qJ_TEUf6KvUJ",
        "outputId": "a68ffaa5-cb03-4948-ece5-50ab9812ee35"
      },
      "source": [
        "df['price'].isnull().sum()"
      ],
      "execution_count": null,
      "outputs": [
        {
          "output_type": "execute_result",
          "data": {
            "text/plain": [
              "0"
            ]
          },
          "metadata": {
            "tags": []
          },
          "execution_count": 440
        }
      ]
    },
    {
      "cell_type": "code",
      "metadata": {
        "colab": {
          "base_uri": "https://localhost:8080/",
          "height": 333
        },
        "id": "JiVR1zVgK1Uo",
        "outputId": "81c57e56-9c6e-4289-bb0d-f724c84ecf38"
      },
      "source": [
        "sns.distplot(df['price'])\n",
        "plt.show()"
      ],
      "execution_count": null,
      "outputs": [
        {
          "output_type": "stream",
          "text": [
            "/usr/local/lib/python3.7/dist-packages/seaborn/distributions.py:2557: FutureWarning: `distplot` is a deprecated function and will be removed in a future version. Please adapt your code to use either `displot` (a figure-level function with similar flexibility) or `histplot` (an axes-level function for histograms).\n",
            "  warnings.warn(msg, FutureWarning)\n"
          ],
          "name": "stderr"
        },
        {
          "output_type": "display_data",
          "data": {
            "image/png": "[encoded data removed]",
            "text/plain": [
              "<Figure size 432x288 with 1 Axes>"
            ]
          },
          "metadata": {
            "tags": [],
            "needs_background": "light"
          }
        }
      ]
    },
    {
      "cell_type": "code",
      "metadata": {
        "colab": {
          "base_uri": "https://localhost:8080/",
          "height": 252
        },
        "id": "2lxc9DQ19iL8",
        "outputId": "2f3f2e43-2fa2-486d-af12-e8b359612646"
      },
      "source": [
        "sns.boxplot(y= df['price'])\n",
        "plt.show()"
      ],
      "execution_count": null,
      "outputs": [
        {
          "output_type": "display_data",
          "data": {
            "image/png": "[encoded data removed]",
            "text/plain": [
              "<Figure size 432x288 with 1 Axes>"
            ]
          },
          "metadata": {
            "tags": [],
            "needs_background": "light"
          }
        }
      ]
    },
    {
      "cell_type": "code",
      "metadata": {
        "colab": {
          "base_uri": "https://localhost:8080/",
          "height": 333
        },
        "id": "e6FWsO7jMjfy",
        "outputId": "49779ce6-7882-4d2b-e21a-af97904ae8ad"
      },
      "source": [
        "sns.scatterplot(df['price'],df['profit'])\n",
        "plt.show()"
      ],
      "execution_count": null,
      "outputs": [
        {
          "output_type": "stream",
          "text": [
            "/usr/local/lib/python3.7/dist-packages/seaborn/_decorators.py:43: FutureWarning: Pass the following variables as keyword args: x, y. From version 0.12, the only valid positional argument will be `data`, and passing other arguments without an explicit keyword will result in an error or misinterpretation.\n",
            "  FutureWarning\n"
          ],
          "name": "stderr"
        },
        {
          "output_type": "display_data",
          "data": {
            "image/png": "[encoded data removed]",
            "text/plain": [
              "<Figure size 432x288 with 1 Axes>"
            ]
          },
          "metadata": {
            "tags": [],
            "needs_background": "light"
          }
        }
      ]
    },
    {
      "cell_type": "markdown",
      "metadata": {
        "id": "KtMl-XwiQ286"
      },
      "source": [
        "## **no of items**"
      ]
    },
    {
      "cell_type": "code",
      "metadata": {
        "colab": {
          "base_uri": "https://localhost:8080/"
        },
        "id": "aDYo8Xz1CPts",
        "outputId": "0f44eee2-e37d-427a-b095-8d92ef644503"
      },
      "source": [
        "df['no of items'].describe()"
      ],
      "execution_count": null,
      "outputs": [
        {
          "output_type": "execute_result",
          "data": {
            "text/plain": [
              "count    6700.000000\n",
              "mean        3.798507\n",
              "std         2.225327\n",
              "min         1.000000\n",
              "25%         2.000000\n",
              "50%         3.000000\n",
              "75%         5.000000\n",
              "max        14.000000\n",
              "Name: no of items, dtype: float64"
            ]
          },
          "metadata": {
            "tags": []
          },
          "execution_count": 444
        }
      ]
    },
    {
      "cell_type": "code",
      "metadata": {
        "colab": {
          "base_uri": "https://localhost:8080/",
          "height": 333
        },
        "id": "PcSshVdyDlil",
        "outputId": "4e31aa87-4eab-4b3c-d4d2-95a8dd545b89"
      },
      "source": [
        "sns.distplot(df['no of items'])\n",
        "plt.show()"
      ],
      "execution_count": null,
      "outputs": [
        {
          "output_type": "stream",
          "text": [
            "/usr/local/lib/python3.7/dist-packages/seaborn/distributions.py:2557: FutureWarning: `distplot` is a deprecated function and will be removed in a future version. Please adapt your code to use either `displot` (a figure-level function with similar flexibility) or `histplot` (an axes-level function for histograms).\n",
            "  warnings.warn(msg, FutureWarning)\n"
          ],
          "name": "stderr"
        },
        {
          "output_type": "display_data",
          "data": {
            "image/png": "[encoded data removed]",
            "text/plain": [
              "<Figure size 432x288 with 1 Axes>"
            ]
          },
          "metadata": {
            "tags": [],
            "needs_background": "light"
          }
        }
      ]
    },
    {
      "cell_type": "code",
      "metadata": {
        "colab": {
          "base_uri": "https://localhost:8080/",
          "height": 252
        },
        "id": "DOiSQ9cHFchs",
        "outputId": "7c3dc13d-278e-4573-b306-0ba529ddbf43"
      },
      "source": [
        "sns.boxplot(y = df['no of items'])\n",
        "plt.show()"
      ],
      "execution_count": null,
      "outputs": [
        {
          "output_type": "display_data",
          "data": {
            "image/png": "[encoded data removed]",
            "text/plain": [
              "<Figure size 432x288 with 1 Axes>"
            ]
          },
          "metadata": {
            "tags": [],
            "needs_background": "light"
          }
        }
      ]
    },
    {
      "cell_type": "code",
      "metadata": {
        "colab": {
          "base_uri": "https://localhost:8080/"
        },
        "id": "r9fk9GyCRWn8",
        "outputId": "b26d8e0f-5420-447d-ac95-cafad31b11b9"
      },
      "source": [
        "df['no of items'].unique()"
      ],
      "execution_count": null,
      "outputs": [
        {
          "output_type": "execute_result",
          "data": {
            "text/plain": [
              "array([ 2,  5,  3,  4,  1,  7,  6, 13,  8, 10,  9, 14, 12, 11])"
            ]
          },
          "metadata": {
            "tags": []
          },
          "execution_count": 447
        }
      ]
    },
    {
      "cell_type": "code",
      "metadata": {
        "colab": {
          "base_uri": "https://localhost:8080/",
          "height": 333
        },
        "id": "JJwqB-TTRq4B",
        "outputId": "d2eabfa5-96c8-42af-f8d0-a2a5ead80ddf"
      },
      "source": [
        "sns.barplot(df['no of items'],df['profit'])\n",
        "plt.show()"
      ],
      "execution_count": null,
      "outputs": [
        {
          "output_type": "stream",
          "text": [
            "/usr/local/lib/python3.7/dist-packages/seaborn/_decorators.py:43: FutureWarning: Pass the following variables as keyword args: x, y. From version 0.12, the only valid positional argument will be `data`, and passing other arguments without an explicit keyword will result in an error or misinterpretation.\n",
            "  FutureWarning\n"
          ],
          "name": "stderr"
        },
        {
          "output_type": "display_data",
          "data": {
            "image/png": "[encoded data removed]",
            "text/plain": [
              "<Figure size 432x288 with 1 Axes>"
            ]
          },
          "metadata": {
            "tags": [],
            "needs_background": "light"
          }
        }
      ]
    },
    {
      "cell_type": "code",
      "metadata": {
        "colab": {
          "base_uri": "https://localhost:8080/",
          "height": 336
        },
        "id": "7wv-fZNrSD5a",
        "outputId": "d716097f-8708-49aa-f400-3ae30e018ad2"
      },
      "source": [
        "fig = plt.figure()\n",
        "ax = fig.add_axes([0,0,1,1])\n",
        "ax.bar(df['no of items'],df['profit'])\n",
        "plt.show()"
      ],
      "execution_count": null,
      "outputs": [
        {
          "output_type": "display_data",
          "data": {
            "image/png": "[encoded data removed]",
            "text/plain": [
              "<Figure size 432x288 with 1 Axes>"
            ]
          },
          "metadata": {
            "tags": [],
            "needs_background": "light"
          }
        }
      ]
    },
    {
      "cell_type": "markdown",
      "metadata": {
        "id": "wHrwUJ_MS6JL"
      },
      "source": [
        "# **Discount**"
      ]
    },
    {
      "cell_type": "markdown",
      "metadata": {
        "id": "mVFEXXPEqpwc"
      },
      "source": [
        "# New Section"
      ]
    },
    {
      "cell_type": "code",
      "metadata": {
        "colab": {
          "base_uri": "https://localhost:8080/"
        },
        "id": "rru4zkIsTBKS",
        "outputId": "cec48248-8f5a-42b4-bceb-7fd2972b389a"
      },
      "source": [
        "df['discount'].describe()"
      ],
      "execution_count": null,
      "outputs": [
        {
          "output_type": "execute_result",
          "data": {
            "text/plain": [
              "count    6700.000000\n",
              "mean        0.155876\n",
              "std         0.205922\n",
              "min         0.000000\n",
              "25%         0.000000\n",
              "50%         0.200000\n",
              "75%         0.200000\n",
              "max         0.800000\n",
              "Name: discount, dtype: float64"
            ]
          },
          "metadata": {
            "tags": []
          },
          "execution_count": 450
        }
      ]
    },
    {
      "cell_type": "code",
      "metadata": {
        "colab": {
          "base_uri": "https://localhost:8080/"
        },
        "id": "NwC1uvobTMGN",
        "outputId": "e1f87e19-30eb-4aa1-c988-74d3d9b5b1c0"
      },
      "source": [
        "df['discount'].value_counts()"
      ],
      "execution_count": null,
      "outputs": [
        {
          "output_type": "execute_result",
          "data": {
            "text/plain": [
              "0.00    3220\n",
              "0.20    2437\n",
              "0.70     281\n",
              "0.80     193\n",
              "0.30     159\n",
              "0.40     137\n",
              "0.60      99\n",
              "0.10      68\n",
              "0.50      47\n",
              "0.15      36\n",
              "0.32      16\n",
              "0.45       7\n",
              "Name: discount, dtype: int64"
            ]
          },
          "metadata": {
            "tags": []
          },
          "execution_count": 451
        }
      ]
    },
    {
      "cell_type": "code",
      "metadata": {
        "colab": {
          "base_uri": "https://localhost:8080/",
          "height": 252
        },
        "id": "QOaHJmtkTSqf",
        "outputId": "caeb8f16-3221-4cfd-e2ed-b3ce174b4b6d"
      },
      "source": [
        "sns.boxplot(y = df['discount'])\n",
        "plt.show()"
      ],
      "execution_count": null,
      "outputs": [
        {
          "output_type": "display_data",
          "data": {
            "image/png": "[encoded data removed]",
            "text/plain": [
              "<Figure size 432x288 with 1 Axes>"
            ]
          },
          "metadata": {
            "tags": [],
            "needs_background": "light"
          }
        }
      ]
    },
    {
      "cell_type": "code",
      "metadata": {
        "colab": {
          "base_uri": "https://localhost:8080/"
        },
        "id": "yQgV-gbOTjaP",
        "outputId": "3c0f3c93-19a3-4caa-f021-03207a41ff61"
      },
      "source": [
        "df['discount'].unique()"
      ],
      "execution_count": null,
      "outputs": [
        {
          "output_type": "execute_result",
          "data": {
            "text/plain": [
              "array([0.2 , 0.  , 0.1 , 0.7 , 0.15, 0.8 , 0.6 , 0.4 , 0.5 , 0.3 , 0.32,\n",
              "       0.45])"
            ]
          },
          "metadata": {
            "tags": []
          },
          "execution_count": 453
        }
      ]
    },
    {
      "cell_type": "code",
      "metadata": {
        "colab": {
          "base_uri": "https://localhost:8080/",
          "height": 333
        },
        "id": "PXourC3GVCDW",
        "outputId": "748ebf45-25b3-4596-e3eb-5025a1929643"
      },
      "source": [
        "sns.distplot(df['discount'])\n",
        "plt.show()"
      ],
      "execution_count": null,
      "outputs": [
        {
          "output_type": "stream",
          "text": [
            "/usr/local/lib/python3.7/dist-packages/seaborn/distributions.py:2557: FutureWarning: `distplot` is a deprecated function and will be removed in a future version. Please adapt your code to use either `displot` (a figure-level function with similar flexibility) or `histplot` (an axes-level function for histograms).\n",
            "  warnings.warn(msg, FutureWarning)\n"
          ],
          "name": "stderr"
        },
        {
          "output_type": "display_data",
          "data": {
            "image/png": "[encoded data removed]",
            "text/plain": [
              "<Figure size 432x288 with 1 Axes>"
            ]
          },
          "metadata": {
            "tags": [],
            "needs_background": "light"
          }
        }
      ]
    },
    {
      "cell_type": "code",
      "metadata": {
        "colab": {
          "base_uri": "https://localhost:8080/",
          "height": 333
        },
        "id": "iBST-bBSVcqz",
        "outputId": "81ea186f-c35e-40dd-9466-d8175243f74e"
      },
      "source": [
        "sns.barplot(df['discount'],df['profit'])\n",
        "plt.show()"
      ],
      "execution_count": null,
      "outputs": [
        {
          "output_type": "stream",
          "text": [
            "/usr/local/lib/python3.7/dist-packages/seaborn/_decorators.py:43: FutureWarning: Pass the following variables as keyword args: x, y. From version 0.12, the only valid positional argument will be `data`, and passing other arguments without an explicit keyword will result in an error or misinterpretation.\n",
            "  FutureWarning\n"
          ],
          "name": "stderr"
        },
        {
          "output_type": "display_data",
          "data": {
            "image/png": "[encoded data removed]",
            "text/plain": [
              "<Figure size 432x288 with 1 Axes>"
            ]
          },
          "metadata": {
            "tags": [],
            "needs_background": "light"
          }
        }
      ]
    },
    {
      "cell_type": "markdown",
      "metadata": {
        "id": "CZM3pwEtXXq8"
      },
      "source": [
        "## **location**"
      ]
    },
    {
      "cell_type": "code",
      "metadata": {
        "colab": {
          "base_uri": "https://localhost:8080/"
        },
        "id": "vx01bLf4V-qj",
        "outputId": "8deedc1a-5d3d-44c6-ab72-004a91d91767"
      },
      "source": [
        "df['location'].unique()"
      ],
      "execution_count": null,
      "outputs": [
        {
          "output_type": "execute_result",
          "data": {
            "text/plain": [
              "array(['Central', 'South', 'West', 'East'], dtype=object)"
            ]
          },
          "metadata": {
            "tags": []
          },
          "execution_count": 456
        }
      ]
    },
    {
      "cell_type": "code",
      "metadata": {
        "colab": {
          "base_uri": "https://localhost:8080/"
        },
        "id": "YyWCgpK8XjJU",
        "outputId": "fb896212-2b17-455b-ee9b-97b766ba8b4a"
      },
      "source": [
        "df['location'].describe()"
      ],
      "execution_count": null,
      "outputs": [
        {
          "output_type": "execute_result",
          "data": {
            "text/plain": [
              "count     6700\n",
              "unique       4\n",
              "top       West\n",
              "freq      2118\n",
              "Name: location, dtype: object"
            ]
          },
          "metadata": {
            "tags": []
          },
          "execution_count": 457
        }
      ]
    },
    {
      "cell_type": "code",
      "metadata": {
        "colab": {
          "base_uri": "https://localhost:8080/"
        },
        "id": "9zbGl_ZeX4tc",
        "outputId": "42897ff1-32c1-451b-d4f1-0847d25784cc"
      },
      "source": [
        "df['location'].isnull().sum()"
      ],
      "execution_count": null,
      "outputs": [
        {
          "output_type": "execute_result",
          "data": {
            "text/plain": [
              "0"
            ]
          },
          "metadata": {
            "tags": []
          },
          "execution_count": 458
        }
      ]
    },
    {
      "cell_type": "code",
      "metadata": {
        "colab": {
          "base_uri": "https://localhost:8080/",
          "height": 292
        },
        "id": "LUDCB48YX_CF",
        "outputId": "7124fef7-9375-49cc-c29f-ae54b5b8570c"
      },
      "source": [
        "df['location'].value_counts().plot.bar()\n",
        "plt.show()"
      ],
      "execution_count": null,
      "outputs": [
        {
          "output_type": "display_data",
          "data": {
            "image/png": "[encoded data removed]",
            "text/plain": [
              "<Figure size 432x288 with 1 Axes>"
            ]
          },
          "metadata": {
            "tags": [],
            "needs_background": "light"
          }
        }
      ]
    },
    {
      "cell_type": "code",
      "metadata": {
        "colab": {
          "base_uri": "https://localhost:8080/",
          "height": 333
        },
        "id": "pTRR9sDMYNiB",
        "outputId": "872e6295-f3e2-4c4f-b458-fcc571316724"
      },
      "source": [
        "sns.barplot(df['location'],df['profit'])\n",
        "plt.show()"
      ],
      "execution_count": null,
      "outputs": [
        {
          "output_type": "stream",
          "text": [
            "/usr/local/lib/python3.7/dist-packages/seaborn/_decorators.py:43: FutureWarning: Pass the following variables as keyword args: x, y. From version 0.12, the only valid positional argument will be `data`, and passing other arguments without an explicit keyword will result in an error or misinterpretation.\n",
            "  FutureWarning\n"
          ],
          "name": "stderr"
        },
        {
          "output_type": "display_data",
          "data": {
            "image/png": "[encoded data removed]",
            "text/plain": [
              "<Figure size 432x288 with 1 Axes>"
            ]
          },
          "metadata": {
            "tags": [],
            "needs_background": "light"
          }
        }
      ]
    },
    {
      "cell_type": "markdown",
      "metadata": {
        "id": "2volxugyZit8"
      },
      "source": [
        "## **Class**"
      ]
    },
    {
      "cell_type": "code",
      "metadata": {
        "colab": {
          "base_uri": "https://localhost:8080/"
        },
        "id": "tJiyESS4YaBn",
        "outputId": "8f044658-d376-42fb-8575-79fb5816236d"
      },
      "source": [
        "df['class'].describe()"
      ],
      "execution_count": null,
      "outputs": [
        {
          "output_type": "execute_result",
          "data": {
            "text/plain": [
              "count       6700\n",
              "unique         3\n",
              "top       kariox\n",
              "freq        4034\n",
              "Name: class, dtype: object"
            ]
          },
          "metadata": {
            "tags": []
          },
          "execution_count": 461
        }
      ]
    },
    {
      "cell_type": "code",
      "metadata": {
        "colab": {
          "base_uri": "https://localhost:8080/"
        },
        "id": "dcv91zEiZvCg",
        "outputId": "56aa245d-823b-4fc5-952e-398c40f04bad"
      },
      "source": [
        "df['class'].unique()"
      ],
      "execution_count": null,
      "outputs": [
        {
          "output_type": "execute_result",
          "data": {
            "text/plain": [
              "array(['kariox', 'qexty', 'fynota'], dtype=object)"
            ]
          },
          "metadata": {
            "tags": []
          },
          "execution_count": 462
        }
      ]
    },
    {
      "cell_type": "code",
      "metadata": {
        "colab": {
          "base_uri": "https://localhost:8080/",
          "height": 287
        },
        "id": "E_arSIjlZyHI",
        "outputId": "1f3a4992-852f-4bd5-e886-2d11f789ee41"
      },
      "source": [
        "df['class'].value_counts().plot.bar()\n",
        "plt.show()"
      ],
      "execution_count": null,
      "outputs": [
        {
          "output_type": "display_data",
          "data": {
            "image/png": "[encoded data removed]",
            "text/plain": [
              "<Figure size 432x288 with 1 Axes>"
            ]
          },
          "metadata": {
            "tags": [],
            "needs_background": "light"
          }
        }
      ]
    },
    {
      "cell_type": "code",
      "metadata": {
        "colab": {
          "base_uri": "https://localhost:8080/",
          "height": 333
        },
        "id": "1vVUbAwEZ3Gy",
        "outputId": "7a8bf106-ddb8-4b84-b212-65000dd3a037"
      },
      "source": [
        "sns.barplot(df['class'],df['profit'])\n",
        "plt.show()"
      ],
      "execution_count": null,
      "outputs": [
        {
          "output_type": "stream",
          "text": [
            "/usr/local/lib/python3.7/dist-packages/seaborn/_decorators.py:43: FutureWarning: Pass the following variables as keyword args: x, y. From version 0.12, the only valid positional argument will be `data`, and passing other arguments without an explicit keyword will result in an error or misinterpretation.\n",
            "  FutureWarning\n"
          ],
          "name": "stderr"
        },
        {
          "output_type": "display_data",
          "data": {
            "image/png": "[encoded data removed]",
            "text/plain": [
              "<Figure size 432x288 with 1 Axes>"
            ]
          },
          "metadata": {
            "tags": [],
            "needs_background": "light"
          }
        }
      ]
    },
    {
      "cell_type": "markdown",
      "metadata": {
        "id": "nvIO5pQkbGmp"
      },
      "source": [
        "## **segment**"
      ]
    },
    {
      "cell_type": "code",
      "metadata": {
        "colab": {
          "base_uri": "https://localhost:8080/"
        },
        "id": "e2kYlBpmaG48",
        "outputId": "d82baa37-2cac-40e5-9fe3-840847799f32"
      },
      "source": [
        "df['segment'].unique()"
      ],
      "execution_count": null,
      "outputs": [
        {
          "output_type": "execute_result",
          "data": {
            "text/plain": [
              "array(['Consumer', 'Corporate', 'Home Office'], dtype=object)"
            ]
          },
          "metadata": {
            "tags": []
          },
          "execution_count": 465
        }
      ]
    },
    {
      "cell_type": "code",
      "metadata": {
        "colab": {
          "base_uri": "https://localhost:8080/",
          "height": 317
        },
        "id": "9A38M0KsaWqE",
        "outputId": "acabc9d8-a88c-4b04-9a42-dcdcce843c52"
      },
      "source": [
        "df['segment'].value_counts().plot.bar(color = 'r')\n",
        "plt.show()"
      ],
      "execution_count": null,
      "outputs": [
        {
          "output_type": "display_data",
          "data": {
            "image/png": "[encoded data removed]",
            "text/plain": [
              "<Figure size 432x288 with 1 Axes>"
            ]
          },
          "metadata": {
            "tags": [],
            "needs_background": "light"
          }
        }
      ]
    },
    {
      "cell_type": "code",
      "metadata": {
        "colab": {
          "base_uri": "https://localhost:8080/"
        },
        "id": "mRA65BcXbrv1",
        "outputId": "c8fe45d4-497f-4dd4-b545-0f574d7a33be"
      },
      "source": [
        "df['segment'].isnull().sum()"
      ],
      "execution_count": null,
      "outputs": [
        {
          "output_type": "execute_result",
          "data": {
            "text/plain": [
              "0"
            ]
          },
          "metadata": {
            "tags": []
          },
          "execution_count": 467
        }
      ]
    },
    {
      "cell_type": "code",
      "metadata": {
        "colab": {
          "base_uri": "https://localhost:8080/",
          "height": 333
        },
        "id": "Rrg1NtQ3bw-N",
        "outputId": "844c598a-1e03-447e-d5b6-25be04ec6a7f"
      },
      "source": [
        "sns.barplot(df['segment'],df['profit'])\n",
        "plt.show()"
      ],
      "execution_count": null,
      "outputs": [
        {
          "output_type": "stream",
          "text": [
            "/usr/local/lib/python3.7/dist-packages/seaborn/_decorators.py:43: FutureWarning: Pass the following variables as keyword args: x, y. From version 0.12, the only valid positional argument will be `data`, and passing other arguments without an explicit keyword will result in an error or misinterpretation.\n",
            "  FutureWarning\n"
          ],
          "name": "stderr"
        },
        {
          "output_type": "display_data",
          "data": {
            "image/png": "[encoded data removed]",
            "text/plain": [
              "<Figure size 432x288 with 1 Axes>"
            ]
          },
          "metadata": {
            "tags": [],
            "needs_background": "light"
          }
        }
      ]
    },
    {
      "cell_type": "markdown",
      "metadata": {
        "id": "3aMJBnlecp72"
      },
      "source": [
        "## **sub-class**"
      ]
    },
    {
      "cell_type": "markdown",
      "metadata": {
        "id": "Zgee7WMixnvc"
      },
      "source": [
        "# New section"
      ]
    },
    {
      "cell_type": "code",
      "metadata": {
        "colab": {
          "base_uri": "https://localhost:8080/"
        },
        "id": "GhJzur9zb6GP",
        "outputId": "4d8f64e8-31af-415d-d259-91de60287e7a"
      },
      "source": [
        "df['sub-class'].isnull().sum()"
      ],
      "execution_count": null,
      "outputs": [
        {
          "output_type": "execute_result",
          "data": {
            "text/plain": [
              "0"
            ]
          },
          "metadata": {
            "tags": []
          },
          "execution_count": 469
        }
      ]
    },
    {
      "cell_type": "code",
      "metadata": {
        "colab": {
          "base_uri": "https://localhost:8080/"
        },
        "id": "OHGT6QXGcx22",
        "outputId": "534a0f3d-7bd6-4733-d599-87dbe3eea9a2"
      },
      "source": [
        "df['sub-class'].unique()"
      ],
      "execution_count": null,
      "outputs": [
        {
          "output_type": "execute_result",
          "data": {
            "text/plain": [
              "array(['phone', 'headset', 'shorts', 'television', 'laptop', 'battery',\n",
              "       'tshirts', 'watch', 'colddrinks', 'pants', 'lighting', 'hoodies',\n",
              "       'chocolates', 'tablet', 'charger', 'sweets', 'fastfood'],\n",
              "      dtype=object)"
            ]
          },
          "metadata": {
            "tags": []
          },
          "execution_count": 470
        }
      ]
    },
    {
      "cell_type": "code",
      "metadata": {
        "colab": {
          "base_uri": "https://localhost:8080/",
          "height": 309
        },
        "id": "9FD_0c7ddGNE",
        "outputId": "79a65924-9622-4418-c8fa-78385ea455b8"
      },
      "source": [
        "df['sub-class'].value_counts().plot(kind = 'bar',color = 'g')\n",
        "plt.show()"
      ],
      "execution_count": null,
      "outputs": [
        {
          "output_type": "display_data",
          "data": {
            "image/png": "[encoded data removed]",
            "text/plain": [
              "<Figure size 432x288 with 1 Axes>"
            ]
          },
          "metadata": {
            "tags": [],
            "needs_background": "light"
          }
        }
      ]
    },
    {
      "cell_type": "code",
      "metadata": {
        "colab": {
          "base_uri": "https://localhost:8080/",
          "height": 377
        },
        "id": "amUFzN-ydNWX",
        "outputId": "8c68005d-7f12-4c0b-973d-b0a25d75c98d"
      },
      "source": [
        "ax = sns.barplot(df['sub-class'],df['profit'])\n",
        "ax.set_xticklabels(labels = df['sub-class'].unique(),rotation = 90)\n",
        "plt.show()"
      ],
      "execution_count": null,
      "outputs": [
        {
          "output_type": "stream",
          "text": [
            "/usr/local/lib/python3.7/dist-packages/seaborn/_decorators.py:43: FutureWarning: Pass the following variables as keyword args: x, y. From version 0.12, the only valid positional argument will be `data`, and passing other arguments without an explicit keyword will result in an error or misinterpretation.\n",
            "  FutureWarning\n"
          ],
          "name": "stderr"
        },
        {
          "output_type": "display_data",
          "data": {
            "image/png": "[encoded data removed]",
            "text/plain": [
              "<Figure size 432x288 with 1 Axes>"
            ]
          },
          "metadata": {
            "tags": [],
            "needs_background": "light"
          }
        }
      ]
    },
    {
      "cell_type": "markdown",
      "metadata": {
        "id": "NJtUGzGAfrGM"
      },
      "source": [
        "### **delivery type**"
      ]
    },
    {
      "cell_type": "code",
      "metadata": {
        "colab": {
          "base_uri": "https://localhost:8080/"
        },
        "id": "7UKWlFLMedBA",
        "outputId": "3f3fe132-7049-4fb2-f47e-df179f9078fa"
      },
      "source": [
        "df['delivery type'].describe()"
      ],
      "execution_count": null,
      "outputs": [
        {
          "output_type": "execute_result",
          "data": {
            "text/plain": [
              "count               6699\n",
              "unique                 4\n",
              "top       Standard Class\n",
              "freq                4086\n",
              "Name: delivery type, dtype: object"
            ]
          },
          "metadata": {
            "tags": []
          },
          "execution_count": 473
        }
      ]
    },
    {
      "cell_type": "code",
      "metadata": {
        "colab": {
          "base_uri": "https://localhost:8080/"
        },
        "id": "xdlTkAg0f3Tz",
        "outputId": "95182329-2fe2-44b1-d963-4484762eff3f"
      },
      "source": [
        "df['delivery type'].unique()"
      ],
      "execution_count": null,
      "outputs": [
        {
          "output_type": "execute_result",
          "data": {
            "text/plain": [
              "array(['Standard Class', 'First Class', 'Second Class', nan, 'Same Day'],\n",
              "      dtype=object)"
            ]
          },
          "metadata": {
            "tags": []
          },
          "execution_count": 474
        }
      ]
    },
    {
      "cell_type": "code",
      "metadata": {
        "colab": {
          "base_uri": "https://localhost:8080/"
        },
        "id": "kw0pWCb-f-v4",
        "outputId": "f5494780-f9b2-4524-eb98-97b7c65bce07"
      },
      "source": [
        "df['delivery type'].isnull().sum()"
      ],
      "execution_count": null,
      "outputs": [
        {
          "output_type": "execute_result",
          "data": {
            "text/plain": [
              "1"
            ]
          },
          "metadata": {
            "tags": []
          },
          "execution_count": 475
        }
      ]
    },
    {
      "cell_type": "code",
      "metadata": {
        "id": "WjzmwVMzgGGz"
      },
      "source": [
        "df['delivery type'].fillna(df['delivery type'].mode()[0],inplace = True)"
      ],
      "execution_count": null,
      "outputs": []
    },
    {
      "cell_type": "code",
      "metadata": {
        "colab": {
          "base_uri": "https://localhost:8080/"
        },
        "id": "3lUoioAOgliO",
        "outputId": "d3ff976b-b7f2-468c-92a9-de0cf2ae9f27"
      },
      "source": [
        "df['delivery type'].isnull().sum()"
      ],
      "execution_count": null,
      "outputs": [
        {
          "output_type": "execute_result",
          "data": {
            "text/plain": [
              "0"
            ]
          },
          "metadata": {
            "tags": []
          },
          "execution_count": 477
        }
      ]
    },
    {
      "cell_type": "code",
      "metadata": {
        "colab": {
          "base_uri": "https://localhost:8080/",
          "height": 330
        },
        "id": "rhx984Isgx60",
        "outputId": "dafd4520-bad4-4def-a477-a87d4af1e6ec"
      },
      "source": [
        "df['delivery type'].value_counts().plot.bar(color = 'g')\n",
        "plt.show()"
      ],
      "execution_count": null,
      "outputs": [
        {
          "output_type": "display_data",
          "data": {
            "image/png": "[encoded data removed]",
            "text/plain": [
              "<Figure size 432x288 with 1 Axes>"
            ]
          },
          "metadata": {
            "tags": [],
            "needs_background": "light"
          }
        }
      ]
    },
    {
      "cell_type": "code",
      "metadata": {
        "colab": {
          "base_uri": "https://localhost:8080/",
          "height": 333
        },
        "id": "2HnMy8SChSKJ",
        "outputId": "5e438382-64eb-484c-fbec-539e5cb18d72"
      },
      "source": [
        "sns.barplot(df['delivery type'],df['profit'])\n",
        "plt.show()"
      ],
      "execution_count": null,
      "outputs": [
        {
          "output_type": "stream",
          "text": [
            "/usr/local/lib/python3.7/dist-packages/seaborn/_decorators.py:43: FutureWarning: Pass the following variables as keyword args: x, y. From version 0.12, the only valid positional argument will be `data`, and passing other arguments without an explicit keyword will result in an error or misinterpretation.\n",
            "  FutureWarning\n"
          ],
          "name": "stderr"
        },
        {
          "output_type": "display_data",
          "data": {
            "image/png": "[encoded data removed]",
            "text/plain": [
              "<Figure size 432x288 with 1 Axes>"
            ]
          },
          "metadata": {
            "tags": [],
            "needs_background": "light"
          }
        }
      ]
    },
    {
      "cell_type": "markdown",
      "metadata": {
        "id": "sMp3K1f1h2h5"
      },
      "source": [
        "## **departure state**"
      ]
    },
    {
      "cell_type": "code",
      "metadata": {
        "colab": {
          "base_uri": "https://localhost:8080/"
        },
        "id": "XjhJDXNShkgp",
        "outputId": "2cc9c90d-a01b-481f-a2e6-66947cd36e4b"
      },
      "source": [
        "df['departure state'].unique()"
      ],
      "execution_count": null,
      "outputs": [
        {
          "output_type": "execute_result",
          "data": {
            "text/plain": [
              "array(['Texas', 'Michigan', 'Tennessee', 'Arkansas', 'Arizona',\n",
              "       'California', 'Florida', 'Indiana', 'New York', 'Nevada',\n",
              "       'South Dakota', 'Virginia', 'Oregon', 'Kentucky', 'Georgia',\n",
              "       'Pennsylvania', 'Illinois', 'Louisiana', 'Delaware', 'Ohio',\n",
              "       'South Carolina', 'Washington', 'Missouri', 'Wisconsin',\n",
              "       'New Jersey', 'North Carolina', 'Mississippi', 'Minnesota', 'Iowa',\n",
              "       'New Mexico', 'Colorado', 'Utah', 'Maryland', 'Montana',\n",
              "       'Massachusetts', 'Alabama', 'Idaho', 'New Hampshire',\n",
              "       'Connecticut', 'Oklahoma', 'Nebraska', 'Maine', 'Kansas',\n",
              "       'Rhode Island', 'District of Columbia', 'Vermont', 'Wyoming'],\n",
              "      dtype=object)"
            ]
          },
          "metadata": {
            "tags": []
          },
          "execution_count": 480
        }
      ]
    },
    {
      "cell_type": "code",
      "metadata": {
        "colab": {
          "base_uri": "https://localhost:8080/"
        },
        "id": "txjOZfrSiAX2",
        "outputId": "5764eacd-e5e9-40fc-f4ee-6ca431f76cba"
      },
      "source": [
        "df['departure state'].describe()"
      ],
      "execution_count": null,
      "outputs": [
        {
          "output_type": "execute_result",
          "data": {
            "text/plain": [
              "count           6700\n",
              "unique            47\n",
              "top       California\n",
              "freq            1339\n",
              "Name: departure state, dtype: object"
            ]
          },
          "metadata": {
            "tags": []
          },
          "execution_count": 481
        }
      ]
    },
    {
      "cell_type": "code",
      "metadata": {
        "colab": {
          "base_uri": "https://localhost:8080/",
          "height": 326
        },
        "id": "zieEcGYmiEMK",
        "outputId": "1ec3ddf3-3885-4b86-963e-0b4d8ede4206"
      },
      "source": [
        "df['departure state'].value_counts().plot(kind = 'bar',color = 'g',fontsize = 7)\n",
        "plt.show()"
      ],
      "execution_count": null,
      "outputs": [
        {
          "output_type": "display_data",
          "data": {
            "image/png": "[encoded data removed]",
            "text/plain": [
              "<Figure size 432x288 with 1 Axes>"
            ]
          },
          "metadata": {
            "tags": [],
            "needs_background": "light"
          }
        }
      ]
    },
    {
      "cell_type": "code",
      "metadata": {
        "colab": {
          "base_uri": "https://localhost:8080/",
          "height": 393
        },
        "id": "r1CeOxEQiOut",
        "outputId": "9242e586-09e8-4f59-9f67-368788a56668"
      },
      "source": [
        "ax = sns.barplot(df['departure state'],df['profit'])\n",
        "ax.set_xticklabels(labels = df['departure state'].unique(),rotation = 90,fontsize = 7)\n",
        "plt.show()"
      ],
      "execution_count": null,
      "outputs": [
        {
          "output_type": "stream",
          "text": [
            "/usr/local/lib/python3.7/dist-packages/seaborn/_decorators.py:43: FutureWarning: Pass the following variables as keyword args: x, y. From version 0.12, the only valid positional argument will be `data`, and passing other arguments without an explicit keyword will result in an error or misinterpretation.\n",
            "  FutureWarning\n"
          ],
          "name": "stderr"
        },
        {
          "output_type": "display_data",
          "data": {
            "image/png": "[encoded data removed]",
            "text/plain": [
              "<Figure size 432x288 with 1 Axes>"
            ]
          },
          "metadata": {
            "tags": [],
            "needs_background": "light"
          }
        }
      ]
    },
    {
      "cell_type": "code",
      "metadata": {
        "id": "7W_YR7c1ip9Y"
      },
      "source": [
        "cat_var = df.dtypes[df.dtypes == 'object'].index\n",
        "num_var = df.dtypes[df.dtypes != 'object'].index"
      ],
      "execution_count": null,
      "outputs": []
    },
    {
      "cell_type": "code",
      "metadata": {
        "colab": {
          "base_uri": "https://localhost:8080/"
        },
        "id": "mHuiplRojuR0",
        "outputId": "84985a5d-0db2-4e1f-dead-0e43027c6547"
      },
      "source": [
        "cat_var"
      ],
      "execution_count": null,
      "outputs": [
        {
          "output_type": "execute_result",
          "data": {
            "text/plain": [
              "Index(['departure city', 'location', 'class', 'segment', 'sub-class',\n",
              "       'delivery type', 'delivery date', 'departure state'],\n",
              "      dtype='object')"
            ]
          },
          "metadata": {
            "tags": []
          },
          "execution_count": 485
        }
      ]
    },
    {
      "cell_type": "code",
      "metadata": {
        "colab": {
          "base_uri": "https://localhost:8080/"
        },
        "id": "bNf0rOP-jvoV",
        "outputId": "77a653fe-d7ed-43e5-90b4-f049c66c3b01"
      },
      "source": [
        "num_var"
      ],
      "execution_count": null,
      "outputs": [
        {
          "output_type": "execute_result",
          "data": {
            "text/plain": [
              "Index(['id', 'discount', 'price', 'no of items', 'RID', 'profit',\n",
              "       'address code', 'month', 'quarter'],\n",
              "      dtype='object')"
            ]
          },
          "metadata": {
            "tags": []
          },
          "execution_count": 486
        }
      ]
    },
    {
      "cell_type": "code",
      "metadata": {
        "id": "O9y5B8zqjwo8"
      },
      "source": [
        "df.drop(['id'],axis = 1,inplace = True)"
      ],
      "execution_count": null,
      "outputs": []
    },
    {
      "cell_type": "code",
      "metadata": {
        "colab": {
          "base_uri": "https://localhost:8080/"
        },
        "id": "aUbURLCWj6X6",
        "outputId": "acac00d6-051c-48bc-a5ca-fa34bdd9c2c9"
      },
      "source": [
        "len(df['address code'].unique())"
      ],
      "execution_count": null,
      "outputs": [
        {
          "output_type": "execute_result",
          "data": {
            "text/plain": [
              "562"
            ]
          },
          "metadata": {
            "tags": []
          },
          "execution_count": 488
        }
      ]
    },
    {
      "cell_type": "code",
      "metadata": {
        "colab": {
          "base_uri": "https://localhost:8080/"
        },
        "id": "OoZnmSiSmh_u",
        "outputId": "997cc72d-103c-41a6-a845-b0016d8ab3e6"
      },
      "source": [
        "df.columns"
      ],
      "execution_count": null,
      "outputs": [
        {
          "output_type": "execute_result",
          "data": {
            "text/plain": [
              "Index(['departure city', 'discount', 'price', 'no of items', 'location',\n",
              "       'class', 'segment', 'sub-class', 'delivery type', 'RID', 'profit',\n",
              "       'delivery date', 'address code', 'departure state', 'month', 'quarter'],\n",
              "      dtype='object')"
            ]
          },
          "metadata": {
            "tags": []
          },
          "execution_count": 489
        }
      ]
    },
    {
      "cell_type": "markdown",
      "metadata": {
        "id": "ot59yWVanFkU"
      },
      "source": [
        "\n",
        "\n",
        "1.   Departure city -> Categorical -> Requires special encoding (Binary for strters)\n",
        "2.   Discount -> Numerical -> No missing values -> no special attention required.   \n",
        "3.   price -> numerical var -> no reuirements (skewed)\n",
        "4.   no. of items -> cat numeric -> no treatment required\n",
        "5.   location -> categorical. will require one hot encoding or dummy variables encoding\n",
        "6.   class -> categorical. one hot encoding or dummy\n",
        "7.   segment -> categorical. one hot encoding or dummy\n",
        "8.   sub-class -> categorical. one hot encoding or dummy*\n",
        "9.   delivery type -> categorical. one hot encoding or dummy\n",
        "10.  RID -> ID type of variable. unique value for every example. Not significant(my opinion)\n",
        "11.  profit -> Target variable or dependent variable\n",
        "12.  delivery date -> drop \n",
        "13.  address code -> categorical with high cardinality. Use of hash encoding or Traget encoding depending on results.\n",
        "14.  departure state -> categorical feature with moderate cardinality. (Discuss)\n",
        "15.  placement date ->  drop\n",
        "Consult with team -> negative target variable values (a major concern or not)\n",
        "# **Final**\n",
        "dropping dates, RID.\n",
        "departure -> Binary encoding\n",
        "address code -> Hash encoding\n",
        "departure state -> Binary encoding\n",
        "https://www.analyticsvidhya.com/blog/2020/08/types-of-categorical-data-encoding/"
      ]
    },
    {
      "cell_type": "code",
      "metadata": {
        "id": "ZSvwB7KZpubv"
      },
      "source": [
        "df = df.drop([ 'RID', 'delivery date'], axis = 1)\n",
        "df_test = df_test.drop(['RID', 'delivery date'], axis = 1)"
      ],
      "execution_count": null,
      "outputs": []
    },
    {
      "cell_type": "markdown",
      "metadata": {
        "id": "HV6zWibrH5YC"
      },
      "source": [
        "# **Encoding_departure city**"
      ]
    },
    {
      "cell_type": "code",
      "metadata": {
        "id": "ZjzOxpPvxxge"
      },
      "source": [
        "import category_encoders as ce"
      ],
      "execution_count": null,
      "outputs": []
    },
    {
      "cell_type": "code",
      "metadata": {
        "id": "r_qlnk8YFmpL"
      },
      "source": [
        "final_df = pd.concat([df, df_test], axis = 0)"
      ],
      "execution_count": null,
      "outputs": []
    },
    {
      "cell_type": "code",
      "metadata": {
        "colab": {
          "base_uri": "https://localhost:8080/"
        },
        "id": "swSRMIGSp1Kb",
        "outputId": "e433f2b2-70d9-47a2-fe21-1c01b37f62f5"
      },
      "source": [
        "final_df['profit']"
      ],
      "execution_count": null,
      "outputs": [
        {
          "output_type": "execute_result",
          "data": {
            "text/plain": [
              "0        5.5512\n",
              "1       13.3650\n",
              "2        4.8609\n",
              "3       12.7368\n",
              "4       15.9792\n",
              "         ...   \n",
              "3289        NaN\n",
              "3290        NaN\n",
              "3291        NaN\n",
              "3292        NaN\n",
              "3293        NaN\n",
              "Name: profit, Length: 9994, dtype: float64"
            ]
          },
          "metadata": {
            "tags": []
          },
          "execution_count": 493
        }
      ]
    },
    {
      "cell_type": "code",
      "metadata": {
        "id": "xOY6NlKip1gV"
      },
      "source": [
        "final_df = final_df.reset_index()"
      ],
      "execution_count": null,
      "outputs": []
    },
    {
      "cell_type": "code",
      "metadata": {
        "colab": {
          "base_uri": "https://localhost:8080/",
          "height": 402
        },
        "id": "einnXmbAp1jw",
        "outputId": "68583c06-c217-49d0-87bc-3a1e606a47b2"
      },
      "source": [
        "depc_data = pd.DataFrame({'departure city': final_df['departure city'].unique()})\n",
        "encoder_dep= ce.HashingEncoder(cols=['departure city'],return_df=True)\n",
        "depc_data"
      ],
      "execution_count": null,
      "outputs": [
        {
          "output_type": "execute_result",
          "data": {
            "text/html": [
              "<div>\n",
              "<style scoped>\n",
              "    .dataframe tbody tr th:only-of-type {\n",
              "        vertical-align: middle;\n",
              "    }\n",
              "\n",
              "    .dataframe tbody tr th {\n",
              "        vertical-align: top;\n",
              "    }\n",
              "\n",
              "    .dataframe thead th {\n",
              "        text-align: right;\n",
              "    }\n",
              "</style>\n",
              "<table border=\"1\" class=\"dataframe\">\n",
              "  <thead>\n",
              "    <tr style=\"text-align: right;\">\n",
              "      <th></th>\n",
              "      <th>departure city</th>\n",
              "    </tr>\n",
              "  </thead>\n",
              "  <tbody>\n",
              "    <tr>\n",
              "      <th>0</th>\n",
              "      <td>Houston</td>\n",
              "    </tr>\n",
              "    <tr>\n",
              "      <th>1</th>\n",
              "      <td>Westland</td>\n",
              "    </tr>\n",
              "    <tr>\n",
              "      <th>2</th>\n",
              "      <td>Smyrna</td>\n",
              "    </tr>\n",
              "    <tr>\n",
              "      <th>3</th>\n",
              "      <td>Jonesboro</td>\n",
              "    </tr>\n",
              "    <tr>\n",
              "      <th>4</th>\n",
              "      <td>Scottsdale</td>\n",
              "    </tr>\n",
              "    <tr>\n",
              "      <th>...</th>\n",
              "      <td>...</td>\n",
              "    </tr>\n",
              "    <tr>\n",
              "      <th>526</th>\n",
              "      <td>Port Orange</td>\n",
              "    </tr>\n",
              "    <tr>\n",
              "      <th>527</th>\n",
              "      <td>Danbury</td>\n",
              "    </tr>\n",
              "    <tr>\n",
              "      <th>528</th>\n",
              "      <td>Abilene</td>\n",
              "    </tr>\n",
              "    <tr>\n",
              "      <th>529</th>\n",
              "      <td>Palatine</td>\n",
              "    </tr>\n",
              "    <tr>\n",
              "      <th>530</th>\n",
              "      <td>Whittier</td>\n",
              "    </tr>\n",
              "  </tbody>\n",
              "</table>\n",
              "<p>531 rows × 1 columns</p>\n",
              "</div>"
            ],
            "text/plain": [
              "    departure city\n",
              "0          Houston\n",
              "1         Westland\n",
              "2           Smyrna\n",
              "3        Jonesboro\n",
              "4       Scottsdale\n",
              "..             ...\n",
              "526    Port Orange\n",
              "527        Danbury\n",
              "528        Abilene\n",
              "529       Palatine\n",
              "530       Whittier\n",
              "\n",
              "[531 rows x 1 columns]"
            ]
          },
          "metadata": {
            "tags": []
          },
          "execution_count": 495
        }
      ]
    },
    {
      "cell_type": "code",
      "metadata": {
        "colab": {
          "base_uri": "https://localhost:8080/",
          "height": 455
        },
        "id": "OHouI9q3p1oS",
        "outputId": "7680164b-b5b0-48d0-a515-cdf3ae66f5ee"
      },
      "source": [
        "depc_data_encoded=encoder_dep.fit_transform(depc_data) \n",
        "df_depc = pd.concat([depc_data, depc_data_encoded], axis = 1)\n",
        "df_depc"
      ],
      "execution_count": null,
      "outputs": [
        {
          "output_type": "stream",
          "text": [
            "/usr/local/lib/python3.7/dist-packages/category_encoders/utils.py:21: FutureWarning: is_categorical is deprecated and will be removed in a future version.  Use is_categorical_dtype instead\n",
            "  elif pd.api.types.is_categorical(cols):\n"
          ],
          "name": "stderr"
        },
        {
          "output_type": "execute_result",
          "data": {
            "text/html": [
              "<div>\n",
              "<style scoped>\n",
              "    .dataframe tbody tr th:only-of-type {\n",
              "        vertical-align: middle;\n",
              "    }\n",
              "\n",
              "    .dataframe tbody tr th {\n",
              "        vertical-align: top;\n",
              "    }\n",
              "\n",
              "    .dataframe thead th {\n",
              "        text-align: right;\n",
              "    }\n",
              "</style>\n",
              "<table border=\"1\" class=\"dataframe\">\n",
              "  <thead>\n",
              "    <tr style=\"text-align: right;\">\n",
              "      <th></th>\n",
              "      <th>departure city</th>\n",
              "      <th>col_0</th>\n",
              "      <th>col_1</th>\n",
              "      <th>col_2</th>\n",
              "      <th>col_3</th>\n",
              "      <th>col_4</th>\n",
              "      <th>col_5</th>\n",
              "      <th>col_6</th>\n",
              "      <th>col_7</th>\n",
              "    </tr>\n",
              "  </thead>\n",
              "  <tbody>\n",
              "    <tr>\n",
              "      <th>0</th>\n",
              "      <td>Houston</td>\n",
              "      <td>0</td>\n",
              "      <td>0</td>\n",
              "      <td>0</td>\n",
              "      <td>1</td>\n",
              "      <td>0</td>\n",
              "      <td>0</td>\n",
              "      <td>0</td>\n",
              "      <td>0</td>\n",
              "    </tr>\n",
              "    <tr>\n",
              "      <th>1</th>\n",
              "      <td>Westland</td>\n",
              "      <td>0</td>\n",
              "      <td>0</td>\n",
              "      <td>0</td>\n",
              "      <td>0</td>\n",
              "      <td>0</td>\n",
              "      <td>0</td>\n",
              "      <td>0</td>\n",
              "      <td>1</td>\n",
              "    </tr>\n",
              "    <tr>\n",
              "      <th>2</th>\n",
              "      <td>Smyrna</td>\n",
              "      <td>0</td>\n",
              "      <td>0</td>\n",
              "      <td>0</td>\n",
              "      <td>1</td>\n",
              "      <td>0</td>\n",
              "      <td>0</td>\n",
              "      <td>0</td>\n",
              "      <td>0</td>\n",
              "    </tr>\n",
              "    <tr>\n",
              "      <th>3</th>\n",
              "      <td>Jonesboro</td>\n",
              "      <td>0</td>\n",
              "      <td>0</td>\n",
              "      <td>1</td>\n",
              "      <td>0</td>\n",
              "      <td>0</td>\n",
              "      <td>0</td>\n",
              "      <td>0</td>\n",
              "      <td>0</td>\n",
              "    </tr>\n",
              "    <tr>\n",
              "      <th>4</th>\n",
              "      <td>Scottsdale</td>\n",
              "      <td>0</td>\n",
              "      <td>0</td>\n",
              "      <td>0</td>\n",
              "      <td>0</td>\n",
              "      <td>1</td>\n",
              "      <td>0</td>\n",
              "      <td>0</td>\n",
              "      <td>0</td>\n",
              "    </tr>\n",
              "    <tr>\n",
              "      <th>...</th>\n",
              "      <td>...</td>\n",
              "      <td>...</td>\n",
              "      <td>...</td>\n",
              "      <td>...</td>\n",
              "      <td>...</td>\n",
              "      <td>...</td>\n",
              "      <td>...</td>\n",
              "      <td>...</td>\n",
              "      <td>...</td>\n",
              "    </tr>\n",
              "    <tr>\n",
              "      <th>526</th>\n",
              "      <td>Port Orange</td>\n",
              "      <td>0</td>\n",
              "      <td>0</td>\n",
              "      <td>0</td>\n",
              "      <td>1</td>\n",
              "      <td>0</td>\n",
              "      <td>0</td>\n",
              "      <td>0</td>\n",
              "      <td>0</td>\n",
              "    </tr>\n",
              "    <tr>\n",
              "      <th>527</th>\n",
              "      <td>Danbury</td>\n",
              "      <td>0</td>\n",
              "      <td>1</td>\n",
              "      <td>0</td>\n",
              "      <td>0</td>\n",
              "      <td>0</td>\n",
              "      <td>0</td>\n",
              "      <td>0</td>\n",
              "      <td>0</td>\n",
              "    </tr>\n",
              "    <tr>\n",
              "      <th>528</th>\n",
              "      <td>Abilene</td>\n",
              "      <td>0</td>\n",
              "      <td>0</td>\n",
              "      <td>0</td>\n",
              "      <td>0</td>\n",
              "      <td>1</td>\n",
              "      <td>0</td>\n",
              "      <td>0</td>\n",
              "      <td>0</td>\n",
              "    </tr>\n",
              "    <tr>\n",
              "      <th>529</th>\n",
              "      <td>Palatine</td>\n",
              "      <td>0</td>\n",
              "      <td>0</td>\n",
              "      <td>1</td>\n",
              "      <td>0</td>\n",
              "      <td>0</td>\n",
              "      <td>0</td>\n",
              "      <td>0</td>\n",
              "      <td>0</td>\n",
              "    </tr>\n",
              "    <tr>\n",
              "      <th>530</th>\n",
              "      <td>Whittier</td>\n",
              "      <td>1</td>\n",
              "      <td>0</td>\n",
              "      <td>0</td>\n",
              "      <td>0</td>\n",
              "      <td>0</td>\n",
              "      <td>0</td>\n",
              "      <td>0</td>\n",
              "      <td>0</td>\n",
              "    </tr>\n",
              "  </tbody>\n",
              "</table>\n",
              "<p>531 rows × 9 columns</p>\n",
              "</div>"
            ],
            "text/plain": [
              "    departure city  col_0  col_1  col_2  col_3  col_4  col_5  col_6  col_7\n",
              "0          Houston      0      0      0      1      0      0      0      0\n",
              "1         Westland      0      0      0      0      0      0      0      1\n",
              "2           Smyrna      0      0      0      1      0      0      0      0\n",
              "3        Jonesboro      0      0      1      0      0      0      0      0\n",
              "4       Scottsdale      0      0      0      0      1      0      0      0\n",
              "..             ...    ...    ...    ...    ...    ...    ...    ...    ...\n",
              "526    Port Orange      0      0      0      1      0      0      0      0\n",
              "527        Danbury      0      1      0      0      0      0      0      0\n",
              "528        Abilene      0      0      0      0      1      0      0      0\n",
              "529       Palatine      0      0      1      0      0      0      0      0\n",
              "530       Whittier      1      0      0      0      0      0      0      0\n",
              "\n",
              "[531 rows x 9 columns]"
            ]
          },
          "metadata": {
            "tags": []
          },
          "execution_count": 496
        }
      ]
    },
    {
      "cell_type": "code",
      "metadata": {
        "id": "Ab0bfnTw_tzv"
      },
      "source": [
        "df_depc.rename(columns={'col_0': 'dc_col_0', 'col_1': 'dc_col_1', 'col_2': 'dc_col_2',\n",
        "                       'col_3': 'dc_col_3','col_4': 'dc_col_4','col_5': 'dc_col_5',\n",
        "                       'col_6': 'dc_col_6','col_7': 'dc_col_7','col_8': 'dc_col_8',}, inplace=True)"
      ],
      "execution_count": null,
      "outputs": []
    },
    {
      "cell_type": "code",
      "metadata": {
        "colab": {
          "base_uri": "https://localhost:8080/",
          "height": 402
        },
        "id": "uyYW7UQNp1r3",
        "outputId": "d4fdca6c-326d-4113-ae47-0eb60d36ec29"
      },
      "source": [
        "final_df_depc = final_df['departure city']\n",
        "final_df_depc = pd.merge(final_df_depc, df_depc, how='left', on='departure city', left_on=None, right_on=None, left_index=False, right_index=False, sort=None)\n",
        "final_df_depc"
      ],
      "execution_count": null,
      "outputs": [
        {
          "output_type": "execute_result",
          "data": {
            "text/html": [
              "<div>\n",
              "<style scoped>\n",
              "    .dataframe tbody tr th:only-of-type {\n",
              "        vertical-align: middle;\n",
              "    }\n",
              "\n",
              "    .dataframe tbody tr th {\n",
              "        vertical-align: top;\n",
              "    }\n",
              "\n",
              "    .dataframe thead th {\n",
              "        text-align: right;\n",
              "    }\n",
              "</style>\n",
              "<table border=\"1\" class=\"dataframe\">\n",
              "  <thead>\n",
              "    <tr style=\"text-align: right;\">\n",
              "      <th></th>\n",
              "      <th>departure city</th>\n",
              "      <th>dc_col_0</th>\n",
              "      <th>dc_col_1</th>\n",
              "      <th>dc_col_2</th>\n",
              "      <th>dc_col_3</th>\n",
              "      <th>dc_col_4</th>\n",
              "      <th>dc_col_5</th>\n",
              "      <th>dc_col_6</th>\n",
              "      <th>dc_col_7</th>\n",
              "    </tr>\n",
              "  </thead>\n",
              "  <tbody>\n",
              "    <tr>\n",
              "      <th>0</th>\n",
              "      <td>Houston</td>\n",
              "      <td>0</td>\n",
              "      <td>0</td>\n",
              "      <td>0</td>\n",
              "      <td>1</td>\n",
              "      <td>0</td>\n",
              "      <td>0</td>\n",
              "      <td>0</td>\n",
              "      <td>0</td>\n",
              "    </tr>\n",
              "    <tr>\n",
              "      <th>1</th>\n",
              "      <td>Westland</td>\n",
              "      <td>0</td>\n",
              "      <td>0</td>\n",
              "      <td>0</td>\n",
              "      <td>0</td>\n",
              "      <td>0</td>\n",
              "      <td>0</td>\n",
              "      <td>0</td>\n",
              "      <td>1</td>\n",
              "    </tr>\n",
              "    <tr>\n",
              "      <th>2</th>\n",
              "      <td>Westland</td>\n",
              "      <td>0</td>\n",
              "      <td>0</td>\n",
              "      <td>0</td>\n",
              "      <td>0</td>\n",
              "      <td>0</td>\n",
              "      <td>0</td>\n",
              "      <td>0</td>\n",
              "      <td>1</td>\n",
              "    </tr>\n",
              "    <tr>\n",
              "      <th>3</th>\n",
              "      <td>Westland</td>\n",
              "      <td>0</td>\n",
              "      <td>0</td>\n",
              "      <td>0</td>\n",
              "      <td>0</td>\n",
              "      <td>0</td>\n",
              "      <td>0</td>\n",
              "      <td>0</td>\n",
              "      <td>1</td>\n",
              "    </tr>\n",
              "    <tr>\n",
              "      <th>4</th>\n",
              "      <td>Westland</td>\n",
              "      <td>0</td>\n",
              "      <td>0</td>\n",
              "      <td>0</td>\n",
              "      <td>0</td>\n",
              "      <td>0</td>\n",
              "      <td>0</td>\n",
              "      <td>0</td>\n",
              "      <td>1</td>\n",
              "    </tr>\n",
              "    <tr>\n",
              "      <th>...</th>\n",
              "      <td>...</td>\n",
              "      <td>...</td>\n",
              "      <td>...</td>\n",
              "      <td>...</td>\n",
              "      <td>...</td>\n",
              "      <td>...</td>\n",
              "      <td>...</td>\n",
              "      <td>...</td>\n",
              "      <td>...</td>\n",
              "    </tr>\n",
              "    <tr>\n",
              "      <th>9989</th>\n",
              "      <td>New York City</td>\n",
              "      <td>1</td>\n",
              "      <td>0</td>\n",
              "      <td>0</td>\n",
              "      <td>0</td>\n",
              "      <td>0</td>\n",
              "      <td>0</td>\n",
              "      <td>0</td>\n",
              "      <td>0</td>\n",
              "    </tr>\n",
              "    <tr>\n",
              "      <th>9990</th>\n",
              "      <td>New York City</td>\n",
              "      <td>1</td>\n",
              "      <td>0</td>\n",
              "      <td>0</td>\n",
              "      <td>0</td>\n",
              "      <td>0</td>\n",
              "      <td>0</td>\n",
              "      <td>0</td>\n",
              "      <td>0</td>\n",
              "    </tr>\n",
              "    <tr>\n",
              "      <th>9991</th>\n",
              "      <td>New York City</td>\n",
              "      <td>1</td>\n",
              "      <td>0</td>\n",
              "      <td>0</td>\n",
              "      <td>0</td>\n",
              "      <td>0</td>\n",
              "      <td>0</td>\n",
              "      <td>0</td>\n",
              "      <td>0</td>\n",
              "    </tr>\n",
              "    <tr>\n",
              "      <th>9992</th>\n",
              "      <td>San Francisco</td>\n",
              "      <td>0</td>\n",
              "      <td>0</td>\n",
              "      <td>0</td>\n",
              "      <td>0</td>\n",
              "      <td>0</td>\n",
              "      <td>1</td>\n",
              "      <td>0</td>\n",
              "      <td>0</td>\n",
              "    </tr>\n",
              "    <tr>\n",
              "      <th>9993</th>\n",
              "      <td>Loveland</td>\n",
              "      <td>0</td>\n",
              "      <td>0</td>\n",
              "      <td>0</td>\n",
              "      <td>1</td>\n",
              "      <td>0</td>\n",
              "      <td>0</td>\n",
              "      <td>0</td>\n",
              "      <td>0</td>\n",
              "    </tr>\n",
              "  </tbody>\n",
              "</table>\n",
              "<p>9994 rows × 9 columns</p>\n",
              "</div>"
            ],
            "text/plain": [
              "     departure city  dc_col_0  dc_col_1  ...  dc_col_5  dc_col_6  dc_col_7\n",
              "0           Houston         0         0  ...         0         0         0\n",
              "1          Westland         0         0  ...         0         0         1\n",
              "2          Westland         0         0  ...         0         0         1\n",
              "3          Westland         0         0  ...         0         0         1\n",
              "4          Westland         0         0  ...         0         0         1\n",
              "...             ...       ...       ...  ...       ...       ...       ...\n",
              "9989  New York City         1         0  ...         0         0         0\n",
              "9990  New York City         1         0  ...         0         0         0\n",
              "9991  New York City         1         0  ...         0         0         0\n",
              "9992  San Francisco         0         0  ...         1         0         0\n",
              "9993       Loveland         0         0  ...         0         0         0\n",
              "\n",
              "[9994 rows x 9 columns]"
            ]
          },
          "metadata": {
            "tags": []
          },
          "execution_count": 498
        }
      ]
    },
    {
      "cell_type": "code",
      "metadata": {
        "id": "nbPbtccep1wH"
      },
      "source": [
        "df_departurecity_train = final_df_depc.iloc[:6700,:]\n",
        "df_departurecity_test = final_df_depc.iloc[6700:,:]"
      ],
      "execution_count": null,
      "outputs": []
    },
    {
      "cell_type": "code",
      "metadata": {
        "colab": {
          "base_uri": "https://localhost:8080/",
          "height": 606
        },
        "id": "cascLHLAp1zt",
        "outputId": "59c360c9-922a-4558-9ce3-f0166932bf25"
      },
      "source": [
        "df = pd.concat([df, df_departurecity_train], axis = 1)\n",
        "df = df.drop(['departure city', 'departure city'], axis = 1)\n",
        "df"
      ],
      "execution_count": null,
      "outputs": [
        {
          "output_type": "execute_result",
          "data": {
            "text/html": [
              "<div>\n",
              "<style scoped>\n",
              "    .dataframe tbody tr th:only-of-type {\n",
              "        vertical-align: middle;\n",
              "    }\n",
              "\n",
              "    .dataframe tbody tr th {\n",
              "        vertical-align: top;\n",
              "    }\n",
              "\n",
              "    .dataframe thead th {\n",
              "        text-align: right;\n",
              "    }\n",
              "</style>\n",
              "<table border=\"1\" class=\"dataframe\">\n",
              "  <thead>\n",
              "    <tr style=\"text-align: right;\">\n",
              "      <th></th>\n",
              "      <th>discount</th>\n",
              "      <th>price</th>\n",
              "      <th>no of items</th>\n",
              "      <th>location</th>\n",
              "      <th>class</th>\n",
              "      <th>segment</th>\n",
              "      <th>sub-class</th>\n",
              "      <th>delivery type</th>\n",
              "      <th>profit</th>\n",
              "      <th>address code</th>\n",
              "      <th>departure state</th>\n",
              "      <th>month</th>\n",
              "      <th>quarter</th>\n",
              "      <th>dc_col_0</th>\n",
              "      <th>dc_col_1</th>\n",
              "      <th>dc_col_2</th>\n",
              "      <th>dc_col_3</th>\n",
              "      <th>dc_col_4</th>\n",
              "      <th>dc_col_5</th>\n",
              "      <th>dc_col_6</th>\n",
              "      <th>dc_col_7</th>\n",
              "    </tr>\n",
              "  </thead>\n",
              "  <tbody>\n",
              "    <tr>\n",
              "      <th>0</th>\n",
              "      <td>0.2</td>\n",
              "      <td>16.448</td>\n",
              "      <td>2</td>\n",
              "      <td>Central</td>\n",
              "      <td>kariox</td>\n",
              "      <td>Consumer</td>\n",
              "      <td>phone</td>\n",
              "      <td>Standard Class</td>\n",
              "      <td>5.5512</td>\n",
              "      <td>77095</td>\n",
              "      <td>Texas</td>\n",
              "      <td>1</td>\n",
              "      <td>1</td>\n",
              "      <td>0</td>\n",
              "      <td>0</td>\n",
              "      <td>0</td>\n",
              "      <td>1</td>\n",
              "      <td>0</td>\n",
              "      <td>0</td>\n",
              "      <td>0</td>\n",
              "      <td>0</td>\n",
              "    </tr>\n",
              "    <tr>\n",
              "      <th>1</th>\n",
              "      <td>0.0</td>\n",
              "      <td>29.700</td>\n",
              "      <td>5</td>\n",
              "      <td>Central</td>\n",
              "      <td>kariox</td>\n",
              "      <td>Consumer</td>\n",
              "      <td>headset</td>\n",
              "      <td>Standard Class</td>\n",
              "      <td>13.3650</td>\n",
              "      <td>48185</td>\n",
              "      <td>Michigan</td>\n",
              "      <td>1</td>\n",
              "      <td>1</td>\n",
              "      <td>0</td>\n",
              "      <td>0</td>\n",
              "      <td>0</td>\n",
              "      <td>0</td>\n",
              "      <td>0</td>\n",
              "      <td>0</td>\n",
              "      <td>0</td>\n",
              "      <td>1</td>\n",
              "    </tr>\n",
              "    <tr>\n",
              "      <th>2</th>\n",
              "      <td>0.0</td>\n",
              "      <td>14.730</td>\n",
              "      <td>3</td>\n",
              "      <td>Central</td>\n",
              "      <td>qexty</td>\n",
              "      <td>Consumer</td>\n",
              "      <td>shorts</td>\n",
              "      <td>Standard Class</td>\n",
              "      <td>4.8609</td>\n",
              "      <td>48185</td>\n",
              "      <td>Michigan</td>\n",
              "      <td>1</td>\n",
              "      <td>1</td>\n",
              "      <td>0</td>\n",
              "      <td>0</td>\n",
              "      <td>0</td>\n",
              "      <td>0</td>\n",
              "      <td>0</td>\n",
              "      <td>0</td>\n",
              "      <td>0</td>\n",
              "      <td>1</td>\n",
              "    </tr>\n",
              "    <tr>\n",
              "      <th>3</th>\n",
              "      <td>0.0</td>\n",
              "      <td>43.920</td>\n",
              "      <td>3</td>\n",
              "      <td>Central</td>\n",
              "      <td>kariox</td>\n",
              "      <td>Consumer</td>\n",
              "      <td>television</td>\n",
              "      <td>Standard Class</td>\n",
              "      <td>12.7368</td>\n",
              "      <td>48185</td>\n",
              "      <td>Michigan</td>\n",
              "      <td>1</td>\n",
              "      <td>1</td>\n",
              "      <td>0</td>\n",
              "      <td>0</td>\n",
              "      <td>0</td>\n",
              "      <td>0</td>\n",
              "      <td>0</td>\n",
              "      <td>0</td>\n",
              "      <td>0</td>\n",
              "      <td>1</td>\n",
              "    </tr>\n",
              "    <tr>\n",
              "      <th>4</th>\n",
              "      <td>0.0</td>\n",
              "      <td>66.580</td>\n",
              "      <td>2</td>\n",
              "      <td>Central</td>\n",
              "      <td>kariox</td>\n",
              "      <td>Consumer</td>\n",
              "      <td>laptop</td>\n",
              "      <td>Standard Class</td>\n",
              "      <td>15.9792</td>\n",
              "      <td>48185</td>\n",
              "      <td>Michigan</td>\n",
              "      <td>1</td>\n",
              "      <td>1</td>\n",
              "      <td>0</td>\n",
              "      <td>0</td>\n",
              "      <td>0</td>\n",
              "      <td>0</td>\n",
              "      <td>0</td>\n",
              "      <td>0</td>\n",
              "      <td>0</td>\n",
              "      <td>1</td>\n",
              "    </tr>\n",
              "    <tr>\n",
              "      <th>...</th>\n",
              "      <td>...</td>\n",
              "      <td>...</td>\n",
              "      <td>...</td>\n",
              "      <td>...</td>\n",
              "      <td>...</td>\n",
              "      <td>...</td>\n",
              "      <td>...</td>\n",
              "      <td>...</td>\n",
              "      <td>...</td>\n",
              "      <td>...</td>\n",
              "      <td>...</td>\n",
              "      <td>...</td>\n",
              "      <td>...</td>\n",
              "      <td>...</td>\n",
              "      <td>...</td>\n",
              "      <td>...</td>\n",
              "      <td>...</td>\n",
              "      <td>...</td>\n",
              "      <td>...</td>\n",
              "      <td>...</td>\n",
              "      <td>...</td>\n",
              "    </tr>\n",
              "    <tr>\n",
              "      <th>6695</th>\n",
              "      <td>0.0</td>\n",
              "      <td>542.940</td>\n",
              "      <td>3</td>\n",
              "      <td>East</td>\n",
              "      <td>kariox</td>\n",
              "      <td>Consumer</td>\n",
              "      <td>battery</td>\n",
              "      <td>Standard Class</td>\n",
              "      <td>152.0232</td>\n",
              "      <td>5408</td>\n",
              "      <td>Vermont</td>\n",
              "      <td>1</td>\n",
              "      <td>1</td>\n",
              "      <td>0</td>\n",
              "      <td>0</td>\n",
              "      <td>1</td>\n",
              "      <td>0</td>\n",
              "      <td>0</td>\n",
              "      <td>0</td>\n",
              "      <td>0</td>\n",
              "      <td>0</td>\n",
              "    </tr>\n",
              "    <tr>\n",
              "      <th>6696</th>\n",
              "      <td>0.2</td>\n",
              "      <td>276.784</td>\n",
              "      <td>2</td>\n",
              "      <td>West</td>\n",
              "      <td>kariox</td>\n",
              "      <td>Corporate</td>\n",
              "      <td>headset</td>\n",
              "      <td>Standard Class</td>\n",
              "      <td>89.9548</td>\n",
              "      <td>95123</td>\n",
              "      <td>California</td>\n",
              "      <td>1</td>\n",
              "      <td>1</td>\n",
              "      <td>0</td>\n",
              "      <td>0</td>\n",
              "      <td>0</td>\n",
              "      <td>0</td>\n",
              "      <td>1</td>\n",
              "      <td>0</td>\n",
              "      <td>0</td>\n",
              "      <td>0</td>\n",
              "    </tr>\n",
              "    <tr>\n",
              "      <th>6697</th>\n",
              "      <td>0.0</td>\n",
              "      <td>2.040</td>\n",
              "      <td>1</td>\n",
              "      <td>East</td>\n",
              "      <td>kariox</td>\n",
              "      <td>Consumer</td>\n",
              "      <td>watch</td>\n",
              "      <td>Standard Class</td>\n",
              "      <td>0.9588</td>\n",
              "      <td>5408</td>\n",
              "      <td>Vermont</td>\n",
              "      <td>1</td>\n",
              "      <td>1</td>\n",
              "      <td>0</td>\n",
              "      <td>0</td>\n",
              "      <td>1</td>\n",
              "      <td>0</td>\n",
              "      <td>0</td>\n",
              "      <td>0</td>\n",
              "      <td>0</td>\n",
              "      <td>0</td>\n",
              "    </tr>\n",
              "    <tr>\n",
              "      <th>6698</th>\n",
              "      <td>0.1</td>\n",
              "      <td>207.846</td>\n",
              "      <td>3</td>\n",
              "      <td>East</td>\n",
              "      <td>qexty</td>\n",
              "      <td>Corporate</td>\n",
              "      <td>tshirts</td>\n",
              "      <td>Second Class</td>\n",
              "      <td>2.3094</td>\n",
              "      <td>10024</td>\n",
              "      <td>New York</td>\n",
              "      <td>1</td>\n",
              "      <td>1</td>\n",
              "      <td>1</td>\n",
              "      <td>0</td>\n",
              "      <td>0</td>\n",
              "      <td>0</td>\n",
              "      <td>0</td>\n",
              "      <td>0</td>\n",
              "      <td>0</td>\n",
              "      <td>0</td>\n",
              "    </tr>\n",
              "    <tr>\n",
              "      <th>6699</th>\n",
              "      <td>0.2</td>\n",
              "      <td>160.776</td>\n",
              "      <td>3</td>\n",
              "      <td>West</td>\n",
              "      <td>fynota</td>\n",
              "      <td>Consumer</td>\n",
              "      <td>colddrinks</td>\n",
              "      <td>Standard Class</td>\n",
              "      <td>10.0485</td>\n",
              "      <td>90045</td>\n",
              "      <td>California</td>\n",
              "      <td>1</td>\n",
              "      <td>1</td>\n",
              "      <td>0</td>\n",
              "      <td>0</td>\n",
              "      <td>0</td>\n",
              "      <td>0</td>\n",
              "      <td>0</td>\n",
              "      <td>1</td>\n",
              "      <td>0</td>\n",
              "      <td>0</td>\n",
              "    </tr>\n",
              "  </tbody>\n",
              "</table>\n",
              "<p>6700 rows × 21 columns</p>\n",
              "</div>"
            ],
            "text/plain": [
              "      discount    price  no of items  ... dc_col_5 dc_col_6 dc_col_7\n",
              "0          0.2   16.448            2  ...        0        0        0\n",
              "1          0.0   29.700            5  ...        0        0        1\n",
              "2          0.0   14.730            3  ...        0        0        1\n",
              "3          0.0   43.920            3  ...        0        0        1\n",
              "4          0.0   66.580            2  ...        0        0        1\n",
              "...        ...      ...          ...  ...      ...      ...      ...\n",
              "6695       0.0  542.940            3  ...        0        0        0\n",
              "6696       0.2  276.784            2  ...        0        0        0\n",
              "6697       0.0    2.040            1  ...        0        0        0\n",
              "6698       0.1  207.846            3  ...        0        0        0\n",
              "6699       0.2  160.776            3  ...        1        0        0\n",
              "\n",
              "[6700 rows x 21 columns]"
            ]
          },
          "metadata": {
            "tags": []
          },
          "execution_count": 500
        }
      ]
    },
    {
      "cell_type": "code",
      "metadata": {
        "colab": {
          "base_uri": "https://localhost:8080/"
        },
        "id": "66fu3Y4qHWk2",
        "outputId": "dbc9a6b4-e2fb-4f94-9f6c-a099e57fe82c"
      },
      "source": [
        "df.columns "
      ],
      "execution_count": null,
      "outputs": [
        {
          "output_type": "execute_result",
          "data": {
            "text/plain": [
              "Index(['discount', 'price', 'no of items', 'location', 'class', 'segment',\n",
              "       'sub-class', 'delivery type', 'profit', 'address code',\n",
              "       'departure state', 'month', 'quarter', 'dc_col_0', 'dc_col_1',\n",
              "       'dc_col_2', 'dc_col_3', 'dc_col_4', 'dc_col_5', 'dc_col_6', 'dc_col_7'],\n",
              "      dtype='object')"
            ]
          },
          "metadata": {
            "tags": []
          },
          "execution_count": 501
        }
      ]
    },
    {
      "cell_type": "markdown",
      "metadata": {
        "id": "GTYQbExGVzWg"
      },
      "source": [
        ""
      ]
    },
    {
      "cell_type": "markdown",
      "metadata": {
        "id": "074NpLzXq_zZ"
      },
      "source": [
        "# Encoding_departure_state"
      ]
    },
    {
      "cell_type": "code",
      "metadata": {
        "colab": {
          "base_uri": "https://localhost:8080/",
          "height": 1000
        },
        "id": "JZwSPAp3uSBl",
        "outputId": "874885ed-4ac9-4b17-9e07-d957141a8dec"
      },
      "source": [
        "deps_data = pd.DataFrame({'departure state': final_df['departure state'].unique()})\n",
        "encoder_dep= ce.HashingEncoder(cols=['departure state'],return_df=True)\n",
        "deps_data"
      ],
      "execution_count": null,
      "outputs": [
        {
          "output_type": "execute_result",
          "data": {
            "text/html": [
              "<div>\n",
              "<style scoped>\n",
              "    .dataframe tbody tr th:only-of-type {\n",
              "        vertical-align: middle;\n",
              "    }\n",
              "\n",
              "    .dataframe tbody tr th {\n",
              "        vertical-align: top;\n",
              "    }\n",
              "\n",
              "    .dataframe thead th {\n",
              "        text-align: right;\n",
              "    }\n",
              "</style>\n",
              "<table border=\"1\" class=\"dataframe\">\n",
              "  <thead>\n",
              "    <tr style=\"text-align: right;\">\n",
              "      <th></th>\n",
              "      <th>departure state</th>\n",
              "    </tr>\n",
              "  </thead>\n",
              "  <tbody>\n",
              "    <tr>\n",
              "      <th>0</th>\n",
              "      <td>Texas</td>\n",
              "    </tr>\n",
              "    <tr>\n",
              "      <th>1</th>\n",
              "      <td>Michigan</td>\n",
              "    </tr>\n",
              "    <tr>\n",
              "      <th>2</th>\n",
              "      <td>Tennessee</td>\n",
              "    </tr>\n",
              "    <tr>\n",
              "      <th>3</th>\n",
              "      <td>Arkansas</td>\n",
              "    </tr>\n",
              "    <tr>\n",
              "      <th>4</th>\n",
              "      <td>Arizona</td>\n",
              "    </tr>\n",
              "    <tr>\n",
              "      <th>5</th>\n",
              "      <td>California</td>\n",
              "    </tr>\n",
              "    <tr>\n",
              "      <th>6</th>\n",
              "      <td>Florida</td>\n",
              "    </tr>\n",
              "    <tr>\n",
              "      <th>7</th>\n",
              "      <td>Indiana</td>\n",
              "    </tr>\n",
              "    <tr>\n",
              "      <th>8</th>\n",
              "      <td>New York</td>\n",
              "    </tr>\n",
              "    <tr>\n",
              "      <th>9</th>\n",
              "      <td>Nevada</td>\n",
              "    </tr>\n",
              "    <tr>\n",
              "      <th>10</th>\n",
              "      <td>South Dakota</td>\n",
              "    </tr>\n",
              "    <tr>\n",
              "      <th>11</th>\n",
              "      <td>Virginia</td>\n",
              "    </tr>\n",
              "    <tr>\n",
              "      <th>12</th>\n",
              "      <td>Oregon</td>\n",
              "    </tr>\n",
              "    <tr>\n",
              "      <th>13</th>\n",
              "      <td>Kentucky</td>\n",
              "    </tr>\n",
              "    <tr>\n",
              "      <th>14</th>\n",
              "      <td>Georgia</td>\n",
              "    </tr>\n",
              "    <tr>\n",
              "      <th>15</th>\n",
              "      <td>Pennsylvania</td>\n",
              "    </tr>\n",
              "    <tr>\n",
              "      <th>16</th>\n",
              "      <td>Illinois</td>\n",
              "    </tr>\n",
              "    <tr>\n",
              "      <th>17</th>\n",
              "      <td>Louisiana</td>\n",
              "    </tr>\n",
              "    <tr>\n",
              "      <th>18</th>\n",
              "      <td>Delaware</td>\n",
              "    </tr>\n",
              "    <tr>\n",
              "      <th>19</th>\n",
              "      <td>Ohio</td>\n",
              "    </tr>\n",
              "    <tr>\n",
              "      <th>20</th>\n",
              "      <td>South Carolina</td>\n",
              "    </tr>\n",
              "    <tr>\n",
              "      <th>21</th>\n",
              "      <td>Washington</td>\n",
              "    </tr>\n",
              "    <tr>\n",
              "      <th>22</th>\n",
              "      <td>Missouri</td>\n",
              "    </tr>\n",
              "    <tr>\n",
              "      <th>23</th>\n",
              "      <td>Wisconsin</td>\n",
              "    </tr>\n",
              "    <tr>\n",
              "      <th>24</th>\n",
              "      <td>New Jersey</td>\n",
              "    </tr>\n",
              "    <tr>\n",
              "      <th>25</th>\n",
              "      <td>North Carolina</td>\n",
              "    </tr>\n",
              "    <tr>\n",
              "      <th>26</th>\n",
              "      <td>Mississippi</td>\n",
              "    </tr>\n",
              "    <tr>\n",
              "      <th>27</th>\n",
              "      <td>Minnesota</td>\n",
              "    </tr>\n",
              "    <tr>\n",
              "      <th>28</th>\n",
              "      <td>Iowa</td>\n",
              "    </tr>\n",
              "    <tr>\n",
              "      <th>29</th>\n",
              "      <td>New Mexico</td>\n",
              "    </tr>\n",
              "    <tr>\n",
              "      <th>30</th>\n",
              "      <td>Colorado</td>\n",
              "    </tr>\n",
              "    <tr>\n",
              "      <th>31</th>\n",
              "      <td>Utah</td>\n",
              "    </tr>\n",
              "    <tr>\n",
              "      <th>32</th>\n",
              "      <td>Maryland</td>\n",
              "    </tr>\n",
              "    <tr>\n",
              "      <th>33</th>\n",
              "      <td>Montana</td>\n",
              "    </tr>\n",
              "    <tr>\n",
              "      <th>34</th>\n",
              "      <td>Massachusetts</td>\n",
              "    </tr>\n",
              "    <tr>\n",
              "      <th>35</th>\n",
              "      <td>Alabama</td>\n",
              "    </tr>\n",
              "    <tr>\n",
              "      <th>36</th>\n",
              "      <td>Idaho</td>\n",
              "    </tr>\n",
              "    <tr>\n",
              "      <th>37</th>\n",
              "      <td>New Hampshire</td>\n",
              "    </tr>\n",
              "    <tr>\n",
              "      <th>38</th>\n",
              "      <td>Connecticut</td>\n",
              "    </tr>\n",
              "    <tr>\n",
              "      <th>39</th>\n",
              "      <td>Oklahoma</td>\n",
              "    </tr>\n",
              "    <tr>\n",
              "      <th>40</th>\n",
              "      <td>Nebraska</td>\n",
              "    </tr>\n",
              "    <tr>\n",
              "      <th>41</th>\n",
              "      <td>Maine</td>\n",
              "    </tr>\n",
              "    <tr>\n",
              "      <th>42</th>\n",
              "      <td>Kansas</td>\n",
              "    </tr>\n",
              "    <tr>\n",
              "      <th>43</th>\n",
              "      <td>Rhode Island</td>\n",
              "    </tr>\n",
              "    <tr>\n",
              "      <th>44</th>\n",
              "      <td>District of Columbia</td>\n",
              "    </tr>\n",
              "    <tr>\n",
              "      <th>45</th>\n",
              "      <td>Vermont</td>\n",
              "    </tr>\n",
              "    <tr>\n",
              "      <th>46</th>\n",
              "      <td>Wyoming</td>\n",
              "    </tr>\n",
              "    <tr>\n",
              "      <th>47</th>\n",
              "      <td>North Dakota</td>\n",
              "    </tr>\n",
              "    <tr>\n",
              "      <th>48</th>\n",
              "      <td>West Virginia</td>\n",
              "    </tr>\n",
              "  </tbody>\n",
              "</table>\n",
              "</div>"
            ],
            "text/plain": [
              "         departure state\n",
              "0                  Texas\n",
              "1               Michigan\n",
              "2              Tennessee\n",
              "3               Arkansas\n",
              "4                Arizona\n",
              "5             California\n",
              "6                Florida\n",
              "7                Indiana\n",
              "8               New York\n",
              "9                 Nevada\n",
              "10          South Dakota\n",
              "11              Virginia\n",
              "12                Oregon\n",
              "13              Kentucky\n",
              "14               Georgia\n",
              "15          Pennsylvania\n",
              "16              Illinois\n",
              "17             Louisiana\n",
              "18              Delaware\n",
              "19                  Ohio\n",
              "20        South Carolina\n",
              "21            Washington\n",
              "22              Missouri\n",
              "23             Wisconsin\n",
              "24            New Jersey\n",
              "25        North Carolina\n",
              "26           Mississippi\n",
              "27             Minnesota\n",
              "28                  Iowa\n",
              "29            New Mexico\n",
              "30              Colorado\n",
              "31                  Utah\n",
              "32              Maryland\n",
              "33               Montana\n",
              "34         Massachusetts\n",
              "35               Alabama\n",
              "36                 Idaho\n",
              "37         New Hampshire\n",
              "38           Connecticut\n",
              "39              Oklahoma\n",
              "40              Nebraska\n",
              "41                 Maine\n",
              "42                Kansas\n",
              "43          Rhode Island\n",
              "44  District of Columbia\n",
              "45               Vermont\n",
              "46               Wyoming\n",
              "47          North Dakota\n",
              "48         West Virginia"
            ]
          },
          "metadata": {
            "tags": []
          },
          "execution_count": 502
        }
      ]
    },
    {
      "cell_type": "code",
      "metadata": {
        "colab": {
          "base_uri": "https://localhost:8080/",
          "height": 1000
        },
        "id": "9oIjkp7Vu---",
        "outputId": "acff2214-00c8-4e6b-95b7-85435841fd25"
      },
      "source": [
        "deps_data_encoded=encoder_dep.fit_transform(deps_data) \n",
        "df_deps = pd.concat([deps_data, deps_data_encoded], axis = 1)\n",
        "df_deps"
      ],
      "execution_count": null,
      "outputs": [
        {
          "output_type": "stream",
          "text": [
            "/usr/local/lib/python3.7/dist-packages/category_encoders/utils.py:21: FutureWarning: is_categorical is deprecated and will be removed in a future version.  Use is_categorical_dtype instead\n",
            "  elif pd.api.types.is_categorical(cols):\n"
          ],
          "name": "stderr"
        },
        {
          "output_type": "execute_result",
          "data": {
            "text/html": [
              "<div>\n",
              "<style scoped>\n",
              "    .dataframe tbody tr th:only-of-type {\n",
              "        vertical-align: middle;\n",
              "    }\n",
              "\n",
              "    .dataframe tbody tr th {\n",
              "        vertical-align: top;\n",
              "    }\n",
              "\n",
              "    .dataframe thead th {\n",
              "        text-align: right;\n",
              "    }\n",
              "</style>\n",
              "<table border=\"1\" class=\"dataframe\">\n",
              "  <thead>\n",
              "    <tr style=\"text-align: right;\">\n",
              "      <th></th>\n",
              "      <th>departure state</th>\n",
              "      <th>col_0</th>\n",
              "      <th>col_1</th>\n",
              "      <th>col_2</th>\n",
              "      <th>col_3</th>\n",
              "      <th>col_4</th>\n",
              "      <th>col_5</th>\n",
              "      <th>col_6</th>\n",
              "      <th>col_7</th>\n",
              "    </tr>\n",
              "  </thead>\n",
              "  <tbody>\n",
              "    <tr>\n",
              "      <th>0</th>\n",
              "      <td>Texas</td>\n",
              "      <td>0</td>\n",
              "      <td>0</td>\n",
              "      <td>1</td>\n",
              "      <td>0</td>\n",
              "      <td>0</td>\n",
              "      <td>0</td>\n",
              "      <td>0</td>\n",
              "      <td>0</td>\n",
              "    </tr>\n",
              "    <tr>\n",
              "      <th>1</th>\n",
              "      <td>Michigan</td>\n",
              "      <td>1</td>\n",
              "      <td>0</td>\n",
              "      <td>0</td>\n",
              "      <td>0</td>\n",
              "      <td>0</td>\n",
              "      <td>0</td>\n",
              "      <td>0</td>\n",
              "      <td>0</td>\n",
              "    </tr>\n",
              "    <tr>\n",
              "      <th>2</th>\n",
              "      <td>Tennessee</td>\n",
              "      <td>0</td>\n",
              "      <td>0</td>\n",
              "      <td>0</td>\n",
              "      <td>0</td>\n",
              "      <td>0</td>\n",
              "      <td>0</td>\n",
              "      <td>0</td>\n",
              "      <td>1</td>\n",
              "    </tr>\n",
              "    <tr>\n",
              "      <th>3</th>\n",
              "      <td>Arkansas</td>\n",
              "      <td>0</td>\n",
              "      <td>0</td>\n",
              "      <td>1</td>\n",
              "      <td>0</td>\n",
              "      <td>0</td>\n",
              "      <td>0</td>\n",
              "      <td>0</td>\n",
              "      <td>0</td>\n",
              "    </tr>\n",
              "    <tr>\n",
              "      <th>4</th>\n",
              "      <td>Arizona</td>\n",
              "      <td>1</td>\n",
              "      <td>0</td>\n",
              "      <td>0</td>\n",
              "      <td>0</td>\n",
              "      <td>0</td>\n",
              "      <td>0</td>\n",
              "      <td>0</td>\n",
              "      <td>0</td>\n",
              "    </tr>\n",
              "    <tr>\n",
              "      <th>5</th>\n",
              "      <td>California</td>\n",
              "      <td>0</td>\n",
              "      <td>0</td>\n",
              "      <td>0</td>\n",
              "      <td>0</td>\n",
              "      <td>1</td>\n",
              "      <td>0</td>\n",
              "      <td>0</td>\n",
              "      <td>0</td>\n",
              "    </tr>\n",
              "    <tr>\n",
              "      <th>6</th>\n",
              "      <td>Florida</td>\n",
              "      <td>1</td>\n",
              "      <td>0</td>\n",
              "      <td>0</td>\n",
              "      <td>0</td>\n",
              "      <td>0</td>\n",
              "      <td>0</td>\n",
              "      <td>0</td>\n",
              "      <td>0</td>\n",
              "    </tr>\n",
              "    <tr>\n",
              "      <th>7</th>\n",
              "      <td>Indiana</td>\n",
              "      <td>0</td>\n",
              "      <td>1</td>\n",
              "      <td>0</td>\n",
              "      <td>0</td>\n",
              "      <td>0</td>\n",
              "      <td>0</td>\n",
              "      <td>0</td>\n",
              "      <td>0</td>\n",
              "    </tr>\n",
              "    <tr>\n",
              "      <th>8</th>\n",
              "      <td>New York</td>\n",
              "      <td>0</td>\n",
              "      <td>0</td>\n",
              "      <td>0</td>\n",
              "      <td>1</td>\n",
              "      <td>0</td>\n",
              "      <td>0</td>\n",
              "      <td>0</td>\n",
              "      <td>0</td>\n",
              "    </tr>\n",
              "    <tr>\n",
              "      <th>9</th>\n",
              "      <td>Nevada</td>\n",
              "      <td>0</td>\n",
              "      <td>0</td>\n",
              "      <td>0</td>\n",
              "      <td>1</td>\n",
              "      <td>0</td>\n",
              "      <td>0</td>\n",
              "      <td>0</td>\n",
              "      <td>0</td>\n",
              "    </tr>\n",
              "    <tr>\n",
              "      <th>10</th>\n",
              "      <td>South Dakota</td>\n",
              "      <td>0</td>\n",
              "      <td>0</td>\n",
              "      <td>1</td>\n",
              "      <td>0</td>\n",
              "      <td>0</td>\n",
              "      <td>0</td>\n",
              "      <td>0</td>\n",
              "      <td>0</td>\n",
              "    </tr>\n",
              "    <tr>\n",
              "      <th>11</th>\n",
              "      <td>Virginia</td>\n",
              "      <td>0</td>\n",
              "      <td>0</td>\n",
              "      <td>0</td>\n",
              "      <td>0</td>\n",
              "      <td>1</td>\n",
              "      <td>0</td>\n",
              "      <td>0</td>\n",
              "      <td>0</td>\n",
              "    </tr>\n",
              "    <tr>\n",
              "      <th>12</th>\n",
              "      <td>Oregon</td>\n",
              "      <td>0</td>\n",
              "      <td>0</td>\n",
              "      <td>0</td>\n",
              "      <td>0</td>\n",
              "      <td>1</td>\n",
              "      <td>0</td>\n",
              "      <td>0</td>\n",
              "      <td>0</td>\n",
              "    </tr>\n",
              "    <tr>\n",
              "      <th>13</th>\n",
              "      <td>Kentucky</td>\n",
              "      <td>1</td>\n",
              "      <td>0</td>\n",
              "      <td>0</td>\n",
              "      <td>0</td>\n",
              "      <td>0</td>\n",
              "      <td>0</td>\n",
              "      <td>0</td>\n",
              "      <td>0</td>\n",
              "    </tr>\n",
              "    <tr>\n",
              "      <th>14</th>\n",
              "      <td>Georgia</td>\n",
              "      <td>0</td>\n",
              "      <td>0</td>\n",
              "      <td>0</td>\n",
              "      <td>1</td>\n",
              "      <td>0</td>\n",
              "      <td>0</td>\n",
              "      <td>0</td>\n",
              "      <td>0</td>\n",
              "    </tr>\n",
              "    <tr>\n",
              "      <th>15</th>\n",
              "      <td>Pennsylvania</td>\n",
              "      <td>0</td>\n",
              "      <td>1</td>\n",
              "      <td>0</td>\n",
              "      <td>0</td>\n",
              "      <td>0</td>\n",
              "      <td>0</td>\n",
              "      <td>0</td>\n",
              "      <td>0</td>\n",
              "    </tr>\n",
              "    <tr>\n",
              "      <th>16</th>\n",
              "      <td>Illinois</td>\n",
              "      <td>0</td>\n",
              "      <td>0</td>\n",
              "      <td>0</td>\n",
              "      <td>0</td>\n",
              "      <td>0</td>\n",
              "      <td>0</td>\n",
              "      <td>0</td>\n",
              "      <td>1</td>\n",
              "    </tr>\n",
              "    <tr>\n",
              "      <th>17</th>\n",
              "      <td>Louisiana</td>\n",
              "      <td>0</td>\n",
              "      <td>0</td>\n",
              "      <td>0</td>\n",
              "      <td>0</td>\n",
              "      <td>1</td>\n",
              "      <td>0</td>\n",
              "      <td>0</td>\n",
              "      <td>0</td>\n",
              "    </tr>\n",
              "    <tr>\n",
              "      <th>18</th>\n",
              "      <td>Delaware</td>\n",
              "      <td>0</td>\n",
              "      <td>0</td>\n",
              "      <td>0</td>\n",
              "      <td>0</td>\n",
              "      <td>1</td>\n",
              "      <td>0</td>\n",
              "      <td>0</td>\n",
              "      <td>0</td>\n",
              "    </tr>\n",
              "    <tr>\n",
              "      <th>19</th>\n",
              "      <td>Ohio</td>\n",
              "      <td>0</td>\n",
              "      <td>0</td>\n",
              "      <td>0</td>\n",
              "      <td>0</td>\n",
              "      <td>0</td>\n",
              "      <td>0</td>\n",
              "      <td>0</td>\n",
              "      <td>1</td>\n",
              "    </tr>\n",
              "    <tr>\n",
              "      <th>20</th>\n",
              "      <td>South Carolina</td>\n",
              "      <td>0</td>\n",
              "      <td>0</td>\n",
              "      <td>1</td>\n",
              "      <td>0</td>\n",
              "      <td>0</td>\n",
              "      <td>0</td>\n",
              "      <td>0</td>\n",
              "      <td>0</td>\n",
              "    </tr>\n",
              "    <tr>\n",
              "      <th>21</th>\n",
              "      <td>Washington</td>\n",
              "      <td>0</td>\n",
              "      <td>0</td>\n",
              "      <td>1</td>\n",
              "      <td>0</td>\n",
              "      <td>0</td>\n",
              "      <td>0</td>\n",
              "      <td>0</td>\n",
              "      <td>0</td>\n",
              "    </tr>\n",
              "    <tr>\n",
              "      <th>22</th>\n",
              "      <td>Missouri</td>\n",
              "      <td>0</td>\n",
              "      <td>0</td>\n",
              "      <td>0</td>\n",
              "      <td>0</td>\n",
              "      <td>1</td>\n",
              "      <td>0</td>\n",
              "      <td>0</td>\n",
              "      <td>0</td>\n",
              "    </tr>\n",
              "    <tr>\n",
              "      <th>23</th>\n",
              "      <td>Wisconsin</td>\n",
              "      <td>0</td>\n",
              "      <td>0</td>\n",
              "      <td>0</td>\n",
              "      <td>0</td>\n",
              "      <td>0</td>\n",
              "      <td>0</td>\n",
              "      <td>0</td>\n",
              "      <td>1</td>\n",
              "    </tr>\n",
              "    <tr>\n",
              "      <th>24</th>\n",
              "      <td>New Jersey</td>\n",
              "      <td>0</td>\n",
              "      <td>0</td>\n",
              "      <td>0</td>\n",
              "      <td>0</td>\n",
              "      <td>1</td>\n",
              "      <td>0</td>\n",
              "      <td>0</td>\n",
              "      <td>0</td>\n",
              "    </tr>\n",
              "    <tr>\n",
              "      <th>25</th>\n",
              "      <td>North Carolina</td>\n",
              "      <td>0</td>\n",
              "      <td>0</td>\n",
              "      <td>0</td>\n",
              "      <td>0</td>\n",
              "      <td>0</td>\n",
              "      <td>1</td>\n",
              "      <td>0</td>\n",
              "      <td>0</td>\n",
              "    </tr>\n",
              "    <tr>\n",
              "      <th>26</th>\n",
              "      <td>Mississippi</td>\n",
              "      <td>0</td>\n",
              "      <td>0</td>\n",
              "      <td>0</td>\n",
              "      <td>0</td>\n",
              "      <td>0</td>\n",
              "      <td>0</td>\n",
              "      <td>1</td>\n",
              "      <td>0</td>\n",
              "    </tr>\n",
              "    <tr>\n",
              "      <th>27</th>\n",
              "      <td>Minnesota</td>\n",
              "      <td>0</td>\n",
              "      <td>1</td>\n",
              "      <td>0</td>\n",
              "      <td>0</td>\n",
              "      <td>0</td>\n",
              "      <td>0</td>\n",
              "      <td>0</td>\n",
              "      <td>0</td>\n",
              "    </tr>\n",
              "    <tr>\n",
              "      <th>28</th>\n",
              "      <td>Iowa</td>\n",
              "      <td>0</td>\n",
              "      <td>1</td>\n",
              "      <td>0</td>\n",
              "      <td>0</td>\n",
              "      <td>0</td>\n",
              "      <td>0</td>\n",
              "      <td>0</td>\n",
              "      <td>0</td>\n",
              "    </tr>\n",
              "    <tr>\n",
              "      <th>29</th>\n",
              "      <td>New Mexico</td>\n",
              "      <td>0</td>\n",
              "      <td>0</td>\n",
              "      <td>1</td>\n",
              "      <td>0</td>\n",
              "      <td>0</td>\n",
              "      <td>0</td>\n",
              "      <td>0</td>\n",
              "      <td>0</td>\n",
              "    </tr>\n",
              "    <tr>\n",
              "      <th>30</th>\n",
              "      <td>Colorado</td>\n",
              "      <td>0</td>\n",
              "      <td>0</td>\n",
              "      <td>0</td>\n",
              "      <td>1</td>\n",
              "      <td>0</td>\n",
              "      <td>0</td>\n",
              "      <td>0</td>\n",
              "      <td>0</td>\n",
              "    </tr>\n",
              "    <tr>\n",
              "      <th>31</th>\n",
              "      <td>Utah</td>\n",
              "      <td>0</td>\n",
              "      <td>0</td>\n",
              "      <td>0</td>\n",
              "      <td>0</td>\n",
              "      <td>0</td>\n",
              "      <td>0</td>\n",
              "      <td>1</td>\n",
              "      <td>0</td>\n",
              "    </tr>\n",
              "    <tr>\n",
              "      <th>32</th>\n",
              "      <td>Maryland</td>\n",
              "      <td>0</td>\n",
              "      <td>0</td>\n",
              "      <td>0</td>\n",
              "      <td>0</td>\n",
              "      <td>0</td>\n",
              "      <td>0</td>\n",
              "      <td>0</td>\n",
              "      <td>1</td>\n",
              "    </tr>\n",
              "    <tr>\n",
              "      <th>33</th>\n",
              "      <td>Montana</td>\n",
              "      <td>0</td>\n",
              "      <td>0</td>\n",
              "      <td>0</td>\n",
              "      <td>1</td>\n",
              "      <td>0</td>\n",
              "      <td>0</td>\n",
              "      <td>0</td>\n",
              "      <td>0</td>\n",
              "    </tr>\n",
              "    <tr>\n",
              "      <th>34</th>\n",
              "      <td>Massachusetts</td>\n",
              "      <td>0</td>\n",
              "      <td>1</td>\n",
              "      <td>0</td>\n",
              "      <td>0</td>\n",
              "      <td>0</td>\n",
              "      <td>0</td>\n",
              "      <td>0</td>\n",
              "      <td>0</td>\n",
              "    </tr>\n",
              "    <tr>\n",
              "      <th>35</th>\n",
              "      <td>Alabama</td>\n",
              "      <td>0</td>\n",
              "      <td>0</td>\n",
              "      <td>1</td>\n",
              "      <td>0</td>\n",
              "      <td>0</td>\n",
              "      <td>0</td>\n",
              "      <td>0</td>\n",
              "      <td>0</td>\n",
              "    </tr>\n",
              "    <tr>\n",
              "      <th>36</th>\n",
              "      <td>Idaho</td>\n",
              "      <td>0</td>\n",
              "      <td>1</td>\n",
              "      <td>0</td>\n",
              "      <td>0</td>\n",
              "      <td>0</td>\n",
              "      <td>0</td>\n",
              "      <td>0</td>\n",
              "      <td>0</td>\n",
              "    </tr>\n",
              "    <tr>\n",
              "      <th>37</th>\n",
              "      <td>New Hampshire</td>\n",
              "      <td>0</td>\n",
              "      <td>0</td>\n",
              "      <td>0</td>\n",
              "      <td>0</td>\n",
              "      <td>0</td>\n",
              "      <td>1</td>\n",
              "      <td>0</td>\n",
              "      <td>0</td>\n",
              "    </tr>\n",
              "    <tr>\n",
              "      <th>38</th>\n",
              "      <td>Connecticut</td>\n",
              "      <td>0</td>\n",
              "      <td>0</td>\n",
              "      <td>0</td>\n",
              "      <td>1</td>\n",
              "      <td>0</td>\n",
              "      <td>0</td>\n",
              "      <td>0</td>\n",
              "      <td>0</td>\n",
              "    </tr>\n",
              "    <tr>\n",
              "      <th>39</th>\n",
              "      <td>Oklahoma</td>\n",
              "      <td>0</td>\n",
              "      <td>0</td>\n",
              "      <td>0</td>\n",
              "      <td>0</td>\n",
              "      <td>0</td>\n",
              "      <td>0</td>\n",
              "      <td>1</td>\n",
              "      <td>0</td>\n",
              "    </tr>\n",
              "    <tr>\n",
              "      <th>40</th>\n",
              "      <td>Nebraska</td>\n",
              "      <td>0</td>\n",
              "      <td>0</td>\n",
              "      <td>0</td>\n",
              "      <td>1</td>\n",
              "      <td>0</td>\n",
              "      <td>0</td>\n",
              "      <td>0</td>\n",
              "      <td>0</td>\n",
              "    </tr>\n",
              "    <tr>\n",
              "      <th>41</th>\n",
              "      <td>Maine</td>\n",
              "      <td>1</td>\n",
              "      <td>0</td>\n",
              "      <td>0</td>\n",
              "      <td>0</td>\n",
              "      <td>0</td>\n",
              "      <td>0</td>\n",
              "      <td>0</td>\n",
              "      <td>0</td>\n",
              "    </tr>\n",
              "    <tr>\n",
              "      <th>42</th>\n",
              "      <td>Kansas</td>\n",
              "      <td>0</td>\n",
              "      <td>0</td>\n",
              "      <td>0</td>\n",
              "      <td>0</td>\n",
              "      <td>0</td>\n",
              "      <td>1</td>\n",
              "      <td>0</td>\n",
              "      <td>0</td>\n",
              "    </tr>\n",
              "    <tr>\n",
              "      <th>43</th>\n",
              "      <td>Rhode Island</td>\n",
              "      <td>0</td>\n",
              "      <td>1</td>\n",
              "      <td>0</td>\n",
              "      <td>0</td>\n",
              "      <td>0</td>\n",
              "      <td>0</td>\n",
              "      <td>0</td>\n",
              "      <td>0</td>\n",
              "    </tr>\n",
              "    <tr>\n",
              "      <th>44</th>\n",
              "      <td>District of Columbia</td>\n",
              "      <td>0</td>\n",
              "      <td>0</td>\n",
              "      <td>0</td>\n",
              "      <td>0</td>\n",
              "      <td>1</td>\n",
              "      <td>0</td>\n",
              "      <td>0</td>\n",
              "      <td>0</td>\n",
              "    </tr>\n",
              "    <tr>\n",
              "      <th>45</th>\n",
              "      <td>Vermont</td>\n",
              "      <td>0</td>\n",
              "      <td>0</td>\n",
              "      <td>0</td>\n",
              "      <td>0</td>\n",
              "      <td>0</td>\n",
              "      <td>0</td>\n",
              "      <td>1</td>\n",
              "      <td>0</td>\n",
              "    </tr>\n",
              "    <tr>\n",
              "      <th>46</th>\n",
              "      <td>Wyoming</td>\n",
              "      <td>0</td>\n",
              "      <td>0</td>\n",
              "      <td>0</td>\n",
              "      <td>0</td>\n",
              "      <td>1</td>\n",
              "      <td>0</td>\n",
              "      <td>0</td>\n",
              "      <td>0</td>\n",
              "    </tr>\n",
              "    <tr>\n",
              "      <th>47</th>\n",
              "      <td>North Dakota</td>\n",
              "      <td>0</td>\n",
              "      <td>0</td>\n",
              "      <td>0</td>\n",
              "      <td>0</td>\n",
              "      <td>0</td>\n",
              "      <td>1</td>\n",
              "      <td>0</td>\n",
              "      <td>0</td>\n",
              "    </tr>\n",
              "    <tr>\n",
              "      <th>48</th>\n",
              "      <td>West Virginia</td>\n",
              "      <td>0</td>\n",
              "      <td>0</td>\n",
              "      <td>0</td>\n",
              "      <td>1</td>\n",
              "      <td>0</td>\n",
              "      <td>0</td>\n",
              "      <td>0</td>\n",
              "      <td>0</td>\n",
              "    </tr>\n",
              "  </tbody>\n",
              "</table>\n",
              "</div>"
            ],
            "text/plain": [
              "         departure state  col_0  col_1  col_2  ...  col_4  col_5  col_6  col_7\n",
              "0                  Texas      0      0      1  ...      0      0      0      0\n",
              "1               Michigan      1      0      0  ...      0      0      0      0\n",
              "2              Tennessee      0      0      0  ...      0      0      0      1\n",
              "3               Arkansas      0      0      1  ...      0      0      0      0\n",
              "4                Arizona      1      0      0  ...      0      0      0      0\n",
              "5             California      0      0      0  ...      1      0      0      0\n",
              "6                Florida      1      0      0  ...      0      0      0      0\n",
              "7                Indiana      0      1      0  ...      0      0      0      0\n",
              "8               New York      0      0      0  ...      0      0      0      0\n",
              "9                 Nevada      0      0      0  ...      0      0      0      0\n",
              "10          South Dakota      0      0      1  ...      0      0      0      0\n",
              "11              Virginia      0      0      0  ...      1      0      0      0\n",
              "12                Oregon      0      0      0  ...      1      0      0      0\n",
              "13              Kentucky      1      0      0  ...      0      0      0      0\n",
              "14               Georgia      0      0      0  ...      0      0      0      0\n",
              "15          Pennsylvania      0      1      0  ...      0      0      0      0\n",
              "16              Illinois      0      0      0  ...      0      0      0      1\n",
              "17             Louisiana      0      0      0  ...      1      0      0      0\n",
              "18              Delaware      0      0      0  ...      1      0      0      0\n",
              "19                  Ohio      0      0      0  ...      0      0      0      1\n",
              "20        South Carolina      0      0      1  ...      0      0      0      0\n",
              "21            Washington      0      0      1  ...      0      0      0      0\n",
              "22              Missouri      0      0      0  ...      1      0      0      0\n",
              "23             Wisconsin      0      0      0  ...      0      0      0      1\n",
              "24            New Jersey      0      0      0  ...      1      0      0      0\n",
              "25        North Carolina      0      0      0  ...      0      1      0      0\n",
              "26           Mississippi      0      0      0  ...      0      0      1      0\n",
              "27             Minnesota      0      1      0  ...      0      0      0      0\n",
              "28                  Iowa      0      1      0  ...      0      0      0      0\n",
              "29            New Mexico      0      0      1  ...      0      0      0      0\n",
              "30              Colorado      0      0      0  ...      0      0      0      0\n",
              "31                  Utah      0      0      0  ...      0      0      1      0\n",
              "32              Maryland      0      0      0  ...      0      0      0      1\n",
              "33               Montana      0      0      0  ...      0      0      0      0\n",
              "34         Massachusetts      0      1      0  ...      0      0      0      0\n",
              "35               Alabama      0      0      1  ...      0      0      0      0\n",
              "36                 Idaho      0      1      0  ...      0      0      0      0\n",
              "37         New Hampshire      0      0      0  ...      0      1      0      0\n",
              "38           Connecticut      0      0      0  ...      0      0      0      0\n",
              "39              Oklahoma      0      0      0  ...      0      0      1      0\n",
              "40              Nebraska      0      0      0  ...      0      0      0      0\n",
              "41                 Maine      1      0      0  ...      0      0      0      0\n",
              "42                Kansas      0      0      0  ...      0      1      0      0\n",
              "43          Rhode Island      0      1      0  ...      0      0      0      0\n",
              "44  District of Columbia      0      0      0  ...      1      0      0      0\n",
              "45               Vermont      0      0      0  ...      0      0      1      0\n",
              "46               Wyoming      0      0      0  ...      1      0      0      0\n",
              "47          North Dakota      0      0      0  ...      0      1      0      0\n",
              "48         West Virginia      0      0      0  ...      0      0      0      0\n",
              "\n",
              "[49 rows x 9 columns]"
            ]
          },
          "metadata": {
            "tags": []
          },
          "execution_count": 503
        }
      ]
    },
    {
      "cell_type": "code",
      "metadata": {
        "colab": {
          "base_uri": "https://localhost:8080/",
          "height": 402
        },
        "id": "Er3YAI-kvaJp",
        "outputId": "9f14e427-16c9-4286-f40a-f405bd676031"
      },
      "source": [
        "final_df_deps = final_df['departure state']\n",
        "final_df_deps = pd.merge(final_df_deps, df_deps, how='left', on='departure state', left_on=None, right_on=None, left_index=False, right_index=False, sort=None)\n",
        "final_df_deps"
      ],
      "execution_count": null,
      "outputs": [
        {
          "output_type": "execute_result",
          "data": {
            "text/html": [
              "<div>\n",
              "<style scoped>\n",
              "    .dataframe tbody tr th:only-of-type {\n",
              "        vertical-align: middle;\n",
              "    }\n",
              "\n",
              "    .dataframe tbody tr th {\n",
              "        vertical-align: top;\n",
              "    }\n",
              "\n",
              "    .dataframe thead th {\n",
              "        text-align: right;\n",
              "    }\n",
              "</style>\n",
              "<table border=\"1\" class=\"dataframe\">\n",
              "  <thead>\n",
              "    <tr style=\"text-align: right;\">\n",
              "      <th></th>\n",
              "      <th>departure state</th>\n",
              "      <th>col_0</th>\n",
              "      <th>col_1</th>\n",
              "      <th>col_2</th>\n",
              "      <th>col_3</th>\n",
              "      <th>col_4</th>\n",
              "      <th>col_5</th>\n",
              "      <th>col_6</th>\n",
              "      <th>col_7</th>\n",
              "    </tr>\n",
              "  </thead>\n",
              "  <tbody>\n",
              "    <tr>\n",
              "      <th>0</th>\n",
              "      <td>Texas</td>\n",
              "      <td>0</td>\n",
              "      <td>0</td>\n",
              "      <td>1</td>\n",
              "      <td>0</td>\n",
              "      <td>0</td>\n",
              "      <td>0</td>\n",
              "      <td>0</td>\n",
              "      <td>0</td>\n",
              "    </tr>\n",
              "    <tr>\n",
              "      <th>1</th>\n",
              "      <td>Michigan</td>\n",
              "      <td>1</td>\n",
              "      <td>0</td>\n",
              "      <td>0</td>\n",
              "      <td>0</td>\n",
              "      <td>0</td>\n",
              "      <td>0</td>\n",
              "      <td>0</td>\n",
              "      <td>0</td>\n",
              "    </tr>\n",
              "    <tr>\n",
              "      <th>2</th>\n",
              "      <td>Michigan</td>\n",
              "      <td>1</td>\n",
              "      <td>0</td>\n",
              "      <td>0</td>\n",
              "      <td>0</td>\n",
              "      <td>0</td>\n",
              "      <td>0</td>\n",
              "      <td>0</td>\n",
              "      <td>0</td>\n",
              "    </tr>\n",
              "    <tr>\n",
              "      <th>3</th>\n",
              "      <td>Michigan</td>\n",
              "      <td>1</td>\n",
              "      <td>0</td>\n",
              "      <td>0</td>\n",
              "      <td>0</td>\n",
              "      <td>0</td>\n",
              "      <td>0</td>\n",
              "      <td>0</td>\n",
              "      <td>0</td>\n",
              "    </tr>\n",
              "    <tr>\n",
              "      <th>4</th>\n",
              "      <td>Michigan</td>\n",
              "      <td>1</td>\n",
              "      <td>0</td>\n",
              "      <td>0</td>\n",
              "      <td>0</td>\n",
              "      <td>0</td>\n",
              "      <td>0</td>\n",
              "      <td>0</td>\n",
              "      <td>0</td>\n",
              "    </tr>\n",
              "    <tr>\n",
              "      <th>...</th>\n",
              "      <td>...</td>\n",
              "      <td>...</td>\n",
              "      <td>...</td>\n",
              "      <td>...</td>\n",
              "      <td>...</td>\n",
              "      <td>...</td>\n",
              "      <td>...</td>\n",
              "      <td>...</td>\n",
              "      <td>...</td>\n",
              "    </tr>\n",
              "    <tr>\n",
              "      <th>9989</th>\n",
              "      <td>New York</td>\n",
              "      <td>0</td>\n",
              "      <td>0</td>\n",
              "      <td>0</td>\n",
              "      <td>1</td>\n",
              "      <td>0</td>\n",
              "      <td>0</td>\n",
              "      <td>0</td>\n",
              "      <td>0</td>\n",
              "    </tr>\n",
              "    <tr>\n",
              "      <th>9990</th>\n",
              "      <td>New York</td>\n",
              "      <td>0</td>\n",
              "      <td>0</td>\n",
              "      <td>0</td>\n",
              "      <td>1</td>\n",
              "      <td>0</td>\n",
              "      <td>0</td>\n",
              "      <td>0</td>\n",
              "      <td>0</td>\n",
              "    </tr>\n",
              "    <tr>\n",
              "      <th>9991</th>\n",
              "      <td>New York</td>\n",
              "      <td>0</td>\n",
              "      <td>0</td>\n",
              "      <td>0</td>\n",
              "      <td>1</td>\n",
              "      <td>0</td>\n",
              "      <td>0</td>\n",
              "      <td>0</td>\n",
              "      <td>0</td>\n",
              "    </tr>\n",
              "    <tr>\n",
              "      <th>9992</th>\n",
              "      <td>California</td>\n",
              "      <td>0</td>\n",
              "      <td>0</td>\n",
              "      <td>0</td>\n",
              "      <td>0</td>\n",
              "      <td>1</td>\n",
              "      <td>0</td>\n",
              "      <td>0</td>\n",
              "      <td>0</td>\n",
              "    </tr>\n",
              "    <tr>\n",
              "      <th>9993</th>\n",
              "      <td>Colorado</td>\n",
              "      <td>0</td>\n",
              "      <td>0</td>\n",
              "      <td>0</td>\n",
              "      <td>1</td>\n",
              "      <td>0</td>\n",
              "      <td>0</td>\n",
              "      <td>0</td>\n",
              "      <td>0</td>\n",
              "    </tr>\n",
              "  </tbody>\n",
              "</table>\n",
              "<p>9994 rows × 9 columns</p>\n",
              "</div>"
            ],
            "text/plain": [
              "     departure state  col_0  col_1  col_2  col_3  col_4  col_5  col_6  col_7\n",
              "0              Texas      0      0      1      0      0      0      0      0\n",
              "1           Michigan      1      0      0      0      0      0      0      0\n",
              "2           Michigan      1      0      0      0      0      0      0      0\n",
              "3           Michigan      1      0      0      0      0      0      0      0\n",
              "4           Michigan      1      0      0      0      0      0      0      0\n",
              "...              ...    ...    ...    ...    ...    ...    ...    ...    ...\n",
              "9989        New York      0      0      0      1      0      0      0      0\n",
              "9990        New York      0      0      0      1      0      0      0      0\n",
              "9991        New York      0      0      0      1      0      0      0      0\n",
              "9992      California      0      0      0      0      1      0      0      0\n",
              "9993        Colorado      0      0      0      1      0      0      0      0\n",
              "\n",
              "[9994 rows x 9 columns]"
            ]
          },
          "metadata": {
            "tags": []
          },
          "execution_count": 504
        }
      ]
    },
    {
      "cell_type": "code",
      "metadata": {
        "id": "OvkzW1DBwCwe"
      },
      "source": [
        "df_departurestate_train = final_df_deps.iloc[:6700,:]\n",
        "df_departurestate_test = final_df_deps.iloc[6700:,:]"
      ],
      "execution_count": null,
      "outputs": []
    },
    {
      "cell_type": "code",
      "metadata": {
        "colab": {
          "base_uri": "https://localhost:8080/",
          "height": 606
        },
        "id": "nkA6iuOzwW5a",
        "outputId": "bccac669-53f6-4414-d121-c906dfc96975"
      },
      "source": [
        "df = pd.concat([df, df_departurestate_train], axis = 1)\n",
        "df = df.drop(['departure state', 'departure state'], axis = 1)\n",
        "df"
      ],
      "execution_count": null,
      "outputs": [
        {
          "output_type": "execute_result",
          "data": {
            "text/html": [
              "<div>\n",
              "<style scoped>\n",
              "    .dataframe tbody tr th:only-of-type {\n",
              "        vertical-align: middle;\n",
              "    }\n",
              "\n",
              "    .dataframe tbody tr th {\n",
              "        vertical-align: top;\n",
              "    }\n",
              "\n",
              "    .dataframe thead th {\n",
              "        text-align: right;\n",
              "    }\n",
              "</style>\n",
              "<table border=\"1\" class=\"dataframe\">\n",
              "  <thead>\n",
              "    <tr style=\"text-align: right;\">\n",
              "      <th></th>\n",
              "      <th>discount</th>\n",
              "      <th>price</th>\n",
              "      <th>no of items</th>\n",
              "      <th>location</th>\n",
              "      <th>class</th>\n",
              "      <th>segment</th>\n",
              "      <th>sub-class</th>\n",
              "      <th>delivery type</th>\n",
              "      <th>profit</th>\n",
              "      <th>address code</th>\n",
              "      <th>month</th>\n",
              "      <th>quarter</th>\n",
              "      <th>dc_col_0</th>\n",
              "      <th>dc_col_1</th>\n",
              "      <th>dc_col_2</th>\n",
              "      <th>dc_col_3</th>\n",
              "      <th>dc_col_4</th>\n",
              "      <th>dc_col_5</th>\n",
              "      <th>dc_col_6</th>\n",
              "      <th>dc_col_7</th>\n",
              "      <th>col_0</th>\n",
              "      <th>col_1</th>\n",
              "      <th>col_2</th>\n",
              "      <th>col_3</th>\n",
              "      <th>col_4</th>\n",
              "      <th>col_5</th>\n",
              "      <th>col_6</th>\n",
              "      <th>col_7</th>\n",
              "    </tr>\n",
              "  </thead>\n",
              "  <tbody>\n",
              "    <tr>\n",
              "      <th>0</th>\n",
              "      <td>0.2</td>\n",
              "      <td>16.448</td>\n",
              "      <td>2</td>\n",
              "      <td>Central</td>\n",
              "      <td>kariox</td>\n",
              "      <td>Consumer</td>\n",
              "      <td>phone</td>\n",
              "      <td>Standard Class</td>\n",
              "      <td>5.5512</td>\n",
              "      <td>77095</td>\n",
              "      <td>1</td>\n",
              "      <td>1</td>\n",
              "      <td>0</td>\n",
              "      <td>0</td>\n",
              "      <td>0</td>\n",
              "      <td>1</td>\n",
              "      <td>0</td>\n",
              "      <td>0</td>\n",
              "      <td>0</td>\n",
              "      <td>0</td>\n",
              "      <td>0</td>\n",
              "      <td>0</td>\n",
              "      <td>1</td>\n",
              "      <td>0</td>\n",
              "      <td>0</td>\n",
              "      <td>0</td>\n",
              "      <td>0</td>\n",
              "      <td>0</td>\n",
              "    </tr>\n",
              "    <tr>\n",
              "      <th>1</th>\n",
              "      <td>0.0</td>\n",
              "      <td>29.700</td>\n",
              "      <td>5</td>\n",
              "      <td>Central</td>\n",
              "      <td>kariox</td>\n",
              "      <td>Consumer</td>\n",
              "      <td>headset</td>\n",
              "      <td>Standard Class</td>\n",
              "      <td>13.3650</td>\n",
              "      <td>48185</td>\n",
              "      <td>1</td>\n",
              "      <td>1</td>\n",
              "      <td>0</td>\n",
              "      <td>0</td>\n",
              "      <td>0</td>\n",
              "      <td>0</td>\n",
              "      <td>0</td>\n",
              "      <td>0</td>\n",
              "      <td>0</td>\n",
              "      <td>1</td>\n",
              "      <td>1</td>\n",
              "      <td>0</td>\n",
              "      <td>0</td>\n",
              "      <td>0</td>\n",
              "      <td>0</td>\n",
              "      <td>0</td>\n",
              "      <td>0</td>\n",
              "      <td>0</td>\n",
              "    </tr>\n",
              "    <tr>\n",
              "      <th>2</th>\n",
              "      <td>0.0</td>\n",
              "      <td>14.730</td>\n",
              "      <td>3</td>\n",
              "      <td>Central</td>\n",
              "      <td>qexty</td>\n",
              "      <td>Consumer</td>\n",
              "      <td>shorts</td>\n",
              "      <td>Standard Class</td>\n",
              "      <td>4.8609</td>\n",
              "      <td>48185</td>\n",
              "      <td>1</td>\n",
              "      <td>1</td>\n",
              "      <td>0</td>\n",
              "      <td>0</td>\n",
              "      <td>0</td>\n",
              "      <td>0</td>\n",
              "      <td>0</td>\n",
              "      <td>0</td>\n",
              "      <td>0</td>\n",
              "      <td>1</td>\n",
              "      <td>1</td>\n",
              "      <td>0</td>\n",
              "      <td>0</td>\n",
              "      <td>0</td>\n",
              "      <td>0</td>\n",
              "      <td>0</td>\n",
              "      <td>0</td>\n",
              "      <td>0</td>\n",
              "    </tr>\n",
              "    <tr>\n",
              "      <th>3</th>\n",
              "      <td>0.0</td>\n",
              "      <td>43.920</td>\n",
              "      <td>3</td>\n",
              "      <td>Central</td>\n",
              "      <td>kariox</td>\n",
              "      <td>Consumer</td>\n",
              "      <td>television</td>\n",
              "      <td>Standard Class</td>\n",
              "      <td>12.7368</td>\n",
              "      <td>48185</td>\n",
              "      <td>1</td>\n",
              "      <td>1</td>\n",
              "      <td>0</td>\n",
              "      <td>0</td>\n",
              "      <td>0</td>\n",
              "      <td>0</td>\n",
              "      <td>0</td>\n",
              "      <td>0</td>\n",
              "      <td>0</td>\n",
              "      <td>1</td>\n",
              "      <td>1</td>\n",
              "      <td>0</td>\n",
              "      <td>0</td>\n",
              "      <td>0</td>\n",
              "      <td>0</td>\n",
              "      <td>0</td>\n",
              "      <td>0</td>\n",
              "      <td>0</td>\n",
              "    </tr>\n",
              "    <tr>\n",
              "      <th>4</th>\n",
              "      <td>0.0</td>\n",
              "      <td>66.580</td>\n",
              "      <td>2</td>\n",
              "      <td>Central</td>\n",
              "      <td>kariox</td>\n",
              "      <td>Consumer</td>\n",
              "      <td>laptop</td>\n",
              "      <td>Standard Class</td>\n",
              "      <td>15.9792</td>\n",
              "      <td>48185</td>\n",
              "      <td>1</td>\n",
              "      <td>1</td>\n",
              "      <td>0</td>\n",
              "      <td>0</td>\n",
              "      <td>0</td>\n",
              "      <td>0</td>\n",
              "      <td>0</td>\n",
              "      <td>0</td>\n",
              "      <td>0</td>\n",
              "      <td>1</td>\n",
              "      <td>1</td>\n",
              "      <td>0</td>\n",
              "      <td>0</td>\n",
              "      <td>0</td>\n",
              "      <td>0</td>\n",
              "      <td>0</td>\n",
              "      <td>0</td>\n",
              "      <td>0</td>\n",
              "    </tr>\n",
              "    <tr>\n",
              "      <th>...</th>\n",
              "      <td>...</td>\n",
              "      <td>...</td>\n",
              "      <td>...</td>\n",
              "      <td>...</td>\n",
              "      <td>...</td>\n",
              "      <td>...</td>\n",
              "      <td>...</td>\n",
              "      <td>...</td>\n",
              "      <td>...</td>\n",
              "      <td>...</td>\n",
              "      <td>...</td>\n",
              "      <td>...</td>\n",
              "      <td>...</td>\n",
              "      <td>...</td>\n",
              "      <td>...</td>\n",
              "      <td>...</td>\n",
              "      <td>...</td>\n",
              "      <td>...</td>\n",
              "      <td>...</td>\n",
              "      <td>...</td>\n",
              "      <td>...</td>\n",
              "      <td>...</td>\n",
              "      <td>...</td>\n",
              "      <td>...</td>\n",
              "      <td>...</td>\n",
              "      <td>...</td>\n",
              "      <td>...</td>\n",
              "      <td>...</td>\n",
              "    </tr>\n",
              "    <tr>\n",
              "      <th>6695</th>\n",
              "      <td>0.0</td>\n",
              "      <td>542.940</td>\n",
              "      <td>3</td>\n",
              "      <td>East</td>\n",
              "      <td>kariox</td>\n",
              "      <td>Consumer</td>\n",
              "      <td>battery</td>\n",
              "      <td>Standard Class</td>\n",
              "      <td>152.0232</td>\n",
              "      <td>5408</td>\n",
              "      <td>1</td>\n",
              "      <td>1</td>\n",
              "      <td>0</td>\n",
              "      <td>0</td>\n",
              "      <td>1</td>\n",
              "      <td>0</td>\n",
              "      <td>0</td>\n",
              "      <td>0</td>\n",
              "      <td>0</td>\n",
              "      <td>0</td>\n",
              "      <td>0</td>\n",
              "      <td>0</td>\n",
              "      <td>0</td>\n",
              "      <td>0</td>\n",
              "      <td>0</td>\n",
              "      <td>0</td>\n",
              "      <td>1</td>\n",
              "      <td>0</td>\n",
              "    </tr>\n",
              "    <tr>\n",
              "      <th>6696</th>\n",
              "      <td>0.2</td>\n",
              "      <td>276.784</td>\n",
              "      <td>2</td>\n",
              "      <td>West</td>\n",
              "      <td>kariox</td>\n",
              "      <td>Corporate</td>\n",
              "      <td>headset</td>\n",
              "      <td>Standard Class</td>\n",
              "      <td>89.9548</td>\n",
              "      <td>95123</td>\n",
              "      <td>1</td>\n",
              "      <td>1</td>\n",
              "      <td>0</td>\n",
              "      <td>0</td>\n",
              "      <td>0</td>\n",
              "      <td>0</td>\n",
              "      <td>1</td>\n",
              "      <td>0</td>\n",
              "      <td>0</td>\n",
              "      <td>0</td>\n",
              "      <td>0</td>\n",
              "      <td>0</td>\n",
              "      <td>0</td>\n",
              "      <td>0</td>\n",
              "      <td>1</td>\n",
              "      <td>0</td>\n",
              "      <td>0</td>\n",
              "      <td>0</td>\n",
              "    </tr>\n",
              "    <tr>\n",
              "      <th>6697</th>\n",
              "      <td>0.0</td>\n",
              "      <td>2.040</td>\n",
              "      <td>1</td>\n",
              "      <td>East</td>\n",
              "      <td>kariox</td>\n",
              "      <td>Consumer</td>\n",
              "      <td>watch</td>\n",
              "      <td>Standard Class</td>\n",
              "      <td>0.9588</td>\n",
              "      <td>5408</td>\n",
              "      <td>1</td>\n",
              "      <td>1</td>\n",
              "      <td>0</td>\n",
              "      <td>0</td>\n",
              "      <td>1</td>\n",
              "      <td>0</td>\n",
              "      <td>0</td>\n",
              "      <td>0</td>\n",
              "      <td>0</td>\n",
              "      <td>0</td>\n",
              "      <td>0</td>\n",
              "      <td>0</td>\n",
              "      <td>0</td>\n",
              "      <td>0</td>\n",
              "      <td>0</td>\n",
              "      <td>0</td>\n",
              "      <td>1</td>\n",
              "      <td>0</td>\n",
              "    </tr>\n",
              "    <tr>\n",
              "      <th>6698</th>\n",
              "      <td>0.1</td>\n",
              "      <td>207.846</td>\n",
              "      <td>3</td>\n",
              "      <td>East</td>\n",
              "      <td>qexty</td>\n",
              "      <td>Corporate</td>\n",
              "      <td>tshirts</td>\n",
              "      <td>Second Class</td>\n",
              "      <td>2.3094</td>\n",
              "      <td>10024</td>\n",
              "      <td>1</td>\n",
              "      <td>1</td>\n",
              "      <td>1</td>\n",
              "      <td>0</td>\n",
              "      <td>0</td>\n",
              "      <td>0</td>\n",
              "      <td>0</td>\n",
              "      <td>0</td>\n",
              "      <td>0</td>\n",
              "      <td>0</td>\n",
              "      <td>0</td>\n",
              "      <td>0</td>\n",
              "      <td>0</td>\n",
              "      <td>1</td>\n",
              "      <td>0</td>\n",
              "      <td>0</td>\n",
              "      <td>0</td>\n",
              "      <td>0</td>\n",
              "    </tr>\n",
              "    <tr>\n",
              "      <th>6699</th>\n",
              "      <td>0.2</td>\n",
              "      <td>160.776</td>\n",
              "      <td>3</td>\n",
              "      <td>West</td>\n",
              "      <td>fynota</td>\n",
              "      <td>Consumer</td>\n",
              "      <td>colddrinks</td>\n",
              "      <td>Standard Class</td>\n",
              "      <td>10.0485</td>\n",
              "      <td>90045</td>\n",
              "      <td>1</td>\n",
              "      <td>1</td>\n",
              "      <td>0</td>\n",
              "      <td>0</td>\n",
              "      <td>0</td>\n",
              "      <td>0</td>\n",
              "      <td>0</td>\n",
              "      <td>1</td>\n",
              "      <td>0</td>\n",
              "      <td>0</td>\n",
              "      <td>0</td>\n",
              "      <td>0</td>\n",
              "      <td>0</td>\n",
              "      <td>0</td>\n",
              "      <td>1</td>\n",
              "      <td>0</td>\n",
              "      <td>0</td>\n",
              "      <td>0</td>\n",
              "    </tr>\n",
              "  </tbody>\n",
              "</table>\n",
              "<p>6700 rows × 28 columns</p>\n",
              "</div>"
            ],
            "text/plain": [
              "      discount    price  no of items location  ... col_4 col_5 col_6 col_7\n",
              "0          0.2   16.448            2  Central  ...     0     0     0     0\n",
              "1          0.0   29.700            5  Central  ...     0     0     0     0\n",
              "2          0.0   14.730            3  Central  ...     0     0     0     0\n",
              "3          0.0   43.920            3  Central  ...     0     0     0     0\n",
              "4          0.0   66.580            2  Central  ...     0     0     0     0\n",
              "...        ...      ...          ...      ...  ...   ...   ...   ...   ...\n",
              "6695       0.0  542.940            3     East  ...     0     0     1     0\n",
              "6696       0.2  276.784            2     West  ...     1     0     0     0\n",
              "6697       0.0    2.040            1     East  ...     0     0     1     0\n",
              "6698       0.1  207.846            3     East  ...     0     0     0     0\n",
              "6699       0.2  160.776            3     West  ...     1     0     0     0\n",
              "\n",
              "[6700 rows x 28 columns]"
            ]
          },
          "metadata": {
            "tags": []
          },
          "execution_count": 506
        }
      ]
    },
    {
      "cell_type": "code",
      "metadata": {
        "colab": {
          "base_uri": "https://localhost:8080/"
        },
        "id": "A-CidHxRw5Ab",
        "outputId": "edcb5a9b-7c73-4a26-8584-a23c1148b02e"
      },
      "source": [
        "df.columns"
      ],
      "execution_count": null,
      "outputs": [
        {
          "output_type": "execute_result",
          "data": {
            "text/plain": [
              "Index(['discount', 'price', 'no of items', 'location', 'class', 'segment',\n",
              "       'sub-class', 'delivery type', 'profit', 'address code', 'month',\n",
              "       'quarter', 'dc_col_0', 'dc_col_1', 'dc_col_2', 'dc_col_3', 'dc_col_4',\n",
              "       'dc_col_5', 'dc_col_6', 'dc_col_7', 'col_0', 'col_1', 'col_2', 'col_3',\n",
              "       'col_4', 'col_5', 'col_6', 'col_7'],\n",
              "      dtype='object')"
            ]
          },
          "metadata": {
            "tags": []
          },
          "execution_count": 507
        }
      ]
    },
    {
      "cell_type": "markdown",
      "metadata": {
        "id": "kPw4vvhESGbL"
      },
      "source": [
        "# Encoding_address_code"
      ]
    },
    {
      "cell_type": "code",
      "metadata": {
        "colab": {
          "base_uri": "https://localhost:8080/",
          "height": 402
        },
        "id": "9eo0pTXHTaKR",
        "outputId": "bfe975ad-2ea9-4ef7-835d-64e9574814fc"
      },
      "source": [
        "address_data = pd.DataFrame({'address code': final_df['address code'].unique()})\n",
        "encoder_dep= ce.HashingEncoder(cols=['address code'],return_df=True)\n",
        "address_data"
      ],
      "execution_count": null,
      "outputs": [
        {
          "output_type": "execute_result",
          "data": {
            "text/html": [
              "<div>\n",
              "<style scoped>\n",
              "    .dataframe tbody tr th:only-of-type {\n",
              "        vertical-align: middle;\n",
              "    }\n",
              "\n",
              "    .dataframe tbody tr th {\n",
              "        vertical-align: top;\n",
              "    }\n",
              "\n",
              "    .dataframe thead th {\n",
              "        text-align: right;\n",
              "    }\n",
              "</style>\n",
              "<table border=\"1\" class=\"dataframe\">\n",
              "  <thead>\n",
              "    <tr style=\"text-align: right;\">\n",
              "      <th></th>\n",
              "      <th>address code</th>\n",
              "    </tr>\n",
              "  </thead>\n",
              "  <tbody>\n",
              "    <tr>\n",
              "      <th>0</th>\n",
              "      <td>77095</td>\n",
              "    </tr>\n",
              "    <tr>\n",
              "      <th>1</th>\n",
              "      <td>48185</td>\n",
              "    </tr>\n",
              "    <tr>\n",
              "      <th>2</th>\n",
              "      <td>37167</td>\n",
              "    </tr>\n",
              "    <tr>\n",
              "      <th>3</th>\n",
              "      <td>72401</td>\n",
              "    </tr>\n",
              "    <tr>\n",
              "      <th>4</th>\n",
              "      <td>85254</td>\n",
              "    </tr>\n",
              "    <tr>\n",
              "      <th>...</th>\n",
              "      <td>...</td>\n",
              "    </tr>\n",
              "    <tr>\n",
              "      <th>626</th>\n",
              "      <td>98208</td>\n",
              "    </tr>\n",
              "    <tr>\n",
              "      <th>627</th>\n",
              "      <td>6810</td>\n",
              "    </tr>\n",
              "    <tr>\n",
              "      <th>628</th>\n",
              "      <td>79605</td>\n",
              "    </tr>\n",
              "    <tr>\n",
              "      <th>629</th>\n",
              "      <td>60067</td>\n",
              "    </tr>\n",
              "    <tr>\n",
              "      <th>630</th>\n",
              "      <td>90604</td>\n",
              "    </tr>\n",
              "  </tbody>\n",
              "</table>\n",
              "<p>631 rows × 1 columns</p>\n",
              "</div>"
            ],
            "text/plain": [
              "     address code\n",
              "0           77095\n",
              "1           48185\n",
              "2           37167\n",
              "3           72401\n",
              "4           85254\n",
              "..            ...\n",
              "626         98208\n",
              "627          6810\n",
              "628         79605\n",
              "629         60067\n",
              "630         90604\n",
              "\n",
              "[631 rows x 1 columns]"
            ]
          },
          "metadata": {
            "tags": []
          },
          "execution_count": 508
        }
      ]
    },
    {
      "cell_type": "code",
      "metadata": {
        "colab": {
          "base_uri": "https://localhost:8080/",
          "height": 455
        },
        "id": "xffjvBjcTnur",
        "outputId": "51520f97-78f3-40e5-c2fc-db8d2711b493"
      },
      "source": [
        "address_data_encoded=encoder_dep.fit_transform(address_data) \n",
        "df_address = pd.concat([address_data, address_data_encoded], axis = 1)\n",
        "df_address"
      ],
      "execution_count": null,
      "outputs": [
        {
          "output_type": "stream",
          "text": [
            "/usr/local/lib/python3.7/dist-packages/category_encoders/utils.py:21: FutureWarning: is_categorical is deprecated and will be removed in a future version.  Use is_categorical_dtype instead\n",
            "  elif pd.api.types.is_categorical(cols):\n"
          ],
          "name": "stderr"
        },
        {
          "output_type": "execute_result",
          "data": {
            "text/html": [
              "<div>\n",
              "<style scoped>\n",
              "    .dataframe tbody tr th:only-of-type {\n",
              "        vertical-align: middle;\n",
              "    }\n",
              "\n",
              "    .dataframe tbody tr th {\n",
              "        vertical-align: top;\n",
              "    }\n",
              "\n",
              "    .dataframe thead th {\n",
              "        text-align: right;\n",
              "    }\n",
              "</style>\n",
              "<table border=\"1\" class=\"dataframe\">\n",
              "  <thead>\n",
              "    <tr style=\"text-align: right;\">\n",
              "      <th></th>\n",
              "      <th>address code</th>\n",
              "      <th>col_0</th>\n",
              "      <th>col_1</th>\n",
              "      <th>col_2</th>\n",
              "      <th>col_3</th>\n",
              "      <th>col_4</th>\n",
              "      <th>col_5</th>\n",
              "      <th>col_6</th>\n",
              "      <th>col_7</th>\n",
              "    </tr>\n",
              "  </thead>\n",
              "  <tbody>\n",
              "    <tr>\n",
              "      <th>0</th>\n",
              "      <td>77095</td>\n",
              "      <td>0</td>\n",
              "      <td>0</td>\n",
              "      <td>0</td>\n",
              "      <td>0</td>\n",
              "      <td>1</td>\n",
              "      <td>0</td>\n",
              "      <td>0</td>\n",
              "      <td>0</td>\n",
              "    </tr>\n",
              "    <tr>\n",
              "      <th>1</th>\n",
              "      <td>48185</td>\n",
              "      <td>0</td>\n",
              "      <td>0</td>\n",
              "      <td>0</td>\n",
              "      <td>0</td>\n",
              "      <td>0</td>\n",
              "      <td>1</td>\n",
              "      <td>0</td>\n",
              "      <td>0</td>\n",
              "    </tr>\n",
              "    <tr>\n",
              "      <th>2</th>\n",
              "      <td>37167</td>\n",
              "      <td>0</td>\n",
              "      <td>0</td>\n",
              "      <td>0</td>\n",
              "      <td>0</td>\n",
              "      <td>1</td>\n",
              "      <td>0</td>\n",
              "      <td>0</td>\n",
              "      <td>0</td>\n",
              "    </tr>\n",
              "    <tr>\n",
              "      <th>3</th>\n",
              "      <td>72401</td>\n",
              "      <td>0</td>\n",
              "      <td>0</td>\n",
              "      <td>0</td>\n",
              "      <td>1</td>\n",
              "      <td>0</td>\n",
              "      <td>0</td>\n",
              "      <td>0</td>\n",
              "      <td>0</td>\n",
              "    </tr>\n",
              "    <tr>\n",
              "      <th>4</th>\n",
              "      <td>85254</td>\n",
              "      <td>0</td>\n",
              "      <td>0</td>\n",
              "      <td>0</td>\n",
              "      <td>0</td>\n",
              "      <td>0</td>\n",
              "      <td>0</td>\n",
              "      <td>1</td>\n",
              "      <td>0</td>\n",
              "    </tr>\n",
              "    <tr>\n",
              "      <th>...</th>\n",
              "      <td>...</td>\n",
              "      <td>...</td>\n",
              "      <td>...</td>\n",
              "      <td>...</td>\n",
              "      <td>...</td>\n",
              "      <td>...</td>\n",
              "      <td>...</td>\n",
              "      <td>...</td>\n",
              "      <td>...</td>\n",
              "    </tr>\n",
              "    <tr>\n",
              "      <th>626</th>\n",
              "      <td>98208</td>\n",
              "      <td>0</td>\n",
              "      <td>1</td>\n",
              "      <td>0</td>\n",
              "      <td>0</td>\n",
              "      <td>0</td>\n",
              "      <td>0</td>\n",
              "      <td>0</td>\n",
              "      <td>0</td>\n",
              "    </tr>\n",
              "    <tr>\n",
              "      <th>627</th>\n",
              "      <td>6810</td>\n",
              "      <td>0</td>\n",
              "      <td>1</td>\n",
              "      <td>0</td>\n",
              "      <td>0</td>\n",
              "      <td>0</td>\n",
              "      <td>0</td>\n",
              "      <td>0</td>\n",
              "      <td>0</td>\n",
              "    </tr>\n",
              "    <tr>\n",
              "      <th>628</th>\n",
              "      <td>79605</td>\n",
              "      <td>0</td>\n",
              "      <td>0</td>\n",
              "      <td>0</td>\n",
              "      <td>0</td>\n",
              "      <td>0</td>\n",
              "      <td>0</td>\n",
              "      <td>1</td>\n",
              "      <td>0</td>\n",
              "    </tr>\n",
              "    <tr>\n",
              "      <th>629</th>\n",
              "      <td>60067</td>\n",
              "      <td>0</td>\n",
              "      <td>0</td>\n",
              "      <td>0</td>\n",
              "      <td>0</td>\n",
              "      <td>0</td>\n",
              "      <td>0</td>\n",
              "      <td>1</td>\n",
              "      <td>0</td>\n",
              "    </tr>\n",
              "    <tr>\n",
              "      <th>630</th>\n",
              "      <td>90604</td>\n",
              "      <td>0</td>\n",
              "      <td>0</td>\n",
              "      <td>0</td>\n",
              "      <td>0</td>\n",
              "      <td>1</td>\n",
              "      <td>0</td>\n",
              "      <td>0</td>\n",
              "      <td>0</td>\n",
              "    </tr>\n",
              "  </tbody>\n",
              "</table>\n",
              "<p>631 rows × 9 columns</p>\n",
              "</div>"
            ],
            "text/plain": [
              "     address code  col_0  col_1  col_2  col_3  col_4  col_5  col_6  col_7\n",
              "0           77095      0      0      0      0      1      0      0      0\n",
              "1           48185      0      0      0      0      0      1      0      0\n",
              "2           37167      0      0      0      0      1      0      0      0\n",
              "3           72401      0      0      0      1      0      0      0      0\n",
              "4           85254      0      0      0      0      0      0      1      0\n",
              "..            ...    ...    ...    ...    ...    ...    ...    ...    ...\n",
              "626         98208      0      1      0      0      0      0      0      0\n",
              "627          6810      0      1      0      0      0      0      0      0\n",
              "628         79605      0      0      0      0      0      0      1      0\n",
              "629         60067      0      0      0      0      0      0      1      0\n",
              "630         90604      0      0      0      0      1      0      0      0\n",
              "\n",
              "[631 rows x 9 columns]"
            ]
          },
          "metadata": {
            "tags": []
          },
          "execution_count": 509
        }
      ]
    },
    {
      "cell_type": "code",
      "metadata": {
        "colab": {
          "base_uri": "https://localhost:8080/",
          "height": 402
        },
        "id": "zld7DPivVbe3",
        "outputId": "9ecfcd8c-0c2b-4add-9928-dfa53ca1654e"
      },
      "source": [
        "final_df_address = final_df['address code']\n",
        "final_df_address = pd.merge(final_df_address, df_address, how='left', on='address code', left_on=None, right_on=None, left_index=False, right_index=False, sort=None)\n",
        "final_df_address"
      ],
      "execution_count": null,
      "outputs": [
        {
          "output_type": "execute_result",
          "data": {
            "text/html": [
              "<div>\n",
              "<style scoped>\n",
              "    .dataframe tbody tr th:only-of-type {\n",
              "        vertical-align: middle;\n",
              "    }\n",
              "\n",
              "    .dataframe tbody tr th {\n",
              "        vertical-align: top;\n",
              "    }\n",
              "\n",
              "    .dataframe thead th {\n",
              "        text-align: right;\n",
              "    }\n",
              "</style>\n",
              "<table border=\"1\" class=\"dataframe\">\n",
              "  <thead>\n",
              "    <tr style=\"text-align: right;\">\n",
              "      <th></th>\n",
              "      <th>address code</th>\n",
              "      <th>col_0</th>\n",
              "      <th>col_1</th>\n",
              "      <th>col_2</th>\n",
              "      <th>col_3</th>\n",
              "      <th>col_4</th>\n",
              "      <th>col_5</th>\n",
              "      <th>col_6</th>\n",
              "      <th>col_7</th>\n",
              "    </tr>\n",
              "  </thead>\n",
              "  <tbody>\n",
              "    <tr>\n",
              "      <th>0</th>\n",
              "      <td>77095</td>\n",
              "      <td>0</td>\n",
              "      <td>0</td>\n",
              "      <td>0</td>\n",
              "      <td>0</td>\n",
              "      <td>1</td>\n",
              "      <td>0</td>\n",
              "      <td>0</td>\n",
              "      <td>0</td>\n",
              "    </tr>\n",
              "    <tr>\n",
              "      <th>1</th>\n",
              "      <td>48185</td>\n",
              "      <td>0</td>\n",
              "      <td>0</td>\n",
              "      <td>0</td>\n",
              "      <td>0</td>\n",
              "      <td>0</td>\n",
              "      <td>1</td>\n",
              "      <td>0</td>\n",
              "      <td>0</td>\n",
              "    </tr>\n",
              "    <tr>\n",
              "      <th>2</th>\n",
              "      <td>48185</td>\n",
              "      <td>0</td>\n",
              "      <td>0</td>\n",
              "      <td>0</td>\n",
              "      <td>0</td>\n",
              "      <td>0</td>\n",
              "      <td>1</td>\n",
              "      <td>0</td>\n",
              "      <td>0</td>\n",
              "    </tr>\n",
              "    <tr>\n",
              "      <th>3</th>\n",
              "      <td>48185</td>\n",
              "      <td>0</td>\n",
              "      <td>0</td>\n",
              "      <td>0</td>\n",
              "      <td>0</td>\n",
              "      <td>0</td>\n",
              "      <td>1</td>\n",
              "      <td>0</td>\n",
              "      <td>0</td>\n",
              "    </tr>\n",
              "    <tr>\n",
              "      <th>4</th>\n",
              "      <td>48185</td>\n",
              "      <td>0</td>\n",
              "      <td>0</td>\n",
              "      <td>0</td>\n",
              "      <td>0</td>\n",
              "      <td>0</td>\n",
              "      <td>1</td>\n",
              "      <td>0</td>\n",
              "      <td>0</td>\n",
              "    </tr>\n",
              "    <tr>\n",
              "      <th>...</th>\n",
              "      <td>...</td>\n",
              "      <td>...</td>\n",
              "      <td>...</td>\n",
              "      <td>...</td>\n",
              "      <td>...</td>\n",
              "      <td>...</td>\n",
              "      <td>...</td>\n",
              "      <td>...</td>\n",
              "      <td>...</td>\n",
              "    </tr>\n",
              "    <tr>\n",
              "      <th>9989</th>\n",
              "      <td>10035</td>\n",
              "      <td>1</td>\n",
              "      <td>0</td>\n",
              "      <td>0</td>\n",
              "      <td>0</td>\n",
              "      <td>0</td>\n",
              "      <td>0</td>\n",
              "      <td>0</td>\n",
              "      <td>0</td>\n",
              "    </tr>\n",
              "    <tr>\n",
              "      <th>9990</th>\n",
              "      <td>10035</td>\n",
              "      <td>1</td>\n",
              "      <td>0</td>\n",
              "      <td>0</td>\n",
              "      <td>0</td>\n",
              "      <td>0</td>\n",
              "      <td>0</td>\n",
              "      <td>0</td>\n",
              "      <td>0</td>\n",
              "    </tr>\n",
              "    <tr>\n",
              "      <th>9991</th>\n",
              "      <td>10035</td>\n",
              "      <td>1</td>\n",
              "      <td>0</td>\n",
              "      <td>0</td>\n",
              "      <td>0</td>\n",
              "      <td>0</td>\n",
              "      <td>0</td>\n",
              "      <td>0</td>\n",
              "      <td>0</td>\n",
              "    </tr>\n",
              "    <tr>\n",
              "      <th>9992</th>\n",
              "      <td>94110</td>\n",
              "      <td>0</td>\n",
              "      <td>0</td>\n",
              "      <td>0</td>\n",
              "      <td>0</td>\n",
              "      <td>1</td>\n",
              "      <td>0</td>\n",
              "      <td>0</td>\n",
              "      <td>0</td>\n",
              "    </tr>\n",
              "    <tr>\n",
              "      <th>9993</th>\n",
              "      <td>80538</td>\n",
              "      <td>0</td>\n",
              "      <td>0</td>\n",
              "      <td>0</td>\n",
              "      <td>0</td>\n",
              "      <td>0</td>\n",
              "      <td>0</td>\n",
              "      <td>0</td>\n",
              "      <td>1</td>\n",
              "    </tr>\n",
              "  </tbody>\n",
              "</table>\n",
              "<p>9994 rows × 9 columns</p>\n",
              "</div>"
            ],
            "text/plain": [
              "      address code  col_0  col_1  col_2  col_3  col_4  col_5  col_6  col_7\n",
              "0            77095      0      0      0      0      1      0      0      0\n",
              "1            48185      0      0      0      0      0      1      0      0\n",
              "2            48185      0      0      0      0      0      1      0      0\n",
              "3            48185      0      0      0      0      0      1      0      0\n",
              "4            48185      0      0      0      0      0      1      0      0\n",
              "...            ...    ...    ...    ...    ...    ...    ...    ...    ...\n",
              "9989         10035      1      0      0      0      0      0      0      0\n",
              "9990         10035      1      0      0      0      0      0      0      0\n",
              "9991         10035      1      0      0      0      0      0      0      0\n",
              "9992         94110      0      0      0      0      1      0      0      0\n",
              "9993         80538      0      0      0      0      0      0      0      1\n",
              "\n",
              "[9994 rows x 9 columns]"
            ]
          },
          "metadata": {
            "tags": []
          },
          "execution_count": 510
        }
      ]
    },
    {
      "cell_type": "code",
      "metadata": {
        "id": "gqOr0Ovppu5b"
      },
      "source": [
        "final_df_address.rename(columns={'col_0': 'add_col_0', 'col_1': 'add_col_1', 'col_2': 'add_col_2',\n",
        "                       'col_3': 'add_col_3','col_4': 'add_col_4','col_5': 'add_col_5',\n",
        "                       'col_6': 'add_col_6','col_7': 'add_col_7','col_8': 'add_col_8',}, inplace=True)"
      ],
      "execution_count": null,
      "outputs": []
    },
    {
      "cell_type": "code",
      "metadata": {
        "id": "VaxYEaFGWF0S"
      },
      "source": [
        "df_address_train = final_df_address.iloc[:6700,:]\n",
        "df_address_test = final_df_address.iloc[6700:,:]"
      ],
      "execution_count": null,
      "outputs": []
    },
    {
      "cell_type": "code",
      "metadata": {
        "colab": {
          "base_uri": "https://localhost:8080/",
          "height": 606
        },
        "id": "3dMQC2JNWGpm",
        "outputId": "40d0455c-a8d5-48b6-9901-f7ba1b074d30"
      },
      "source": [
        "df = pd.concat([df, df_address_train], axis = 1)\n",
        "df = df.drop(['address code', 'address code'], axis = 1)\n",
        "df"
      ],
      "execution_count": null,
      "outputs": [
        {
          "output_type": "execute_result",
          "data": {
            "text/html": [
              "<div>\n",
              "<style scoped>\n",
              "    .dataframe tbody tr th:only-of-type {\n",
              "        vertical-align: middle;\n",
              "    }\n",
              "\n",
              "    .dataframe tbody tr th {\n",
              "        vertical-align: top;\n",
              "    }\n",
              "\n",
              "    .dataframe thead th {\n",
              "        text-align: right;\n",
              "    }\n",
              "</style>\n",
              "<table border=\"1\" class=\"dataframe\">\n",
              "  <thead>\n",
              "    <tr style=\"text-align: right;\">\n",
              "      <th></th>\n",
              "      <th>discount</th>\n",
              "      <th>price</th>\n",
              "      <th>no of items</th>\n",
              "      <th>location</th>\n",
              "      <th>class</th>\n",
              "      <th>segment</th>\n",
              "      <th>sub-class</th>\n",
              "      <th>delivery type</th>\n",
              "      <th>profit</th>\n",
              "      <th>month</th>\n",
              "      <th>quarter</th>\n",
              "      <th>dc_col_0</th>\n",
              "      <th>dc_col_1</th>\n",
              "      <th>dc_col_2</th>\n",
              "      <th>dc_col_3</th>\n",
              "      <th>dc_col_4</th>\n",
              "      <th>dc_col_5</th>\n",
              "      <th>dc_col_6</th>\n",
              "      <th>dc_col_7</th>\n",
              "      <th>col_0</th>\n",
              "      <th>col_1</th>\n",
              "      <th>col_2</th>\n",
              "      <th>col_3</th>\n",
              "      <th>col_4</th>\n",
              "      <th>col_5</th>\n",
              "      <th>col_6</th>\n",
              "      <th>col_7</th>\n",
              "      <th>add_col_0</th>\n",
              "      <th>add_col_1</th>\n",
              "      <th>add_col_2</th>\n",
              "      <th>add_col_3</th>\n",
              "      <th>add_col_4</th>\n",
              "      <th>add_col_5</th>\n",
              "      <th>add_col_6</th>\n",
              "      <th>add_col_7</th>\n",
              "    </tr>\n",
              "  </thead>\n",
              "  <tbody>\n",
              "    <tr>\n",
              "      <th>0</th>\n",
              "      <td>0.2</td>\n",
              "      <td>16.448</td>\n",
              "      <td>2</td>\n",
              "      <td>Central</td>\n",
              "      <td>kariox</td>\n",
              "      <td>Consumer</td>\n",
              "      <td>phone</td>\n",
              "      <td>Standard Class</td>\n",
              "      <td>5.5512</td>\n",
              "      <td>1</td>\n",
              "      <td>1</td>\n",
              "      <td>0</td>\n",
              "      <td>0</td>\n",
              "      <td>0</td>\n",
              "      <td>1</td>\n",
              "      <td>0</td>\n",
              "      <td>0</td>\n",
              "      <td>0</td>\n",
              "      <td>0</td>\n",
              "      <td>0</td>\n",
              "      <td>0</td>\n",
              "      <td>1</td>\n",
              "      <td>0</td>\n",
              "      <td>0</td>\n",
              "      <td>0</td>\n",
              "      <td>0</td>\n",
              "      <td>0</td>\n",
              "      <td>0</td>\n",
              "      <td>0</td>\n",
              "      <td>0</td>\n",
              "      <td>0</td>\n",
              "      <td>1</td>\n",
              "      <td>0</td>\n",
              "      <td>0</td>\n",
              "      <td>0</td>\n",
              "    </tr>\n",
              "    <tr>\n",
              "      <th>1</th>\n",
              "      <td>0.0</td>\n",
              "      <td>29.700</td>\n",
              "      <td>5</td>\n",
              "      <td>Central</td>\n",
              "      <td>kariox</td>\n",
              "      <td>Consumer</td>\n",
              "      <td>headset</td>\n",
              "      <td>Standard Class</td>\n",
              "      <td>13.3650</td>\n",
              "      <td>1</td>\n",
              "      <td>1</td>\n",
              "      <td>0</td>\n",
              "      <td>0</td>\n",
              "      <td>0</td>\n",
              "      <td>0</td>\n",
              "      <td>0</td>\n",
              "      <td>0</td>\n",
              "      <td>0</td>\n",
              "      <td>1</td>\n",
              "      <td>1</td>\n",
              "      <td>0</td>\n",
              "      <td>0</td>\n",
              "      <td>0</td>\n",
              "      <td>0</td>\n",
              "      <td>0</td>\n",
              "      <td>0</td>\n",
              "      <td>0</td>\n",
              "      <td>0</td>\n",
              "      <td>0</td>\n",
              "      <td>0</td>\n",
              "      <td>0</td>\n",
              "      <td>0</td>\n",
              "      <td>1</td>\n",
              "      <td>0</td>\n",
              "      <td>0</td>\n",
              "    </tr>\n",
              "    <tr>\n",
              "      <th>2</th>\n",
              "      <td>0.0</td>\n",
              "      <td>14.730</td>\n",
              "      <td>3</td>\n",
              "      <td>Central</td>\n",
              "      <td>qexty</td>\n",
              "      <td>Consumer</td>\n",
              "      <td>shorts</td>\n",
              "      <td>Standard Class</td>\n",
              "      <td>4.8609</td>\n",
              "      <td>1</td>\n",
              "      <td>1</td>\n",
              "      <td>0</td>\n",
              "      <td>0</td>\n",
              "      <td>0</td>\n",
              "      <td>0</td>\n",
              "      <td>0</td>\n",
              "      <td>0</td>\n",
              "      <td>0</td>\n",
              "      <td>1</td>\n",
              "      <td>1</td>\n",
              "      <td>0</td>\n",
              "      <td>0</td>\n",
              "      <td>0</td>\n",
              "      <td>0</td>\n",
              "      <td>0</td>\n",
              "      <td>0</td>\n",
              "      <td>0</td>\n",
              "      <td>0</td>\n",
              "      <td>0</td>\n",
              "      <td>0</td>\n",
              "      <td>0</td>\n",
              "      <td>0</td>\n",
              "      <td>1</td>\n",
              "      <td>0</td>\n",
              "      <td>0</td>\n",
              "    </tr>\n",
              "    <tr>\n",
              "      <th>3</th>\n",
              "      <td>0.0</td>\n",
              "      <td>43.920</td>\n",
              "      <td>3</td>\n",
              "      <td>Central</td>\n",
              "      <td>kariox</td>\n",
              "      <td>Consumer</td>\n",
              "      <td>television</td>\n",
              "      <td>Standard Class</td>\n",
              "      <td>12.7368</td>\n",
              "      <td>1</td>\n",
              "      <td>1</td>\n",
              "      <td>0</td>\n",
              "      <td>0</td>\n",
              "      <td>0</td>\n",
              "      <td>0</td>\n",
              "      <td>0</td>\n",
              "      <td>0</td>\n",
              "      <td>0</td>\n",
              "      <td>1</td>\n",
              "      <td>1</td>\n",
              "      <td>0</td>\n",
              "      <td>0</td>\n",
              "      <td>0</td>\n",
              "      <td>0</td>\n",
              "      <td>0</td>\n",
              "      <td>0</td>\n",
              "      <td>0</td>\n",
              "      <td>0</td>\n",
              "      <td>0</td>\n",
              "      <td>0</td>\n",
              "      <td>0</td>\n",
              "      <td>0</td>\n",
              "      <td>1</td>\n",
              "      <td>0</td>\n",
              "      <td>0</td>\n",
              "    </tr>\n",
              "    <tr>\n",
              "      <th>4</th>\n",
              "      <td>0.0</td>\n",
              "      <td>66.580</td>\n",
              "      <td>2</td>\n",
              "      <td>Central</td>\n",
              "      <td>kariox</td>\n",
              "      <td>Consumer</td>\n",
              "      <td>laptop</td>\n",
              "      <td>Standard Class</td>\n",
              "      <td>15.9792</td>\n",
              "      <td>1</td>\n",
              "      <td>1</td>\n",
              "      <td>0</td>\n",
              "      <td>0</td>\n",
              "      <td>0</td>\n",
              "      <td>0</td>\n",
              "      <td>0</td>\n",
              "      <td>0</td>\n",
              "      <td>0</td>\n",
              "      <td>1</td>\n",
              "      <td>1</td>\n",
              "      <td>0</td>\n",
              "      <td>0</td>\n",
              "      <td>0</td>\n",
              "      <td>0</td>\n",
              "      <td>0</td>\n",
              "      <td>0</td>\n",
              "      <td>0</td>\n",
              "      <td>0</td>\n",
              "      <td>0</td>\n",
              "      <td>0</td>\n",
              "      <td>0</td>\n",
              "      <td>0</td>\n",
              "      <td>1</td>\n",
              "      <td>0</td>\n",
              "      <td>0</td>\n",
              "    </tr>\n",
              "    <tr>\n",
              "      <th>...</th>\n",
              "      <td>...</td>\n",
              "      <td>...</td>\n",
              "      <td>...</td>\n",
              "      <td>...</td>\n",
              "      <td>...</td>\n",
              "      <td>...</td>\n",
              "      <td>...</td>\n",
              "      <td>...</td>\n",
              "      <td>...</td>\n",
              "      <td>...</td>\n",
              "      <td>...</td>\n",
              "      <td>...</td>\n",
              "      <td>...</td>\n",
              "      <td>...</td>\n",
              "      <td>...</td>\n",
              "      <td>...</td>\n",
              "      <td>...</td>\n",
              "      <td>...</td>\n",
              "      <td>...</td>\n",
              "      <td>...</td>\n",
              "      <td>...</td>\n",
              "      <td>...</td>\n",
              "      <td>...</td>\n",
              "      <td>...</td>\n",
              "      <td>...</td>\n",
              "      <td>...</td>\n",
              "      <td>...</td>\n",
              "      <td>...</td>\n",
              "      <td>...</td>\n",
              "      <td>...</td>\n",
              "      <td>...</td>\n",
              "      <td>...</td>\n",
              "      <td>...</td>\n",
              "      <td>...</td>\n",
              "      <td>...</td>\n",
              "    </tr>\n",
              "    <tr>\n",
              "      <th>6695</th>\n",
              "      <td>0.0</td>\n",
              "      <td>542.940</td>\n",
              "      <td>3</td>\n",
              "      <td>East</td>\n",
              "      <td>kariox</td>\n",
              "      <td>Consumer</td>\n",
              "      <td>battery</td>\n",
              "      <td>Standard Class</td>\n",
              "      <td>152.0232</td>\n",
              "      <td>1</td>\n",
              "      <td>1</td>\n",
              "      <td>0</td>\n",
              "      <td>0</td>\n",
              "      <td>1</td>\n",
              "      <td>0</td>\n",
              "      <td>0</td>\n",
              "      <td>0</td>\n",
              "      <td>0</td>\n",
              "      <td>0</td>\n",
              "      <td>0</td>\n",
              "      <td>0</td>\n",
              "      <td>0</td>\n",
              "      <td>0</td>\n",
              "      <td>0</td>\n",
              "      <td>0</td>\n",
              "      <td>1</td>\n",
              "      <td>0</td>\n",
              "      <td>0</td>\n",
              "      <td>0</td>\n",
              "      <td>1</td>\n",
              "      <td>0</td>\n",
              "      <td>0</td>\n",
              "      <td>0</td>\n",
              "      <td>0</td>\n",
              "      <td>0</td>\n",
              "    </tr>\n",
              "    <tr>\n",
              "      <th>6696</th>\n",
              "      <td>0.2</td>\n",
              "      <td>276.784</td>\n",
              "      <td>2</td>\n",
              "      <td>West</td>\n",
              "      <td>kariox</td>\n",
              "      <td>Corporate</td>\n",
              "      <td>headset</td>\n",
              "      <td>Standard Class</td>\n",
              "      <td>89.9548</td>\n",
              "      <td>1</td>\n",
              "      <td>1</td>\n",
              "      <td>0</td>\n",
              "      <td>0</td>\n",
              "      <td>0</td>\n",
              "      <td>0</td>\n",
              "      <td>1</td>\n",
              "      <td>0</td>\n",
              "      <td>0</td>\n",
              "      <td>0</td>\n",
              "      <td>0</td>\n",
              "      <td>0</td>\n",
              "      <td>0</td>\n",
              "      <td>0</td>\n",
              "      <td>1</td>\n",
              "      <td>0</td>\n",
              "      <td>0</td>\n",
              "      <td>0</td>\n",
              "      <td>0</td>\n",
              "      <td>0</td>\n",
              "      <td>0</td>\n",
              "      <td>0</td>\n",
              "      <td>0</td>\n",
              "      <td>0</td>\n",
              "      <td>0</td>\n",
              "      <td>1</td>\n",
              "    </tr>\n",
              "    <tr>\n",
              "      <th>6697</th>\n",
              "      <td>0.0</td>\n",
              "      <td>2.040</td>\n",
              "      <td>1</td>\n",
              "      <td>East</td>\n",
              "      <td>kariox</td>\n",
              "      <td>Consumer</td>\n",
              "      <td>watch</td>\n",
              "      <td>Standard Class</td>\n",
              "      <td>0.9588</td>\n",
              "      <td>1</td>\n",
              "      <td>1</td>\n",
              "      <td>0</td>\n",
              "      <td>0</td>\n",
              "      <td>1</td>\n",
              "      <td>0</td>\n",
              "      <td>0</td>\n",
              "      <td>0</td>\n",
              "      <td>0</td>\n",
              "      <td>0</td>\n",
              "      <td>0</td>\n",
              "      <td>0</td>\n",
              "      <td>0</td>\n",
              "      <td>0</td>\n",
              "      <td>0</td>\n",
              "      <td>0</td>\n",
              "      <td>1</td>\n",
              "      <td>0</td>\n",
              "      <td>0</td>\n",
              "      <td>0</td>\n",
              "      <td>1</td>\n",
              "      <td>0</td>\n",
              "      <td>0</td>\n",
              "      <td>0</td>\n",
              "      <td>0</td>\n",
              "      <td>0</td>\n",
              "    </tr>\n",
              "    <tr>\n",
              "      <th>6698</th>\n",
              "      <td>0.1</td>\n",
              "      <td>207.846</td>\n",
              "      <td>3</td>\n",
              "      <td>East</td>\n",
              "      <td>qexty</td>\n",
              "      <td>Corporate</td>\n",
              "      <td>tshirts</td>\n",
              "      <td>Second Class</td>\n",
              "      <td>2.3094</td>\n",
              "      <td>1</td>\n",
              "      <td>1</td>\n",
              "      <td>1</td>\n",
              "      <td>0</td>\n",
              "      <td>0</td>\n",
              "      <td>0</td>\n",
              "      <td>0</td>\n",
              "      <td>0</td>\n",
              "      <td>0</td>\n",
              "      <td>0</td>\n",
              "      <td>0</td>\n",
              "      <td>0</td>\n",
              "      <td>0</td>\n",
              "      <td>1</td>\n",
              "      <td>0</td>\n",
              "      <td>0</td>\n",
              "      <td>0</td>\n",
              "      <td>0</td>\n",
              "      <td>0</td>\n",
              "      <td>0</td>\n",
              "      <td>1</td>\n",
              "      <td>0</td>\n",
              "      <td>0</td>\n",
              "      <td>0</td>\n",
              "      <td>0</td>\n",
              "      <td>0</td>\n",
              "    </tr>\n",
              "    <tr>\n",
              "      <th>6699</th>\n",
              "      <td>0.2</td>\n",
              "      <td>160.776</td>\n",
              "      <td>3</td>\n",
              "      <td>West</td>\n",
              "      <td>fynota</td>\n",
              "      <td>Consumer</td>\n",
              "      <td>colddrinks</td>\n",
              "      <td>Standard Class</td>\n",
              "      <td>10.0485</td>\n",
              "      <td>1</td>\n",
              "      <td>1</td>\n",
              "      <td>0</td>\n",
              "      <td>0</td>\n",
              "      <td>0</td>\n",
              "      <td>0</td>\n",
              "      <td>0</td>\n",
              "      <td>1</td>\n",
              "      <td>0</td>\n",
              "      <td>0</td>\n",
              "      <td>0</td>\n",
              "      <td>0</td>\n",
              "      <td>0</td>\n",
              "      <td>0</td>\n",
              "      <td>1</td>\n",
              "      <td>0</td>\n",
              "      <td>0</td>\n",
              "      <td>0</td>\n",
              "      <td>0</td>\n",
              "      <td>0</td>\n",
              "      <td>0</td>\n",
              "      <td>1</td>\n",
              "      <td>0</td>\n",
              "      <td>0</td>\n",
              "      <td>0</td>\n",
              "      <td>0</td>\n",
              "    </tr>\n",
              "  </tbody>\n",
              "</table>\n",
              "<p>6700 rows × 35 columns</p>\n",
              "</div>"
            ],
            "text/plain": [
              "      discount    price  no of items  ... add_col_5 add_col_6 add_col_7\n",
              "0          0.2   16.448            2  ...         0         0         0\n",
              "1          0.0   29.700            5  ...         1         0         0\n",
              "2          0.0   14.730            3  ...         1         0         0\n",
              "3          0.0   43.920            3  ...         1         0         0\n",
              "4          0.0   66.580            2  ...         1         0         0\n",
              "...        ...      ...          ...  ...       ...       ...       ...\n",
              "6695       0.0  542.940            3  ...         0         0         0\n",
              "6696       0.2  276.784            2  ...         0         0         1\n",
              "6697       0.0    2.040            1  ...         0         0         0\n",
              "6698       0.1  207.846            3  ...         0         0         0\n",
              "6699       0.2  160.776            3  ...         0         0         0\n",
              "\n",
              "[6700 rows x 35 columns]"
            ]
          },
          "metadata": {
            "tags": []
          },
          "execution_count": 513
        }
      ]
    },
    {
      "cell_type": "code",
      "metadata": {
        "colab": {
          "base_uri": "https://localhost:8080/"
        },
        "id": "nd-QYJ_8WqYt",
        "outputId": "59b3b535-6ad8-4319-aa52-7296507a35f3"
      },
      "source": [
        "df.columns"
      ],
      "execution_count": null,
      "outputs": [
        {
          "output_type": "execute_result",
          "data": {
            "text/plain": [
              "Index(['discount', 'price', 'no of items', 'location', 'class', 'segment',\n",
              "       'sub-class', 'delivery type', 'profit', 'month', 'quarter', 'dc_col_0',\n",
              "       'dc_col_1', 'dc_col_2', 'dc_col_3', 'dc_col_4', 'dc_col_5', 'dc_col_6',\n",
              "       'dc_col_7', 'col_0', 'col_1', 'col_2', 'col_3', 'col_4', 'col_5',\n",
              "       'col_6', 'col_7', 'add_col_0', 'add_col_1', 'add_col_2', 'add_col_3',\n",
              "       'add_col_4', 'add_col_5', 'add_col_6', 'add_col_7'],\n",
              "      dtype='object')"
            ]
          },
          "metadata": {
            "tags": []
          },
          "execution_count": 514
        }
      ]
    },
    {
      "cell_type": "markdown",
      "metadata": {
        "id": "uWnCgdxfIC0s"
      },
      "source": [
        "# **One Hot encoding**   "
      ]
    },
    {
      "cell_type": "code",
      "metadata": {
        "id": "c5PRGplgHt39"
      },
      "source": [
        "y = pd.get_dummies(df.location, prefix='Location')"
      ],
      "execution_count": null,
      "outputs": []
    },
    {
      "cell_type": "code",
      "metadata": {
        "colab": {
          "base_uri": "https://localhost:8080/"
        },
        "id": "qcQiC2ZGOe8c",
        "outputId": "24fd340b-5866-4d55-b949-7b8f9a44411f"
      },
      "source": [
        "y.shape"
      ],
      "execution_count": null,
      "outputs": [
        {
          "output_type": "execute_result",
          "data": {
            "text/plain": [
              "(6700, 4)"
            ]
          },
          "metadata": {
            "tags": []
          },
          "execution_count": 516
        }
      ]
    },
    {
      "cell_type": "code",
      "metadata": {
        "id": "ssivGvVvOhnx"
      },
      "source": [
        "df = pd.concat([df, y], axis = 1)"
      ],
      "execution_count": null,
      "outputs": []
    },
    {
      "cell_type": "code",
      "metadata": {
        "colab": {
          "base_uri": "https://localhost:8080/"
        },
        "id": "YSQbxWs5Ojz8",
        "outputId": "735e702e-ff90-4905-a080-8597691de9df"
      },
      "source": [
        "se = pd.get_dummies(df.segment, prefix='Segment')\n",
        "print(se.head(20))"
      ],
      "execution_count": null,
      "outputs": [
        {
          "output_type": "stream",
          "text": [
            "    Segment_Consumer  Segment_Corporate  Segment_Home Office\n",
            "0                  1                  0                    0\n",
            "1                  1                  0                    0\n",
            "2                  1                  0                    0\n",
            "3                  1                  0                    0\n",
            "4                  1                  0                    0\n",
            "5                  1                  0                    0\n",
            "6                  1                  0                    0\n",
            "7                  1                  0                    0\n",
            "8                  0                  1                    0\n",
            "9                  1                  0                    0\n",
            "10                 1                  0                    0\n",
            "11                 1                  0                    0\n",
            "12                 1                  0                    0\n",
            "13                 1                  0                    0\n",
            "14                 1                  0                    0\n",
            "15                 1                  0                    0\n",
            "16                 1                  0                    0\n",
            "17                 1                  0                    0\n",
            "18                 1                  0                    0\n",
            "19                 1                  0                    0\n"
          ],
          "name": "stdout"
        }
      ]
    },
    {
      "cell_type": "code",
      "metadata": {
        "id": "G0_Gx_X3Op1u"
      },
      "source": [
        "df = pd.concat([df, se], axis = 1)\n",
        "df = df.drop(['segment'], axis = 1)"
      ],
      "execution_count": null,
      "outputs": []
    },
    {
      "cell_type": "code",
      "metadata": {
        "colab": {
          "base_uri": "https://localhost:8080/"
        },
        "id": "R68FdzGHOtcj",
        "outputId": "2174c617-51c1-4fe6-a7d6-a09b7ace72c8"
      },
      "source": [
        "\n",
        "df.columns"
      ],
      "execution_count": null,
      "outputs": [
        {
          "output_type": "execute_result",
          "data": {
            "text/plain": [
              "Index(['discount', 'price', 'no of items', 'location', 'class', 'sub-class',\n",
              "       'delivery type', 'profit', 'month', 'quarter', 'dc_col_0', 'dc_col_1',\n",
              "       'dc_col_2', 'dc_col_3', 'dc_col_4', 'dc_col_5', 'dc_col_6', 'dc_col_7',\n",
              "       'col_0', 'col_1', 'col_2', 'col_3', 'col_4', 'col_5', 'col_6', 'col_7',\n",
              "       'add_col_0', 'add_col_1', 'add_col_2', 'add_col_3', 'add_col_4',\n",
              "       'add_col_5', 'add_col_6', 'add_col_7', 'Location_Central',\n",
              "       'Location_East', 'Location_South', 'Location_West', 'Segment_Consumer',\n",
              "       'Segment_Corporate', 'Segment_Home Office'],\n",
              "      dtype='object')"
            ]
          },
          "metadata": {
            "tags": []
          },
          "execution_count": 520
        }
      ]
    },
    {
      "cell_type": "code",
      "metadata": {
        "id": "oszhxGvIPNyw"
      },
      "source": [
        "df.rename(columns={'class': 'class1'}, inplace=True) #Ye kyo kara hai ek baar explain kariyega.\n",
        "#class uska attribute hai shayad, to dummy lete time error de rha tha, name change krne pe error dena band kr diya "
      ],
      "execution_count": null,
      "outputs": []
    },
    {
      "cell_type": "code",
      "metadata": {
        "colab": {
          "base_uri": "https://localhost:8080/"
        },
        "id": "gm0Qs2QUPpVf",
        "outputId": "e57da6aa-077f-471d-ba80-d9c04936ead7"
      },
      "source": [
        "cl = pd.get_dummies(df.class1, prefix='Class')\n",
        "print(cl.head(20))"
      ],
      "execution_count": null,
      "outputs": [
        {
          "output_type": "stream",
          "text": [
            "    Class_fynota  Class_kariox  Class_qexty\n",
            "0              0             1            0\n",
            "1              0             1            0\n",
            "2              0             0            1\n",
            "3              0             1            0\n",
            "4              0             1            0\n",
            "5              0             1            0\n",
            "6              0             1            0\n",
            "7              0             0            1\n",
            "8              0             1            0\n",
            "9              0             1            0\n",
            "10             0             0            1\n",
            "11             0             1            0\n",
            "12             0             1            0\n",
            "13             0             0            1\n",
            "14             0             1            0\n",
            "15             1             0            0\n",
            "16             0             0            1\n",
            "17             0             1            0\n",
            "18             0             1            0\n",
            "19             0             0            1\n"
          ],
          "name": "stdout"
        }
      ]
    },
    {
      "cell_type": "code",
      "metadata": {
        "id": "TkWef2jwQqtl"
      },
      "source": [
        "df = pd.concat([df, cl], axis = 1)\n",
        "df = df.drop(['location', 'class1'], axis = 1) #dummy le rahe hai to drop kare extra column."
      ],
      "execution_count": null,
      "outputs": []
    },
    {
      "cell_type": "code",
      "metadata": {
        "id": "56BiA7cQQxcF"
      },
      "source": [
        "df = df.drop(['Location_Central', 'Segment_Corporate', 'Class_qexty'], axis = 1)"
      ],
      "execution_count": null,
      "outputs": []
    },
    {
      "cell_type": "code",
      "metadata": {
        "colab": {
          "base_uri": "https://localhost:8080/"
        },
        "id": "aS8N7Tg41xA-",
        "outputId": "1c799e0f-8564-4bb3-a866-9cba025d36ff"
      },
      "source": [
        "df.columns"
      ],
      "execution_count": null,
      "outputs": [
        {
          "output_type": "execute_result",
          "data": {
            "text/plain": [
              "Index(['discount', 'price', 'no of items', 'sub-class', 'delivery type',\n",
              "       'profit', 'month', 'quarter', 'dc_col_0', 'dc_col_1', 'dc_col_2',\n",
              "       'dc_col_3', 'dc_col_4', 'dc_col_5', 'dc_col_6', 'dc_col_7', 'col_0',\n",
              "       'col_1', 'col_2', 'col_3', 'col_4', 'col_5', 'col_6', 'col_7',\n",
              "       'add_col_0', 'add_col_1', 'add_col_2', 'add_col_3', 'add_col_4',\n",
              "       'add_col_5', 'add_col_6', 'add_col_7', 'Location_East',\n",
              "       'Location_South', 'Location_West', 'Segment_Consumer',\n",
              "       'Segment_Home Office', 'Class_fynota', 'Class_kariox'],\n",
              "      dtype='object')"
            ]
          },
          "metadata": {
            "tags": []
          },
          "execution_count": 525
        }
      ]
    },
    {
      "cell_type": "code",
      "metadata": {
        "colab": {
          "base_uri": "https://localhost:8080/"
        },
        "id": "L0auAUW1tmHC",
        "outputId": "a3b6c805-61ec-4e14-d2e5-ebf568b8b8f6"
      },
      "source": [
        "len(df['sub-class'].unique())"
      ],
      "execution_count": null,
      "outputs": [
        {
          "output_type": "execute_result",
          "data": {
            "text/plain": [
              "17"
            ]
          },
          "metadata": {
            "tags": []
          },
          "execution_count": 526
        }
      ]
    },
    {
      "cell_type": "code",
      "metadata": {
        "id": "JV7PZB4GB7ZE"
      },
      "source": [
        "df_subclass = pd.get_dummies(df['sub-class'],prefix = 'sub-class')"
      ],
      "execution_count": null,
      "outputs": []
    },
    {
      "cell_type": "code",
      "metadata": {
        "id": "oK0WnA0jtaR7"
      },
      "source": [
        "df_subclass.drop(['sub-class_sweets'],axis = 1,inplace = True)"
      ],
      "execution_count": null,
      "outputs": []
    },
    {
      "cell_type": "code",
      "metadata": {
        "id": "xsr4kGRqfE_A"
      },
      "source": [
        "df = pd.concat([df,df_subclass],axis = 1)"
      ],
      "execution_count": null,
      "outputs": []
    },
    {
      "cell_type": "code",
      "metadata": {
        "id": "dYqQ7-nugowu"
      },
      "source": [
        "df = df.drop(['sub-class'], axis = 1)"
      ],
      "execution_count": null,
      "outputs": []
    },
    {
      "cell_type": "code",
      "metadata": {
        "colab": {
          "base_uri": "https://localhost:8080/"
        },
        "id": "3Ifc5dh4hvMo",
        "outputId": "31554c0d-9507-488f-874b-8aebd62c6cda"
      },
      "source": [
        "df.columns"
      ],
      "execution_count": null,
      "outputs": [
        {
          "output_type": "execute_result",
          "data": {
            "text/plain": [
              "Index(['discount', 'price', 'no of items', 'delivery type', 'profit', 'month',\n",
              "       'quarter', 'dc_col_0', 'dc_col_1', 'dc_col_2', 'dc_col_3', 'dc_col_4',\n",
              "       'dc_col_5', 'dc_col_6', 'dc_col_7', 'col_0', 'col_1', 'col_2', 'col_3',\n",
              "       'col_4', 'col_5', 'col_6', 'col_7', 'add_col_0', 'add_col_1',\n",
              "       'add_col_2', 'add_col_3', 'add_col_4', 'add_col_5', 'add_col_6',\n",
              "       'add_col_7', 'Location_East', 'Location_South', 'Location_West',\n",
              "       'Segment_Consumer', 'Segment_Home Office', 'Class_fynota',\n",
              "       'Class_kariox', 'sub-class_battery', 'sub-class_charger',\n",
              "       'sub-class_chocolates', 'sub-class_colddrinks', 'sub-class_fastfood',\n",
              "       'sub-class_headset', 'sub-class_hoodies', 'sub-class_laptop',\n",
              "       'sub-class_lighting', 'sub-class_pants', 'sub-class_phone',\n",
              "       'sub-class_shorts', 'sub-class_tablet', 'sub-class_television',\n",
              "       'sub-class_tshirts', 'sub-class_watch'],\n",
              "      dtype='object')"
            ]
          },
          "metadata": {
            "tags": []
          },
          "execution_count": 531
        }
      ]
    },
    {
      "cell_type": "code",
      "metadata": {
        "colab": {
          "base_uri": "https://localhost:8080/"
        },
        "id": "H8u3PI4Zh7FA",
        "outputId": "fc4c5d09-5518-43de-e1c8-766808b60006"
      },
      "source": [
        "df['delivery type'].unique()"
      ],
      "execution_count": null,
      "outputs": [
        {
          "output_type": "execute_result",
          "data": {
            "text/plain": [
              "array(['Standard Class', 'First Class', 'Second Class', 'Same Day'],\n",
              "      dtype=object)"
            ]
          },
          "metadata": {
            "tags": []
          },
          "execution_count": 532
        }
      ]
    },
    {
      "cell_type": "code",
      "metadata": {
        "id": "et1o85GGiPCo"
      },
      "source": [
        "df_dtype = pd.get_dummies(df['delivery type'],prefix = 'dtype')"
      ],
      "execution_count": null,
      "outputs": []
    },
    {
      "cell_type": "code",
      "metadata": {
        "colab": {
          "base_uri": "https://localhost:8080/",
          "height": 195
        },
        "id": "wJpxeLxxikHS",
        "outputId": "b8452274-ae35-4452-a1d5-ee1dd0caf14b"
      },
      "source": [
        "df_dtype.head()\n",
        "#df_dtype.size"
      ],
      "execution_count": null,
      "outputs": [
        {
          "output_type": "execute_result",
          "data": {
            "text/html": [
              "<div>\n",
              "<style scoped>\n",
              "    .dataframe tbody tr th:only-of-type {\n",
              "        vertical-align: middle;\n",
              "    }\n",
              "\n",
              "    .dataframe tbody tr th {\n",
              "        vertical-align: top;\n",
              "    }\n",
              "\n",
              "    .dataframe thead th {\n",
              "        text-align: right;\n",
              "    }\n",
              "</style>\n",
              "<table border=\"1\" class=\"dataframe\">\n",
              "  <thead>\n",
              "    <tr style=\"text-align: right;\">\n",
              "      <th></th>\n",
              "      <th>dtype_First Class</th>\n",
              "      <th>dtype_Same Day</th>\n",
              "      <th>dtype_Second Class</th>\n",
              "      <th>dtype_Standard Class</th>\n",
              "    </tr>\n",
              "  </thead>\n",
              "  <tbody>\n",
              "    <tr>\n",
              "      <th>0</th>\n",
              "      <td>0</td>\n",
              "      <td>0</td>\n",
              "      <td>0</td>\n",
              "      <td>1</td>\n",
              "    </tr>\n",
              "    <tr>\n",
              "      <th>1</th>\n",
              "      <td>0</td>\n",
              "      <td>0</td>\n",
              "      <td>0</td>\n",
              "      <td>1</td>\n",
              "    </tr>\n",
              "    <tr>\n",
              "      <th>2</th>\n",
              "      <td>0</td>\n",
              "      <td>0</td>\n",
              "      <td>0</td>\n",
              "      <td>1</td>\n",
              "    </tr>\n",
              "    <tr>\n",
              "      <th>3</th>\n",
              "      <td>0</td>\n",
              "      <td>0</td>\n",
              "      <td>0</td>\n",
              "      <td>1</td>\n",
              "    </tr>\n",
              "    <tr>\n",
              "      <th>4</th>\n",
              "      <td>0</td>\n",
              "      <td>0</td>\n",
              "      <td>0</td>\n",
              "      <td>1</td>\n",
              "    </tr>\n",
              "  </tbody>\n",
              "</table>\n",
              "</div>"
            ],
            "text/plain": [
              "   dtype_First Class  dtype_Same Day  dtype_Second Class  dtype_Standard Class\n",
              "0                  0               0                   0                     1\n",
              "1                  0               0                   0                     1\n",
              "2                  0               0                   0                     1\n",
              "3                  0               0                   0                     1\n",
              "4                  0               0                   0                     1"
            ]
          },
          "metadata": {
            "tags": []
          },
          "execution_count": 534
        }
      ]
    },
    {
      "cell_type": "code",
      "metadata": {
        "id": "bn_hR16RujTN"
      },
      "source": [
        "df_dtype = df_dtype.drop(['dtype_Same Day'],axis = 1)"
      ],
      "execution_count": null,
      "outputs": []
    },
    {
      "cell_type": "code",
      "metadata": {
        "id": "4EeXEQ1jit-T"
      },
      "source": [
        "df = pd.concat([df, df_dtype], axis = 1)\n",
        "df = df.drop(['delivery type'], axis = 1)"
      ],
      "execution_count": null,
      "outputs": []
    },
    {
      "cell_type": "markdown",
      "metadata": {
        "id": "ykzBf0lkp7nk"
      },
      "source": [
        ""
      ]
    },
    {
      "cell_type": "code",
      "metadata": {
        "colab": {
          "base_uri": "https://localhost:8080/"
        },
        "id": "ZudpSObwmpMV",
        "outputId": "e492a08e-0a92-4032-b367-a656e3895f40"
      },
      "source": [
        "df.columns"
      ],
      "execution_count": null,
      "outputs": [
        {
          "output_type": "execute_result",
          "data": {
            "text/plain": [
              "Index(['discount', 'price', 'no of items', 'profit', 'month', 'quarter',\n",
              "       'dc_col_0', 'dc_col_1', 'dc_col_2', 'dc_col_3', 'dc_col_4', 'dc_col_5',\n",
              "       'dc_col_6', 'dc_col_7', 'col_0', 'col_1', 'col_2', 'col_3', 'col_4',\n",
              "       'col_5', 'col_6', 'col_7', 'add_col_0', 'add_col_1', 'add_col_2',\n",
              "       'add_col_3', 'add_col_4', 'add_col_5', 'add_col_6', 'add_col_7',\n",
              "       'Location_East', 'Location_South', 'Location_West', 'Segment_Consumer',\n",
              "       'Segment_Home Office', 'Class_fynota', 'Class_kariox',\n",
              "       'sub-class_battery', 'sub-class_charger', 'sub-class_chocolates',\n",
              "       'sub-class_colddrinks', 'sub-class_fastfood', 'sub-class_headset',\n",
              "       'sub-class_hoodies', 'sub-class_laptop', 'sub-class_lighting',\n",
              "       'sub-class_pants', 'sub-class_phone', 'sub-class_shorts',\n",
              "       'sub-class_tablet', 'sub-class_television', 'sub-class_tshirts',\n",
              "       'sub-class_watch', 'dtype_First Class', 'dtype_Second Class',\n",
              "       'dtype_Standard Class'],\n",
              "      dtype='object')"
            ]
          },
          "metadata": {
            "tags": []
          },
          "execution_count": 537
        }
      ]
    },
    {
      "cell_type": "code",
      "metadata": {
        "colab": {
          "base_uri": "https://localhost:8080/",
          "height": 232
        },
        "id": "z0uWd3hphSSs",
        "outputId": "086ffd99-d765-44c7-d748-b91d473b3e72"
      },
      "source": [
        "df.head()"
      ],
      "execution_count": null,
      "outputs": [
        {
          "output_type": "execute_result",
          "data": {
            "text/html": [
              "<div>\n",
              "<style scoped>\n",
              "    .dataframe tbody tr th:only-of-type {\n",
              "        vertical-align: middle;\n",
              "    }\n",
              "\n",
              "    .dataframe tbody tr th {\n",
              "        vertical-align: top;\n",
              "    }\n",
              "\n",
              "    .dataframe thead th {\n",
              "        text-align: right;\n",
              "    }\n",
              "</style>\n",
              "<table border=\"1\" class=\"dataframe\">\n",
              "  <thead>\n",
              "    <tr style=\"text-align: right;\">\n",
              "      <th></th>\n",
              "      <th>discount</th>\n",
              "      <th>price</th>\n",
              "      <th>no of items</th>\n",
              "      <th>profit</th>\n",
              "      <th>month</th>\n",
              "      <th>quarter</th>\n",
              "      <th>dc_col_0</th>\n",
              "      <th>dc_col_1</th>\n",
              "      <th>dc_col_2</th>\n",
              "      <th>dc_col_3</th>\n",
              "      <th>dc_col_4</th>\n",
              "      <th>dc_col_5</th>\n",
              "      <th>dc_col_6</th>\n",
              "      <th>dc_col_7</th>\n",
              "      <th>col_0</th>\n",
              "      <th>col_1</th>\n",
              "      <th>col_2</th>\n",
              "      <th>col_3</th>\n",
              "      <th>col_4</th>\n",
              "      <th>col_5</th>\n",
              "      <th>col_6</th>\n",
              "      <th>col_7</th>\n",
              "      <th>add_col_0</th>\n",
              "      <th>add_col_1</th>\n",
              "      <th>add_col_2</th>\n",
              "      <th>add_col_3</th>\n",
              "      <th>add_col_4</th>\n",
              "      <th>add_col_5</th>\n",
              "      <th>add_col_6</th>\n",
              "      <th>add_col_7</th>\n",
              "      <th>Location_East</th>\n",
              "      <th>Location_South</th>\n",
              "      <th>Location_West</th>\n",
              "      <th>Segment_Consumer</th>\n",
              "      <th>Segment_Home Office</th>\n",
              "      <th>Class_fynota</th>\n",
              "      <th>Class_kariox</th>\n",
              "      <th>sub-class_battery</th>\n",
              "      <th>sub-class_charger</th>\n",
              "      <th>sub-class_chocolates</th>\n",
              "      <th>sub-class_colddrinks</th>\n",
              "      <th>sub-class_fastfood</th>\n",
              "      <th>sub-class_headset</th>\n",
              "      <th>sub-class_hoodies</th>\n",
              "      <th>sub-class_laptop</th>\n",
              "      <th>sub-class_lighting</th>\n",
              "      <th>sub-class_pants</th>\n",
              "      <th>sub-class_phone</th>\n",
              "      <th>sub-class_shorts</th>\n",
              "      <th>sub-class_tablet</th>\n",
              "      <th>sub-class_television</th>\n",
              "      <th>sub-class_tshirts</th>\n",
              "      <th>sub-class_watch</th>\n",
              "      <th>dtype_First Class</th>\n",
              "      <th>dtype_Second Class</th>\n",
              "      <th>dtype_Standard Class</th>\n",
              "    </tr>\n",
              "  </thead>\n",
              "  <tbody>\n",
              "    <tr>\n",
              "      <th>0</th>\n",
              "      <td>0.2</td>\n",
              "      <td>16.448</td>\n",
              "      <td>2</td>\n",
              "      <td>5.5512</td>\n",
              "      <td>1</td>\n",
              "      <td>1</td>\n",
              "      <td>0</td>\n",
              "      <td>0</td>\n",
              "      <td>0</td>\n",
              "      <td>1</td>\n",
              "      <td>0</td>\n",
              "      <td>0</td>\n",
              "      <td>0</td>\n",
              "      <td>0</td>\n",
              "      <td>0</td>\n",
              "      <td>0</td>\n",
              "      <td>1</td>\n",
              "      <td>0</td>\n",
              "      <td>0</td>\n",
              "      <td>0</td>\n",
              "      <td>0</td>\n",
              "      <td>0</td>\n",
              "      <td>0</td>\n",
              "      <td>0</td>\n",
              "      <td>0</td>\n",
              "      <td>0</td>\n",
              "      <td>1</td>\n",
              "      <td>0</td>\n",
              "      <td>0</td>\n",
              "      <td>0</td>\n",
              "      <td>0</td>\n",
              "      <td>0</td>\n",
              "      <td>0</td>\n",
              "      <td>1</td>\n",
              "      <td>0</td>\n",
              "      <td>0</td>\n",
              "      <td>1</td>\n",
              "      <td>0</td>\n",
              "      <td>0</td>\n",
              "      <td>0</td>\n",
              "      <td>0</td>\n",
              "      <td>0</td>\n",
              "      <td>0</td>\n",
              "      <td>0</td>\n",
              "      <td>0</td>\n",
              "      <td>0</td>\n",
              "      <td>0</td>\n",
              "      <td>1</td>\n",
              "      <td>0</td>\n",
              "      <td>0</td>\n",
              "      <td>0</td>\n",
              "      <td>0</td>\n",
              "      <td>0</td>\n",
              "      <td>0</td>\n",
              "      <td>0</td>\n",
              "      <td>1</td>\n",
              "    </tr>\n",
              "    <tr>\n",
              "      <th>1</th>\n",
              "      <td>0.0</td>\n",
              "      <td>29.700</td>\n",
              "      <td>5</td>\n",
              "      <td>13.3650</td>\n",
              "      <td>1</td>\n",
              "      <td>1</td>\n",
              "      <td>0</td>\n",
              "      <td>0</td>\n",
              "      <td>0</td>\n",
              "      <td>0</td>\n",
              "      <td>0</td>\n",
              "      <td>0</td>\n",
              "      <td>0</td>\n",
              "      <td>1</td>\n",
              "      <td>1</td>\n",
              "      <td>0</td>\n",
              "      <td>0</td>\n",
              "      <td>0</td>\n",
              "      <td>0</td>\n",
              "      <td>0</td>\n",
              "      <td>0</td>\n",
              "      <td>0</td>\n",
              "      <td>0</td>\n",
              "      <td>0</td>\n",
              "      <td>0</td>\n",
              "      <td>0</td>\n",
              "      <td>0</td>\n",
              "      <td>1</td>\n",
              "      <td>0</td>\n",
              "      <td>0</td>\n",
              "      <td>0</td>\n",
              "      <td>0</td>\n",
              "      <td>0</td>\n",
              "      <td>1</td>\n",
              "      <td>0</td>\n",
              "      <td>0</td>\n",
              "      <td>1</td>\n",
              "      <td>0</td>\n",
              "      <td>0</td>\n",
              "      <td>0</td>\n",
              "      <td>0</td>\n",
              "      <td>0</td>\n",
              "      <td>1</td>\n",
              "      <td>0</td>\n",
              "      <td>0</td>\n",
              "      <td>0</td>\n",
              "      <td>0</td>\n",
              "      <td>0</td>\n",
              "      <td>0</td>\n",
              "      <td>0</td>\n",
              "      <td>0</td>\n",
              "      <td>0</td>\n",
              "      <td>0</td>\n",
              "      <td>0</td>\n",
              "      <td>0</td>\n",
              "      <td>1</td>\n",
              "    </tr>\n",
              "    <tr>\n",
              "      <th>2</th>\n",
              "      <td>0.0</td>\n",
              "      <td>14.730</td>\n",
              "      <td>3</td>\n",
              "      <td>4.8609</td>\n",
              "      <td>1</td>\n",
              "      <td>1</td>\n",
              "      <td>0</td>\n",
              "      <td>0</td>\n",
              "      <td>0</td>\n",
              "      <td>0</td>\n",
              "      <td>0</td>\n",
              "      <td>0</td>\n",
              "      <td>0</td>\n",
              "      <td>1</td>\n",
              "      <td>1</td>\n",
              "      <td>0</td>\n",
              "      <td>0</td>\n",
              "      <td>0</td>\n",
              "      <td>0</td>\n",
              "      <td>0</td>\n",
              "      <td>0</td>\n",
              "      <td>0</td>\n",
              "      <td>0</td>\n",
              "      <td>0</td>\n",
              "      <td>0</td>\n",
              "      <td>0</td>\n",
              "      <td>0</td>\n",
              "      <td>1</td>\n",
              "      <td>0</td>\n",
              "      <td>0</td>\n",
              "      <td>0</td>\n",
              "      <td>0</td>\n",
              "      <td>0</td>\n",
              "      <td>1</td>\n",
              "      <td>0</td>\n",
              "      <td>0</td>\n",
              "      <td>0</td>\n",
              "      <td>0</td>\n",
              "      <td>0</td>\n",
              "      <td>0</td>\n",
              "      <td>0</td>\n",
              "      <td>0</td>\n",
              "      <td>0</td>\n",
              "      <td>0</td>\n",
              "      <td>0</td>\n",
              "      <td>0</td>\n",
              "      <td>0</td>\n",
              "      <td>0</td>\n",
              "      <td>1</td>\n",
              "      <td>0</td>\n",
              "      <td>0</td>\n",
              "      <td>0</td>\n",
              "      <td>0</td>\n",
              "      <td>0</td>\n",
              "      <td>0</td>\n",
              "      <td>1</td>\n",
              "    </tr>\n",
              "    <tr>\n",
              "      <th>3</th>\n",
              "      <td>0.0</td>\n",
              "      <td>43.920</td>\n",
              "      <td>3</td>\n",
              "      <td>12.7368</td>\n",
              "      <td>1</td>\n",
              "      <td>1</td>\n",
              "      <td>0</td>\n",
              "      <td>0</td>\n",
              "      <td>0</td>\n",
              "      <td>0</td>\n",
              "      <td>0</td>\n",
              "      <td>0</td>\n",
              "      <td>0</td>\n",
              "      <td>1</td>\n",
              "      <td>1</td>\n",
              "      <td>0</td>\n",
              "      <td>0</td>\n",
              "      <td>0</td>\n",
              "      <td>0</td>\n",
              "      <td>0</td>\n",
              "      <td>0</td>\n",
              "      <td>0</td>\n",
              "      <td>0</td>\n",
              "      <td>0</td>\n",
              "      <td>0</td>\n",
              "      <td>0</td>\n",
              "      <td>0</td>\n",
              "      <td>1</td>\n",
              "      <td>0</td>\n",
              "      <td>0</td>\n",
              "      <td>0</td>\n",
              "      <td>0</td>\n",
              "      <td>0</td>\n",
              "      <td>1</td>\n",
              "      <td>0</td>\n",
              "      <td>0</td>\n",
              "      <td>1</td>\n",
              "      <td>0</td>\n",
              "      <td>0</td>\n",
              "      <td>0</td>\n",
              "      <td>0</td>\n",
              "      <td>0</td>\n",
              "      <td>0</td>\n",
              "      <td>0</td>\n",
              "      <td>0</td>\n",
              "      <td>0</td>\n",
              "      <td>0</td>\n",
              "      <td>0</td>\n",
              "      <td>0</td>\n",
              "      <td>0</td>\n",
              "      <td>1</td>\n",
              "      <td>0</td>\n",
              "      <td>0</td>\n",
              "      <td>0</td>\n",
              "      <td>0</td>\n",
              "      <td>1</td>\n",
              "    </tr>\n",
              "    <tr>\n",
              "      <th>4</th>\n",
              "      <td>0.0</td>\n",
              "      <td>66.580</td>\n",
              "      <td>2</td>\n",
              "      <td>15.9792</td>\n",
              "      <td>1</td>\n",
              "      <td>1</td>\n",
              "      <td>0</td>\n",
              "      <td>0</td>\n",
              "      <td>0</td>\n",
              "      <td>0</td>\n",
              "      <td>0</td>\n",
              "      <td>0</td>\n",
              "      <td>0</td>\n",
              "      <td>1</td>\n",
              "      <td>1</td>\n",
              "      <td>0</td>\n",
              "      <td>0</td>\n",
              "      <td>0</td>\n",
              "      <td>0</td>\n",
              "      <td>0</td>\n",
              "      <td>0</td>\n",
              "      <td>0</td>\n",
              "      <td>0</td>\n",
              "      <td>0</td>\n",
              "      <td>0</td>\n",
              "      <td>0</td>\n",
              "      <td>0</td>\n",
              "      <td>1</td>\n",
              "      <td>0</td>\n",
              "      <td>0</td>\n",
              "      <td>0</td>\n",
              "      <td>0</td>\n",
              "      <td>0</td>\n",
              "      <td>1</td>\n",
              "      <td>0</td>\n",
              "      <td>0</td>\n",
              "      <td>1</td>\n",
              "      <td>0</td>\n",
              "      <td>0</td>\n",
              "      <td>0</td>\n",
              "      <td>0</td>\n",
              "      <td>0</td>\n",
              "      <td>0</td>\n",
              "      <td>0</td>\n",
              "      <td>1</td>\n",
              "      <td>0</td>\n",
              "      <td>0</td>\n",
              "      <td>0</td>\n",
              "      <td>0</td>\n",
              "      <td>0</td>\n",
              "      <td>0</td>\n",
              "      <td>0</td>\n",
              "      <td>0</td>\n",
              "      <td>0</td>\n",
              "      <td>0</td>\n",
              "      <td>1</td>\n",
              "    </tr>\n",
              "  </tbody>\n",
              "</table>\n",
              "</div>"
            ],
            "text/plain": [
              "   discount   price  ...  dtype_Second Class  dtype_Standard Class\n",
              "0       0.2  16.448  ...                   0                     1\n",
              "1       0.0  29.700  ...                   0                     1\n",
              "2       0.0  14.730  ...                   0                     1\n",
              "3       0.0  43.920  ...                   0                     1\n",
              "4       0.0  66.580  ...                   0                     1\n",
              "\n",
              "[5 rows x 56 columns]"
            ]
          },
          "metadata": {
            "tags": []
          },
          "execution_count": 538
        }
      ]
    },
    {
      "cell_type": "code",
      "metadata": {
        "colab": {
          "base_uri": "https://localhost:8080/",
          "height": 296
        },
        "id": "ny4PeUjYhSXZ",
        "outputId": "7f959c1f-2ec9-4000-ca5c-b81c4fcdab23"
      },
      "source": [
        "df_train.head()"
      ],
      "execution_count": null,
      "outputs": [
        {
          "output_type": "execute_result",
          "data": {
            "text/html": [
              "<div>\n",
              "<style scoped>\n",
              "    .dataframe tbody tr th:only-of-type {\n",
              "        vertical-align: middle;\n",
              "    }\n",
              "\n",
              "    .dataframe tbody tr th {\n",
              "        vertical-align: top;\n",
              "    }\n",
              "\n",
              "    .dataframe thead th {\n",
              "        text-align: right;\n",
              "    }\n",
              "</style>\n",
              "<table border=\"1\" class=\"dataframe\">\n",
              "  <thead>\n",
              "    <tr style=\"text-align: right;\">\n",
              "      <th></th>\n",
              "      <th>id</th>\n",
              "      <th>departure city</th>\n",
              "      <th>discount</th>\n",
              "      <th>price</th>\n",
              "      <th>no of items</th>\n",
              "      <th>location</th>\n",
              "      <th>class</th>\n",
              "      <th>segment</th>\n",
              "      <th>sub-class</th>\n",
              "      <th>delivery type</th>\n",
              "      <th>RID</th>\n",
              "      <th>profit</th>\n",
              "      <th>delivery date</th>\n",
              "      <th>address code</th>\n",
              "      <th>departure state</th>\n",
              "      <th>placement date</th>\n",
              "    </tr>\n",
              "  </thead>\n",
              "  <tbody>\n",
              "    <tr>\n",
              "      <th>0</th>\n",
              "      <td>1</td>\n",
              "      <td>Houston</td>\n",
              "      <td>0.2</td>\n",
              "      <td>16.448</td>\n",
              "      <td>2</td>\n",
              "      <td>Central</td>\n",
              "      <td>kariox</td>\n",
              "      <td>Consumer</td>\n",
              "      <td>phone</td>\n",
              "      <td>Standard Class</td>\n",
              "      <td>7981</td>\n",
              "      <td>5.5512</td>\n",
              "      <td>2018-01-01</td>\n",
              "      <td>77095</td>\n",
              "      <td>Texas</td>\n",
              "      <td>2018-01-01</td>\n",
              "    </tr>\n",
              "    <tr>\n",
              "      <th>1</th>\n",
              "      <td>2</td>\n",
              "      <td>Westland</td>\n",
              "      <td>0.0</td>\n",
              "      <td>29.700</td>\n",
              "      <td>5</td>\n",
              "      <td>Central</td>\n",
              "      <td>kariox</td>\n",
              "      <td>Consumer</td>\n",
              "      <td>headset</td>\n",
              "      <td>Standard Class</td>\n",
              "      <td>6334</td>\n",
              "      <td>13.3650</td>\n",
              "      <td>2018-01-01</td>\n",
              "      <td>48185</td>\n",
              "      <td>Michigan</td>\n",
              "      <td>2018-01-01</td>\n",
              "    </tr>\n",
              "    <tr>\n",
              "      <th>2</th>\n",
              "      <td>3</td>\n",
              "      <td>Westland</td>\n",
              "      <td>0.0</td>\n",
              "      <td>14.730</td>\n",
              "      <td>3</td>\n",
              "      <td>Central</td>\n",
              "      <td>qexty</td>\n",
              "      <td>Consumer</td>\n",
              "      <td>shorts</td>\n",
              "      <td>Standard Class</td>\n",
              "      <td>6333</td>\n",
              "      <td>4.8609</td>\n",
              "      <td>2018-01-01</td>\n",
              "      <td>48185</td>\n",
              "      <td>Michigan</td>\n",
              "      <td>2018-01-01</td>\n",
              "    </tr>\n",
              "    <tr>\n",
              "      <th>3</th>\n",
              "      <td>4</td>\n",
              "      <td>Westland</td>\n",
              "      <td>0.0</td>\n",
              "      <td>43.920</td>\n",
              "      <td>3</td>\n",
              "      <td>Central</td>\n",
              "      <td>kariox</td>\n",
              "      <td>Consumer</td>\n",
              "      <td>television</td>\n",
              "      <td>Standard Class</td>\n",
              "      <td>6332</td>\n",
              "      <td>12.7368</td>\n",
              "      <td>2018-01-01</td>\n",
              "      <td>48185</td>\n",
              "      <td>Michigan</td>\n",
              "      <td>2018-01-01</td>\n",
              "    </tr>\n",
              "    <tr>\n",
              "      <th>4</th>\n",
              "      <td>5</td>\n",
              "      <td>Westland</td>\n",
              "      <td>0.0</td>\n",
              "      <td>66.580</td>\n",
              "      <td>2</td>\n",
              "      <td>Central</td>\n",
              "      <td>kariox</td>\n",
              "      <td>Consumer</td>\n",
              "      <td>laptop</td>\n",
              "      <td>Standard Class</td>\n",
              "      <td>6331</td>\n",
              "      <td>15.9792</td>\n",
              "      <td>2018-01-01</td>\n",
              "      <td>48185</td>\n",
              "      <td>Michigan</td>\n",
              "      <td>2018-01-01</td>\n",
              "    </tr>\n",
              "  </tbody>\n",
              "</table>\n",
              "</div>"
            ],
            "text/plain": [
              "   id departure city  discount  ...  address code  departure state placement date\n",
              "0   1        Houston       0.2  ...         77095            Texas     2018-01-01\n",
              "1   2       Westland       0.0  ...         48185         Michigan     2018-01-01\n",
              "2   3       Westland       0.0  ...         48185         Michigan     2018-01-01\n",
              "3   4       Westland       0.0  ...         48185         Michigan     2018-01-01\n",
              "4   5       Westland       0.0  ...         48185         Michigan     2018-01-01\n",
              "\n",
              "[5 rows x 16 columns]"
            ]
          },
          "metadata": {
            "tags": []
          },
          "execution_count": 539
        }
      ]
    },
    {
      "cell_type": "code",
      "metadata": {
        "colab": {
          "base_uri": "https://localhost:8080/"
        },
        "id": "PvtU983GnaCy",
        "outputId": "b6e050c3-b943-4425-84da-e437ee226942"
      },
      "source": [
        "df.isnull().sum()"
      ],
      "execution_count": null,
      "outputs": [
        {
          "output_type": "execute_result",
          "data": {
            "text/plain": [
              "discount                0\n",
              "price                   0\n",
              "no of items             0\n",
              "profit                  0\n",
              "month                   0\n",
              "quarter                 0\n",
              "dc_col_0                0\n",
              "dc_col_1                0\n",
              "dc_col_2                0\n",
              "dc_col_3                0\n",
              "dc_col_4                0\n",
              "dc_col_5                0\n",
              "dc_col_6                0\n",
              "dc_col_7                0\n",
              "col_0                   0\n",
              "col_1                   0\n",
              "col_2                   0\n",
              "col_3                   0\n",
              "col_4                   0\n",
              "col_5                   0\n",
              "col_6                   0\n",
              "col_7                   0\n",
              "add_col_0               0\n",
              "add_col_1               0\n",
              "add_col_2               0\n",
              "add_col_3               0\n",
              "add_col_4               0\n",
              "add_col_5               0\n",
              "add_col_6               0\n",
              "add_col_7               0\n",
              "Location_East           0\n",
              "Location_South          0\n",
              "Location_West           0\n",
              "Segment_Consumer        0\n",
              "Segment_Home Office     0\n",
              "Class_fynota            0\n",
              "Class_kariox            0\n",
              "sub-class_battery       0\n",
              "sub-class_charger       0\n",
              "sub-class_chocolates    0\n",
              "sub-class_colddrinks    0\n",
              "sub-class_fastfood      0\n",
              "sub-class_headset       0\n",
              "sub-class_hoodies       0\n",
              "sub-class_laptop        0\n",
              "sub-class_lighting      0\n",
              "sub-class_pants         0\n",
              "sub-class_phone         0\n",
              "sub-class_shorts        0\n",
              "sub-class_tablet        0\n",
              "sub-class_television    0\n",
              "sub-class_tshirts       0\n",
              "sub-class_watch         0\n",
              "dtype_First Class       0\n",
              "dtype_Second Class      0\n",
              "dtype_Standard Class    0\n",
              "dtype: int64"
            ]
          },
          "metadata": {
            "tags": []
          },
          "execution_count": 540
        }
      ]
    },
    {
      "cell_type": "code",
      "metadata": {
        "colab": {
          "base_uri": "https://localhost:8080/"
        },
        "id": "pkzzqylsn25l",
        "outputId": "0a124a8b-c556-4435-b021-dc355c4860e8"
      },
      "source": [
        "df_test.info()"
      ],
      "execution_count": null,
      "outputs": [
        {
          "output_type": "stream",
          "text": [
            "<class 'pandas.core.frame.DataFrame'>\n",
            "RangeIndex: 3294 entries, 0 to 3293\n",
            "Data columns (total 14 columns):\n",
            " #   Column           Non-Null Count  Dtype  \n",
            "---  ------           --------------  -----  \n",
            " 0   id               3294 non-null   int64  \n",
            " 1   departure city   3294 non-null   object \n",
            " 2   discount         3294 non-null   float64\n",
            " 3   price            3294 non-null   float64\n",
            " 4   no of items      3294 non-null   int64  \n",
            " 5   location         3294 non-null   object \n",
            " 6   class            3294 non-null   object \n",
            " 7   segment          3294 non-null   object \n",
            " 8   sub-class        3294 non-null   object \n",
            " 9   delivery type    3294 non-null   object \n",
            " 10  address code     3294 non-null   int64  \n",
            " 11  departure state  3294 non-null   object \n",
            " 12  month            3294 non-null   int64  \n",
            " 13  quarter          3294 non-null   int64  \n",
            "dtypes: float64(2), int64(5), object(7)\n",
            "memory usage: 360.4+ KB\n"
          ],
          "name": "stdout"
        }
      ]
    },
    {
      "cell_type": "code",
      "metadata": {
        "colab": {
          "base_uri": "https://localhost:8080/",
          "height": 279
        },
        "id": "DPlXi2ven8zm",
        "outputId": "f3e445dc-e148-4853-a821-ce4e48302a06"
      },
      "source": [
        "df_test.head()"
      ],
      "execution_count": null,
      "outputs": [
        {
          "output_type": "execute_result",
          "data": {
            "text/html": [
              "<div>\n",
              "<style scoped>\n",
              "    .dataframe tbody tr th:only-of-type {\n",
              "        vertical-align: middle;\n",
              "    }\n",
              "\n",
              "    .dataframe tbody tr th {\n",
              "        vertical-align: top;\n",
              "    }\n",
              "\n",
              "    .dataframe thead th {\n",
              "        text-align: right;\n",
              "    }\n",
              "</style>\n",
              "<table border=\"1\" class=\"dataframe\">\n",
              "  <thead>\n",
              "    <tr style=\"text-align: right;\">\n",
              "      <th></th>\n",
              "      <th>id</th>\n",
              "      <th>departure city</th>\n",
              "      <th>discount</th>\n",
              "      <th>price</th>\n",
              "      <th>no of items</th>\n",
              "      <th>location</th>\n",
              "      <th>class</th>\n",
              "      <th>segment</th>\n",
              "      <th>sub-class</th>\n",
              "      <th>delivery type</th>\n",
              "      <th>address code</th>\n",
              "      <th>departure state</th>\n",
              "      <th>month</th>\n",
              "      <th>quarter</th>\n",
              "    </tr>\n",
              "  </thead>\n",
              "  <tbody>\n",
              "    <tr>\n",
              "      <th>0</th>\n",
              "      <td>6701</td>\n",
              "      <td>San Francisco</td>\n",
              "      <td>0.0</td>\n",
              "      <td>24.200</td>\n",
              "      <td>5</td>\n",
              "      <td>West</td>\n",
              "      <td>kariox</td>\n",
              "      <td>Consumer</td>\n",
              "      <td>television</td>\n",
              "      <td>Standard Class</td>\n",
              "      <td>94122</td>\n",
              "      <td>California</td>\n",
              "      <td>1</td>\n",
              "      <td>1</td>\n",
              "    </tr>\n",
              "    <tr>\n",
              "      <th>1</th>\n",
              "      <td>6702</td>\n",
              "      <td>San Francisco</td>\n",
              "      <td>0.2</td>\n",
              "      <td>359.976</td>\n",
              "      <td>3</td>\n",
              "      <td>West</td>\n",
              "      <td>fynota</td>\n",
              "      <td>Consumer</td>\n",
              "      <td>colddrinks</td>\n",
              "      <td>Standard Class</td>\n",
              "      <td>94122</td>\n",
              "      <td>California</td>\n",
              "      <td>1</td>\n",
              "      <td>1</td>\n",
              "    </tr>\n",
              "    <tr>\n",
              "      <th>2</th>\n",
              "      <td>6703</td>\n",
              "      <td>Waterbury</td>\n",
              "      <td>0.0</td>\n",
              "      <td>3.520</td>\n",
              "      <td>2</td>\n",
              "      <td>East</td>\n",
              "      <td>kariox</td>\n",
              "      <td>Consumer</td>\n",
              "      <td>television</td>\n",
              "      <td>Standard Class</td>\n",
              "      <td>6708</td>\n",
              "      <td>Connecticut</td>\n",
              "      <td>1</td>\n",
              "      <td>1</td>\n",
              "    </tr>\n",
              "    <tr>\n",
              "      <th>3</th>\n",
              "      <td>6704</td>\n",
              "      <td>Chicago</td>\n",
              "      <td>0.2</td>\n",
              "      <td>11.520</td>\n",
              "      <td>5</td>\n",
              "      <td>Central</td>\n",
              "      <td>kariox</td>\n",
              "      <td>Consumer</td>\n",
              "      <td>tablet</td>\n",
              "      <td>First Class</td>\n",
              "      <td>60653</td>\n",
              "      <td>Illinois</td>\n",
              "      <td>1</td>\n",
              "      <td>1</td>\n",
              "    </tr>\n",
              "    <tr>\n",
              "      <th>4</th>\n",
              "      <td>6705</td>\n",
              "      <td>Seattle</td>\n",
              "      <td>0.0</td>\n",
              "      <td>242.940</td>\n",
              "      <td>3</td>\n",
              "      <td>West</td>\n",
              "      <td>kariox</td>\n",
              "      <td>Home Office</td>\n",
              "      <td>laptop</td>\n",
              "      <td>Standard Class</td>\n",
              "      <td>98115</td>\n",
              "      <td>Washington</td>\n",
              "      <td>1</td>\n",
              "      <td>1</td>\n",
              "    </tr>\n",
              "  </tbody>\n",
              "</table>\n",
              "</div>"
            ],
            "text/plain": [
              "     id departure city  discount  ...  departure state  month quarter\n",
              "0  6701  San Francisco       0.0  ...       California      1       1\n",
              "1  6702  San Francisco       0.2  ...       California      1       1\n",
              "2  6703      Waterbury       0.0  ...      Connecticut      1       1\n",
              "3  6704        Chicago       0.2  ...         Illinois      1       1\n",
              "4  6705        Seattle       0.0  ...       Washington      1       1\n",
              "\n",
              "[5 rows x 14 columns]"
            ]
          },
          "metadata": {
            "tags": []
          },
          "execution_count": 542
        }
      ]
    },
    {
      "cell_type": "markdown",
      "metadata": {
        "id": "LaT5uz1swauC"
      },
      "source": [
        "# **Encoding Test Data**"
      ]
    },
    {
      "cell_type": "code",
      "metadata": {
        "id": "xXHI9rflofc-"
      },
      "source": [
        "df_test = df_test.drop(['id'], axis = 1)"
      ],
      "execution_count": null,
      "outputs": []
    },
    {
      "cell_type": "code",
      "metadata": {
        "id": "NVzr5VfrwWZ7"
      },
      "source": [
        "df_departurecity_test = df_departurecity_test.reset_index()"
      ],
      "execution_count": null,
      "outputs": []
    },
    {
      "cell_type": "code",
      "metadata": {
        "id": "AlT9aM4_wWfA"
      },
      "source": [
        "df_departurestate_test = df_departurestate_test.reset_index()"
      ],
      "execution_count": null,
      "outputs": []
    },
    {
      "cell_type": "code",
      "metadata": {
        "id": "Ud-78W7JwWko"
      },
      "source": [
        "df_address_test = df_address_test.reset_index()"
      ],
      "execution_count": null,
      "outputs": []
    },
    {
      "cell_type": "code",
      "metadata": {
        "colab": {
          "base_uri": "https://localhost:8080/",
          "height": 606
        },
        "id": "vyIrh09awWpo",
        "outputId": "9510d790-8d12-4d8d-d8d7-46188396bc9b"
      },
      "source": [
        "df_test = pd.concat([df_test, df_departurecity_test], axis = 1)\n",
        "df_test = df_test.drop(['departure city', 'departure city'], axis = 1)\n",
        "df_test"
      ],
      "execution_count": null,
      "outputs": [
        {
          "output_type": "execute_result",
          "data": {
            "text/html": [
              "<div>\n",
              "<style scoped>\n",
              "    .dataframe tbody tr th:only-of-type {\n",
              "        vertical-align: middle;\n",
              "    }\n",
              "\n",
              "    .dataframe tbody tr th {\n",
              "        vertical-align: top;\n",
              "    }\n",
              "\n",
              "    .dataframe thead th {\n",
              "        text-align: right;\n",
              "    }\n",
              "</style>\n",
              "<table border=\"1\" class=\"dataframe\">\n",
              "  <thead>\n",
              "    <tr style=\"text-align: right;\">\n",
              "      <th></th>\n",
              "      <th>discount</th>\n",
              "      <th>price</th>\n",
              "      <th>no of items</th>\n",
              "      <th>location</th>\n",
              "      <th>class</th>\n",
              "      <th>segment</th>\n",
              "      <th>sub-class</th>\n",
              "      <th>delivery type</th>\n",
              "      <th>address code</th>\n",
              "      <th>departure state</th>\n",
              "      <th>month</th>\n",
              "      <th>quarter</th>\n",
              "      <th>index</th>\n",
              "      <th>dc_col_0</th>\n",
              "      <th>dc_col_1</th>\n",
              "      <th>dc_col_2</th>\n",
              "      <th>dc_col_3</th>\n",
              "      <th>dc_col_4</th>\n",
              "      <th>dc_col_5</th>\n",
              "      <th>dc_col_6</th>\n",
              "      <th>dc_col_7</th>\n",
              "    </tr>\n",
              "  </thead>\n",
              "  <tbody>\n",
              "    <tr>\n",
              "      <th>0</th>\n",
              "      <td>0.0</td>\n",
              "      <td>24.200</td>\n",
              "      <td>5</td>\n",
              "      <td>West</td>\n",
              "      <td>kariox</td>\n",
              "      <td>Consumer</td>\n",
              "      <td>television</td>\n",
              "      <td>Standard Class</td>\n",
              "      <td>94122</td>\n",
              "      <td>California</td>\n",
              "      <td>1</td>\n",
              "      <td>1</td>\n",
              "      <td>6700</td>\n",
              "      <td>0</td>\n",
              "      <td>0</td>\n",
              "      <td>0</td>\n",
              "      <td>0</td>\n",
              "      <td>0</td>\n",
              "      <td>1</td>\n",
              "      <td>0</td>\n",
              "      <td>0</td>\n",
              "    </tr>\n",
              "    <tr>\n",
              "      <th>1</th>\n",
              "      <td>0.2</td>\n",
              "      <td>359.976</td>\n",
              "      <td>3</td>\n",
              "      <td>West</td>\n",
              "      <td>fynota</td>\n",
              "      <td>Consumer</td>\n",
              "      <td>colddrinks</td>\n",
              "      <td>Standard Class</td>\n",
              "      <td>94122</td>\n",
              "      <td>California</td>\n",
              "      <td>1</td>\n",
              "      <td>1</td>\n",
              "      <td>6701</td>\n",
              "      <td>0</td>\n",
              "      <td>0</td>\n",
              "      <td>0</td>\n",
              "      <td>0</td>\n",
              "      <td>0</td>\n",
              "      <td>1</td>\n",
              "      <td>0</td>\n",
              "      <td>0</td>\n",
              "    </tr>\n",
              "    <tr>\n",
              "      <th>2</th>\n",
              "      <td>0.0</td>\n",
              "      <td>3.520</td>\n",
              "      <td>2</td>\n",
              "      <td>East</td>\n",
              "      <td>kariox</td>\n",
              "      <td>Consumer</td>\n",
              "      <td>television</td>\n",
              "      <td>Standard Class</td>\n",
              "      <td>6708</td>\n",
              "      <td>Connecticut</td>\n",
              "      <td>1</td>\n",
              "      <td>1</td>\n",
              "      <td>6702</td>\n",
              "      <td>0</td>\n",
              "      <td>0</td>\n",
              "      <td>1</td>\n",
              "      <td>0</td>\n",
              "      <td>0</td>\n",
              "      <td>0</td>\n",
              "      <td>0</td>\n",
              "      <td>0</td>\n",
              "    </tr>\n",
              "    <tr>\n",
              "      <th>3</th>\n",
              "      <td>0.2</td>\n",
              "      <td>11.520</td>\n",
              "      <td>5</td>\n",
              "      <td>Central</td>\n",
              "      <td>kariox</td>\n",
              "      <td>Consumer</td>\n",
              "      <td>tablet</td>\n",
              "      <td>First Class</td>\n",
              "      <td>60653</td>\n",
              "      <td>Illinois</td>\n",
              "      <td>1</td>\n",
              "      <td>1</td>\n",
              "      <td>6703</td>\n",
              "      <td>0</td>\n",
              "      <td>0</td>\n",
              "      <td>1</td>\n",
              "      <td>0</td>\n",
              "      <td>0</td>\n",
              "      <td>0</td>\n",
              "      <td>0</td>\n",
              "      <td>0</td>\n",
              "    </tr>\n",
              "    <tr>\n",
              "      <th>4</th>\n",
              "      <td>0.0</td>\n",
              "      <td>242.940</td>\n",
              "      <td>3</td>\n",
              "      <td>West</td>\n",
              "      <td>kariox</td>\n",
              "      <td>Home Office</td>\n",
              "      <td>laptop</td>\n",
              "      <td>Standard Class</td>\n",
              "      <td>98115</td>\n",
              "      <td>Washington</td>\n",
              "      <td>1</td>\n",
              "      <td>1</td>\n",
              "      <td>6704</td>\n",
              "      <td>0</td>\n",
              "      <td>0</td>\n",
              "      <td>0</td>\n",
              "      <td>0</td>\n",
              "      <td>0</td>\n",
              "      <td>0</td>\n",
              "      <td>0</td>\n",
              "      <td>1</td>\n",
              "    </tr>\n",
              "    <tr>\n",
              "      <th>...</th>\n",
              "      <td>...</td>\n",
              "      <td>...</td>\n",
              "      <td>...</td>\n",
              "      <td>...</td>\n",
              "      <td>...</td>\n",
              "      <td>...</td>\n",
              "      <td>...</td>\n",
              "      <td>...</td>\n",
              "      <td>...</td>\n",
              "      <td>...</td>\n",
              "      <td>...</td>\n",
              "      <td>...</td>\n",
              "      <td>...</td>\n",
              "      <td>...</td>\n",
              "      <td>...</td>\n",
              "      <td>...</td>\n",
              "      <td>...</td>\n",
              "      <td>...</td>\n",
              "      <td>...</td>\n",
              "      <td>...</td>\n",
              "      <td>...</td>\n",
              "    </tr>\n",
              "    <tr>\n",
              "      <th>3289</th>\n",
              "      <td>0.0</td>\n",
              "      <td>31.920</td>\n",
              "      <td>4</td>\n",
              "      <td>East</td>\n",
              "      <td>kariox</td>\n",
              "      <td>Consumer</td>\n",
              "      <td>laptop</td>\n",
              "      <td>Second Class</td>\n",
              "      <td>10035</td>\n",
              "      <td>New York</td>\n",
              "      <td>12</td>\n",
              "      <td>4</td>\n",
              "      <td>9989</td>\n",
              "      <td>1</td>\n",
              "      <td>0</td>\n",
              "      <td>0</td>\n",
              "      <td>0</td>\n",
              "      <td>0</td>\n",
              "      <td>0</td>\n",
              "      <td>0</td>\n",
              "      <td>0</td>\n",
              "    </tr>\n",
              "    <tr>\n",
              "      <th>3290</th>\n",
              "      <td>0.0</td>\n",
              "      <td>19.440</td>\n",
              "      <td>3</td>\n",
              "      <td>East</td>\n",
              "      <td>kariox</td>\n",
              "      <td>Consumer</td>\n",
              "      <td>phone</td>\n",
              "      <td>Second Class</td>\n",
              "      <td>10035</td>\n",
              "      <td>New York</td>\n",
              "      <td>12</td>\n",
              "      <td>4</td>\n",
              "      <td>9990</td>\n",
              "      <td>1</td>\n",
              "      <td>0</td>\n",
              "      <td>0</td>\n",
              "      <td>0</td>\n",
              "      <td>0</td>\n",
              "      <td>0</td>\n",
              "      <td>0</td>\n",
              "      <td>0</td>\n",
              "    </tr>\n",
              "    <tr>\n",
              "      <th>3291</th>\n",
              "      <td>0.0</td>\n",
              "      <td>272.940</td>\n",
              "      <td>3</td>\n",
              "      <td>East</td>\n",
              "      <td>kariox</td>\n",
              "      <td>Consumer</td>\n",
              "      <td>laptop</td>\n",
              "      <td>Second Class</td>\n",
              "      <td>10035</td>\n",
              "      <td>New York</td>\n",
              "      <td>12</td>\n",
              "      <td>4</td>\n",
              "      <td>9991</td>\n",
              "      <td>1</td>\n",
              "      <td>0</td>\n",
              "      <td>0</td>\n",
              "      <td>0</td>\n",
              "      <td>0</td>\n",
              "      <td>0</td>\n",
              "      <td>0</td>\n",
              "      <td>0</td>\n",
              "    </tr>\n",
              "    <tr>\n",
              "      <th>3292</th>\n",
              "      <td>0.2</td>\n",
              "      <td>113.568</td>\n",
              "      <td>2</td>\n",
              "      <td>West</td>\n",
              "      <td>qexty</td>\n",
              "      <td>Consumer</td>\n",
              "      <td>tshirts</td>\n",
              "      <td>Standard Class</td>\n",
              "      <td>94110</td>\n",
              "      <td>California</td>\n",
              "      <td>12</td>\n",
              "      <td>4</td>\n",
              "      <td>9992</td>\n",
              "      <td>0</td>\n",
              "      <td>0</td>\n",
              "      <td>0</td>\n",
              "      <td>0</td>\n",
              "      <td>0</td>\n",
              "      <td>1</td>\n",
              "      <td>0</td>\n",
              "      <td>0</td>\n",
              "    </tr>\n",
              "    <tr>\n",
              "      <th>3293</th>\n",
              "      <td>0.2</td>\n",
              "      <td>3.024</td>\n",
              "      <td>3</td>\n",
              "      <td>West</td>\n",
              "      <td>kariox</td>\n",
              "      <td>Consumer</td>\n",
              "      <td>lighting</td>\n",
              "      <td>Standard Class</td>\n",
              "      <td>80538</td>\n",
              "      <td>Colorado</td>\n",
              "      <td>12</td>\n",
              "      <td>4</td>\n",
              "      <td>9993</td>\n",
              "      <td>0</td>\n",
              "      <td>0</td>\n",
              "      <td>0</td>\n",
              "      <td>1</td>\n",
              "      <td>0</td>\n",
              "      <td>0</td>\n",
              "      <td>0</td>\n",
              "      <td>0</td>\n",
              "    </tr>\n",
              "  </tbody>\n",
              "</table>\n",
              "<p>3294 rows × 21 columns</p>\n",
              "</div>"
            ],
            "text/plain": [
              "      discount    price  no of items  ... dc_col_5 dc_col_6 dc_col_7\n",
              "0          0.0   24.200            5  ...        1        0        0\n",
              "1          0.2  359.976            3  ...        1        0        0\n",
              "2          0.0    3.520            2  ...        0        0        0\n",
              "3          0.2   11.520            5  ...        0        0        0\n",
              "4          0.0  242.940            3  ...        0        0        1\n",
              "...        ...      ...          ...  ...      ...      ...      ...\n",
              "3289       0.0   31.920            4  ...        0        0        0\n",
              "3290       0.0   19.440            3  ...        0        0        0\n",
              "3291       0.0  272.940            3  ...        0        0        0\n",
              "3292       0.2  113.568            2  ...        1        0        0\n",
              "3293       0.2    3.024            3  ...        0        0        0\n",
              "\n",
              "[3294 rows x 21 columns]"
            ]
          },
          "metadata": {
            "tags": []
          },
          "execution_count": 547
        }
      ]
    },
    {
      "cell_type": "code",
      "metadata": {
        "colab": {
          "base_uri": "https://localhost:8080/",
          "height": 606
        },
        "id": "2xQ-jy0nwWug",
        "outputId": "1f0e22ee-54f7-4ab1-d5e2-e6f9c50477f6"
      },
      "source": [
        "df_test = pd.concat([df_test, df_departurestate_test], axis = 1)\n",
        "df_test = df_test.drop(['departure state', 'departure state'], axis = 1)\n",
        "df_test"
      ],
      "execution_count": null,
      "outputs": [
        {
          "output_type": "execute_result",
          "data": {
            "text/html": [
              "<div>\n",
              "<style scoped>\n",
              "    .dataframe tbody tr th:only-of-type {\n",
              "        vertical-align: middle;\n",
              "    }\n",
              "\n",
              "    .dataframe tbody tr th {\n",
              "        vertical-align: top;\n",
              "    }\n",
              "\n",
              "    .dataframe thead th {\n",
              "        text-align: right;\n",
              "    }\n",
              "</style>\n",
              "<table border=\"1\" class=\"dataframe\">\n",
              "  <thead>\n",
              "    <tr style=\"text-align: right;\">\n",
              "      <th></th>\n",
              "      <th>discount</th>\n",
              "      <th>price</th>\n",
              "      <th>no of items</th>\n",
              "      <th>location</th>\n",
              "      <th>class</th>\n",
              "      <th>segment</th>\n",
              "      <th>sub-class</th>\n",
              "      <th>delivery type</th>\n",
              "      <th>address code</th>\n",
              "      <th>month</th>\n",
              "      <th>quarter</th>\n",
              "      <th>index</th>\n",
              "      <th>dc_col_0</th>\n",
              "      <th>dc_col_1</th>\n",
              "      <th>dc_col_2</th>\n",
              "      <th>dc_col_3</th>\n",
              "      <th>dc_col_4</th>\n",
              "      <th>dc_col_5</th>\n",
              "      <th>dc_col_6</th>\n",
              "      <th>dc_col_7</th>\n",
              "      <th>index</th>\n",
              "      <th>col_0</th>\n",
              "      <th>col_1</th>\n",
              "      <th>col_2</th>\n",
              "      <th>col_3</th>\n",
              "      <th>col_4</th>\n",
              "      <th>col_5</th>\n",
              "      <th>col_6</th>\n",
              "      <th>col_7</th>\n",
              "    </tr>\n",
              "  </thead>\n",
              "  <tbody>\n",
              "    <tr>\n",
              "      <th>0</th>\n",
              "      <td>0.0</td>\n",
              "      <td>24.200</td>\n",
              "      <td>5</td>\n",
              "      <td>West</td>\n",
              "      <td>kariox</td>\n",
              "      <td>Consumer</td>\n",
              "      <td>television</td>\n",
              "      <td>Standard Class</td>\n",
              "      <td>94122</td>\n",
              "      <td>1</td>\n",
              "      <td>1</td>\n",
              "      <td>6700</td>\n",
              "      <td>0</td>\n",
              "      <td>0</td>\n",
              "      <td>0</td>\n",
              "      <td>0</td>\n",
              "      <td>0</td>\n",
              "      <td>1</td>\n",
              "      <td>0</td>\n",
              "      <td>0</td>\n",
              "      <td>6700</td>\n",
              "      <td>0</td>\n",
              "      <td>0</td>\n",
              "      <td>0</td>\n",
              "      <td>0</td>\n",
              "      <td>1</td>\n",
              "      <td>0</td>\n",
              "      <td>0</td>\n",
              "      <td>0</td>\n",
              "    </tr>\n",
              "    <tr>\n",
              "      <th>1</th>\n",
              "      <td>0.2</td>\n",
              "      <td>359.976</td>\n",
              "      <td>3</td>\n",
              "      <td>West</td>\n",
              "      <td>fynota</td>\n",
              "      <td>Consumer</td>\n",
              "      <td>colddrinks</td>\n",
              "      <td>Standard Class</td>\n",
              "      <td>94122</td>\n",
              "      <td>1</td>\n",
              "      <td>1</td>\n",
              "      <td>6701</td>\n",
              "      <td>0</td>\n",
              "      <td>0</td>\n",
              "      <td>0</td>\n",
              "      <td>0</td>\n",
              "      <td>0</td>\n",
              "      <td>1</td>\n",
              "      <td>0</td>\n",
              "      <td>0</td>\n",
              "      <td>6701</td>\n",
              "      <td>0</td>\n",
              "      <td>0</td>\n",
              "      <td>0</td>\n",
              "      <td>0</td>\n",
              "      <td>1</td>\n",
              "      <td>0</td>\n",
              "      <td>0</td>\n",
              "      <td>0</td>\n",
              "    </tr>\n",
              "    <tr>\n",
              "      <th>2</th>\n",
              "      <td>0.0</td>\n",
              "      <td>3.520</td>\n",
              "      <td>2</td>\n",
              "      <td>East</td>\n",
              "      <td>kariox</td>\n",
              "      <td>Consumer</td>\n",
              "      <td>television</td>\n",
              "      <td>Standard Class</td>\n",
              "      <td>6708</td>\n",
              "      <td>1</td>\n",
              "      <td>1</td>\n",
              "      <td>6702</td>\n",
              "      <td>0</td>\n",
              "      <td>0</td>\n",
              "      <td>1</td>\n",
              "      <td>0</td>\n",
              "      <td>0</td>\n",
              "      <td>0</td>\n",
              "      <td>0</td>\n",
              "      <td>0</td>\n",
              "      <td>6702</td>\n",
              "      <td>0</td>\n",
              "      <td>0</td>\n",
              "      <td>0</td>\n",
              "      <td>1</td>\n",
              "      <td>0</td>\n",
              "      <td>0</td>\n",
              "      <td>0</td>\n",
              "      <td>0</td>\n",
              "    </tr>\n",
              "    <tr>\n",
              "      <th>3</th>\n",
              "      <td>0.2</td>\n",
              "      <td>11.520</td>\n",
              "      <td>5</td>\n",
              "      <td>Central</td>\n",
              "      <td>kariox</td>\n",
              "      <td>Consumer</td>\n",
              "      <td>tablet</td>\n",
              "      <td>First Class</td>\n",
              "      <td>60653</td>\n",
              "      <td>1</td>\n",
              "      <td>1</td>\n",
              "      <td>6703</td>\n",
              "      <td>0</td>\n",
              "      <td>0</td>\n",
              "      <td>1</td>\n",
              "      <td>0</td>\n",
              "      <td>0</td>\n",
              "      <td>0</td>\n",
              "      <td>0</td>\n",
              "      <td>0</td>\n",
              "      <td>6703</td>\n",
              "      <td>0</td>\n",
              "      <td>0</td>\n",
              "      <td>0</td>\n",
              "      <td>0</td>\n",
              "      <td>0</td>\n",
              "      <td>0</td>\n",
              "      <td>0</td>\n",
              "      <td>1</td>\n",
              "    </tr>\n",
              "    <tr>\n",
              "      <th>4</th>\n",
              "      <td>0.0</td>\n",
              "      <td>242.940</td>\n",
              "      <td>3</td>\n",
              "      <td>West</td>\n",
              "      <td>kariox</td>\n",
              "      <td>Home Office</td>\n",
              "      <td>laptop</td>\n",
              "      <td>Standard Class</td>\n",
              "      <td>98115</td>\n",
              "      <td>1</td>\n",
              "      <td>1</td>\n",
              "      <td>6704</td>\n",
              "      <td>0</td>\n",
              "      <td>0</td>\n",
              "      <td>0</td>\n",
              "      <td>0</td>\n",
              "      <td>0</td>\n",
              "      <td>0</td>\n",
              "      <td>0</td>\n",
              "      <td>1</td>\n",
              "      <td>6704</td>\n",
              "      <td>0</td>\n",
              "      <td>0</td>\n",
              "      <td>1</td>\n",
              "      <td>0</td>\n",
              "      <td>0</td>\n",
              "      <td>0</td>\n",
              "      <td>0</td>\n",
              "      <td>0</td>\n",
              "    </tr>\n",
              "    <tr>\n",
              "      <th>...</th>\n",
              "      <td>...</td>\n",
              "      <td>...</td>\n",
              "      <td>...</td>\n",
              "      <td>...</td>\n",
              "      <td>...</td>\n",
              "      <td>...</td>\n",
              "      <td>...</td>\n",
              "      <td>...</td>\n",
              "      <td>...</td>\n",
              "      <td>...</td>\n",
              "      <td>...</td>\n",
              "      <td>...</td>\n",
              "      <td>...</td>\n",
              "      <td>...</td>\n",
              "      <td>...</td>\n",
              "      <td>...</td>\n",
              "      <td>...</td>\n",
              "      <td>...</td>\n",
              "      <td>...</td>\n",
              "      <td>...</td>\n",
              "      <td>...</td>\n",
              "      <td>...</td>\n",
              "      <td>...</td>\n",
              "      <td>...</td>\n",
              "      <td>...</td>\n",
              "      <td>...</td>\n",
              "      <td>...</td>\n",
              "      <td>...</td>\n",
              "      <td>...</td>\n",
              "    </tr>\n",
              "    <tr>\n",
              "      <th>3289</th>\n",
              "      <td>0.0</td>\n",
              "      <td>31.920</td>\n",
              "      <td>4</td>\n",
              "      <td>East</td>\n",
              "      <td>kariox</td>\n",
              "      <td>Consumer</td>\n",
              "      <td>laptop</td>\n",
              "      <td>Second Class</td>\n",
              "      <td>10035</td>\n",
              "      <td>12</td>\n",
              "      <td>4</td>\n",
              "      <td>9989</td>\n",
              "      <td>1</td>\n",
              "      <td>0</td>\n",
              "      <td>0</td>\n",
              "      <td>0</td>\n",
              "      <td>0</td>\n",
              "      <td>0</td>\n",
              "      <td>0</td>\n",
              "      <td>0</td>\n",
              "      <td>9989</td>\n",
              "      <td>0</td>\n",
              "      <td>0</td>\n",
              "      <td>0</td>\n",
              "      <td>1</td>\n",
              "      <td>0</td>\n",
              "      <td>0</td>\n",
              "      <td>0</td>\n",
              "      <td>0</td>\n",
              "    </tr>\n",
              "    <tr>\n",
              "      <th>3290</th>\n",
              "      <td>0.0</td>\n",
              "      <td>19.440</td>\n",
              "      <td>3</td>\n",
              "      <td>East</td>\n",
              "      <td>kariox</td>\n",
              "      <td>Consumer</td>\n",
              "      <td>phone</td>\n",
              "      <td>Second Class</td>\n",
              "      <td>10035</td>\n",
              "      <td>12</td>\n",
              "      <td>4</td>\n",
              "      <td>9990</td>\n",
              "      <td>1</td>\n",
              "      <td>0</td>\n",
              "      <td>0</td>\n",
              "      <td>0</td>\n",
              "      <td>0</td>\n",
              "      <td>0</td>\n",
              "      <td>0</td>\n",
              "      <td>0</td>\n",
              "      <td>9990</td>\n",
              "      <td>0</td>\n",
              "      <td>0</td>\n",
              "      <td>0</td>\n",
              "      <td>1</td>\n",
              "      <td>0</td>\n",
              "      <td>0</td>\n",
              "      <td>0</td>\n",
              "      <td>0</td>\n",
              "    </tr>\n",
              "    <tr>\n",
              "      <th>3291</th>\n",
              "      <td>0.0</td>\n",
              "      <td>272.940</td>\n",
              "      <td>3</td>\n",
              "      <td>East</td>\n",
              "      <td>kariox</td>\n",
              "      <td>Consumer</td>\n",
              "      <td>laptop</td>\n",
              "      <td>Second Class</td>\n",
              "      <td>10035</td>\n",
              "      <td>12</td>\n",
              "      <td>4</td>\n",
              "      <td>9991</td>\n",
              "      <td>1</td>\n",
              "      <td>0</td>\n",
              "      <td>0</td>\n",
              "      <td>0</td>\n",
              "      <td>0</td>\n",
              "      <td>0</td>\n",
              "      <td>0</td>\n",
              "      <td>0</td>\n",
              "      <td>9991</td>\n",
              "      <td>0</td>\n",
              "      <td>0</td>\n",
              "      <td>0</td>\n",
              "      <td>1</td>\n",
              "      <td>0</td>\n",
              "      <td>0</td>\n",
              "      <td>0</td>\n",
              "      <td>0</td>\n",
              "    </tr>\n",
              "    <tr>\n",
              "      <th>3292</th>\n",
              "      <td>0.2</td>\n",
              "      <td>113.568</td>\n",
              "      <td>2</td>\n",
              "      <td>West</td>\n",
              "      <td>qexty</td>\n",
              "      <td>Consumer</td>\n",
              "      <td>tshirts</td>\n",
              "      <td>Standard Class</td>\n",
              "      <td>94110</td>\n",
              "      <td>12</td>\n",
              "      <td>4</td>\n",
              "      <td>9992</td>\n",
              "      <td>0</td>\n",
              "      <td>0</td>\n",
              "      <td>0</td>\n",
              "      <td>0</td>\n",
              "      <td>0</td>\n",
              "      <td>1</td>\n",
              "      <td>0</td>\n",
              "      <td>0</td>\n",
              "      <td>9992</td>\n",
              "      <td>0</td>\n",
              "      <td>0</td>\n",
              "      <td>0</td>\n",
              "      <td>0</td>\n",
              "      <td>1</td>\n",
              "      <td>0</td>\n",
              "      <td>0</td>\n",
              "      <td>0</td>\n",
              "    </tr>\n",
              "    <tr>\n",
              "      <th>3293</th>\n",
              "      <td>0.2</td>\n",
              "      <td>3.024</td>\n",
              "      <td>3</td>\n",
              "      <td>West</td>\n",
              "      <td>kariox</td>\n",
              "      <td>Consumer</td>\n",
              "      <td>lighting</td>\n",
              "      <td>Standard Class</td>\n",
              "      <td>80538</td>\n",
              "      <td>12</td>\n",
              "      <td>4</td>\n",
              "      <td>9993</td>\n",
              "      <td>0</td>\n",
              "      <td>0</td>\n",
              "      <td>0</td>\n",
              "      <td>1</td>\n",
              "      <td>0</td>\n",
              "      <td>0</td>\n",
              "      <td>0</td>\n",
              "      <td>0</td>\n",
              "      <td>9993</td>\n",
              "      <td>0</td>\n",
              "      <td>0</td>\n",
              "      <td>0</td>\n",
              "      <td>1</td>\n",
              "      <td>0</td>\n",
              "      <td>0</td>\n",
              "      <td>0</td>\n",
              "      <td>0</td>\n",
              "    </tr>\n",
              "  </tbody>\n",
              "</table>\n",
              "<p>3294 rows × 29 columns</p>\n",
              "</div>"
            ],
            "text/plain": [
              "      discount    price  no of items location  ... col_4 col_5 col_6 col_7\n",
              "0          0.0   24.200            5     West  ...     1     0     0     0\n",
              "1          0.2  359.976            3     West  ...     1     0     0     0\n",
              "2          0.0    3.520            2     East  ...     0     0     0     0\n",
              "3          0.2   11.520            5  Central  ...     0     0     0     1\n",
              "4          0.0  242.940            3     West  ...     0     0     0     0\n",
              "...        ...      ...          ...      ...  ...   ...   ...   ...   ...\n",
              "3289       0.0   31.920            4     East  ...     0     0     0     0\n",
              "3290       0.0   19.440            3     East  ...     0     0     0     0\n",
              "3291       0.0  272.940            3     East  ...     0     0     0     0\n",
              "3292       0.2  113.568            2     West  ...     1     0     0     0\n",
              "3293       0.2    3.024            3     West  ...     0     0     0     0\n",
              "\n",
              "[3294 rows x 29 columns]"
            ]
          },
          "metadata": {
            "tags": []
          },
          "execution_count": 548
        }
      ]
    },
    {
      "cell_type": "code",
      "metadata": {
        "colab": {
          "base_uri": "https://localhost:8080/",
          "height": 606
        },
        "id": "N1mLM2jYwWzs",
        "outputId": "826dcade-0e6c-41be-f6ba-2249445ceb72"
      },
      "source": [
        "df_test = pd.concat([df_test, df_address_test], axis = 1)\n",
        "df_test = df_test.drop(['address code', 'address code'], axis = 1)\n",
        "df_test"
      ],
      "execution_count": null,
      "outputs": [
        {
          "output_type": "execute_result",
          "data": {
            "text/html": [
              "<div>\n",
              "<style scoped>\n",
              "    .dataframe tbody tr th:only-of-type {\n",
              "        vertical-align: middle;\n",
              "    }\n",
              "\n",
              "    .dataframe tbody tr th {\n",
              "        vertical-align: top;\n",
              "    }\n",
              "\n",
              "    .dataframe thead th {\n",
              "        text-align: right;\n",
              "    }\n",
              "</style>\n",
              "<table border=\"1\" class=\"dataframe\">\n",
              "  <thead>\n",
              "    <tr style=\"text-align: right;\">\n",
              "      <th></th>\n",
              "      <th>discount</th>\n",
              "      <th>price</th>\n",
              "      <th>no of items</th>\n",
              "      <th>location</th>\n",
              "      <th>class</th>\n",
              "      <th>segment</th>\n",
              "      <th>sub-class</th>\n",
              "      <th>delivery type</th>\n",
              "      <th>month</th>\n",
              "      <th>quarter</th>\n",
              "      <th>index</th>\n",
              "      <th>dc_col_0</th>\n",
              "      <th>dc_col_1</th>\n",
              "      <th>dc_col_2</th>\n",
              "      <th>dc_col_3</th>\n",
              "      <th>dc_col_4</th>\n",
              "      <th>dc_col_5</th>\n",
              "      <th>dc_col_6</th>\n",
              "      <th>dc_col_7</th>\n",
              "      <th>index</th>\n",
              "      <th>col_0</th>\n",
              "      <th>col_1</th>\n",
              "      <th>col_2</th>\n",
              "      <th>col_3</th>\n",
              "      <th>col_4</th>\n",
              "      <th>col_5</th>\n",
              "      <th>col_6</th>\n",
              "      <th>col_7</th>\n",
              "      <th>index</th>\n",
              "      <th>add_col_0</th>\n",
              "      <th>add_col_1</th>\n",
              "      <th>add_col_2</th>\n",
              "      <th>add_col_3</th>\n",
              "      <th>add_col_4</th>\n",
              "      <th>add_col_5</th>\n",
              "      <th>add_col_6</th>\n",
              "      <th>add_col_7</th>\n",
              "    </tr>\n",
              "  </thead>\n",
              "  <tbody>\n",
              "    <tr>\n",
              "      <th>0</th>\n",
              "      <td>0.0</td>\n",
              "      <td>24.200</td>\n",
              "      <td>5</td>\n",
              "      <td>West</td>\n",
              "      <td>kariox</td>\n",
              "      <td>Consumer</td>\n",
              "      <td>television</td>\n",
              "      <td>Standard Class</td>\n",
              "      <td>1</td>\n",
              "      <td>1</td>\n",
              "      <td>6700</td>\n",
              "      <td>0</td>\n",
              "      <td>0</td>\n",
              "      <td>0</td>\n",
              "      <td>0</td>\n",
              "      <td>0</td>\n",
              "      <td>1</td>\n",
              "      <td>0</td>\n",
              "      <td>0</td>\n",
              "      <td>6700</td>\n",
              "      <td>0</td>\n",
              "      <td>0</td>\n",
              "      <td>0</td>\n",
              "      <td>0</td>\n",
              "      <td>1</td>\n",
              "      <td>0</td>\n",
              "      <td>0</td>\n",
              "      <td>0</td>\n",
              "      <td>6700</td>\n",
              "      <td>0</td>\n",
              "      <td>0</td>\n",
              "      <td>0</td>\n",
              "      <td>0</td>\n",
              "      <td>1</td>\n",
              "      <td>0</td>\n",
              "      <td>0</td>\n",
              "      <td>0</td>\n",
              "    </tr>\n",
              "    <tr>\n",
              "      <th>1</th>\n",
              "      <td>0.2</td>\n",
              "      <td>359.976</td>\n",
              "      <td>3</td>\n",
              "      <td>West</td>\n",
              "      <td>fynota</td>\n",
              "      <td>Consumer</td>\n",
              "      <td>colddrinks</td>\n",
              "      <td>Standard Class</td>\n",
              "      <td>1</td>\n",
              "      <td>1</td>\n",
              "      <td>6701</td>\n",
              "      <td>0</td>\n",
              "      <td>0</td>\n",
              "      <td>0</td>\n",
              "      <td>0</td>\n",
              "      <td>0</td>\n",
              "      <td>1</td>\n",
              "      <td>0</td>\n",
              "      <td>0</td>\n",
              "      <td>6701</td>\n",
              "      <td>0</td>\n",
              "      <td>0</td>\n",
              "      <td>0</td>\n",
              "      <td>0</td>\n",
              "      <td>1</td>\n",
              "      <td>0</td>\n",
              "      <td>0</td>\n",
              "      <td>0</td>\n",
              "      <td>6701</td>\n",
              "      <td>0</td>\n",
              "      <td>0</td>\n",
              "      <td>0</td>\n",
              "      <td>0</td>\n",
              "      <td>1</td>\n",
              "      <td>0</td>\n",
              "      <td>0</td>\n",
              "      <td>0</td>\n",
              "    </tr>\n",
              "    <tr>\n",
              "      <th>2</th>\n",
              "      <td>0.0</td>\n",
              "      <td>3.520</td>\n",
              "      <td>2</td>\n",
              "      <td>East</td>\n",
              "      <td>kariox</td>\n",
              "      <td>Consumer</td>\n",
              "      <td>television</td>\n",
              "      <td>Standard Class</td>\n",
              "      <td>1</td>\n",
              "      <td>1</td>\n",
              "      <td>6702</td>\n",
              "      <td>0</td>\n",
              "      <td>0</td>\n",
              "      <td>1</td>\n",
              "      <td>0</td>\n",
              "      <td>0</td>\n",
              "      <td>0</td>\n",
              "      <td>0</td>\n",
              "      <td>0</td>\n",
              "      <td>6702</td>\n",
              "      <td>0</td>\n",
              "      <td>0</td>\n",
              "      <td>0</td>\n",
              "      <td>1</td>\n",
              "      <td>0</td>\n",
              "      <td>0</td>\n",
              "      <td>0</td>\n",
              "      <td>0</td>\n",
              "      <td>6702</td>\n",
              "      <td>0</td>\n",
              "      <td>0</td>\n",
              "      <td>0</td>\n",
              "      <td>0</td>\n",
              "      <td>0</td>\n",
              "      <td>0</td>\n",
              "      <td>0</td>\n",
              "      <td>1</td>\n",
              "    </tr>\n",
              "    <tr>\n",
              "      <th>3</th>\n",
              "      <td>0.2</td>\n",
              "      <td>11.520</td>\n",
              "      <td>5</td>\n",
              "      <td>Central</td>\n",
              "      <td>kariox</td>\n",
              "      <td>Consumer</td>\n",
              "      <td>tablet</td>\n",
              "      <td>First Class</td>\n",
              "      <td>1</td>\n",
              "      <td>1</td>\n",
              "      <td>6703</td>\n",
              "      <td>0</td>\n",
              "      <td>0</td>\n",
              "      <td>1</td>\n",
              "      <td>0</td>\n",
              "      <td>0</td>\n",
              "      <td>0</td>\n",
              "      <td>0</td>\n",
              "      <td>0</td>\n",
              "      <td>6703</td>\n",
              "      <td>0</td>\n",
              "      <td>0</td>\n",
              "      <td>0</td>\n",
              "      <td>0</td>\n",
              "      <td>0</td>\n",
              "      <td>0</td>\n",
              "      <td>0</td>\n",
              "      <td>1</td>\n",
              "      <td>6703</td>\n",
              "      <td>0</td>\n",
              "      <td>0</td>\n",
              "      <td>0</td>\n",
              "      <td>0</td>\n",
              "      <td>0</td>\n",
              "      <td>0</td>\n",
              "      <td>1</td>\n",
              "      <td>0</td>\n",
              "    </tr>\n",
              "    <tr>\n",
              "      <th>4</th>\n",
              "      <td>0.0</td>\n",
              "      <td>242.940</td>\n",
              "      <td>3</td>\n",
              "      <td>West</td>\n",
              "      <td>kariox</td>\n",
              "      <td>Home Office</td>\n",
              "      <td>laptop</td>\n",
              "      <td>Standard Class</td>\n",
              "      <td>1</td>\n",
              "      <td>1</td>\n",
              "      <td>6704</td>\n",
              "      <td>0</td>\n",
              "      <td>0</td>\n",
              "      <td>0</td>\n",
              "      <td>0</td>\n",
              "      <td>0</td>\n",
              "      <td>0</td>\n",
              "      <td>0</td>\n",
              "      <td>1</td>\n",
              "      <td>6704</td>\n",
              "      <td>0</td>\n",
              "      <td>0</td>\n",
              "      <td>1</td>\n",
              "      <td>0</td>\n",
              "      <td>0</td>\n",
              "      <td>0</td>\n",
              "      <td>0</td>\n",
              "      <td>0</td>\n",
              "      <td>6704</td>\n",
              "      <td>1</td>\n",
              "      <td>0</td>\n",
              "      <td>0</td>\n",
              "      <td>0</td>\n",
              "      <td>0</td>\n",
              "      <td>0</td>\n",
              "      <td>0</td>\n",
              "      <td>0</td>\n",
              "    </tr>\n",
              "    <tr>\n",
              "      <th>...</th>\n",
              "      <td>...</td>\n",
              "      <td>...</td>\n",
              "      <td>...</td>\n",
              "      <td>...</td>\n",
              "      <td>...</td>\n",
              "      <td>...</td>\n",
              "      <td>...</td>\n",
              "      <td>...</td>\n",
              "      <td>...</td>\n",
              "      <td>...</td>\n",
              "      <td>...</td>\n",
              "      <td>...</td>\n",
              "      <td>...</td>\n",
              "      <td>...</td>\n",
              "      <td>...</td>\n",
              "      <td>...</td>\n",
              "      <td>...</td>\n",
              "      <td>...</td>\n",
              "      <td>...</td>\n",
              "      <td>...</td>\n",
              "      <td>...</td>\n",
              "      <td>...</td>\n",
              "      <td>...</td>\n",
              "      <td>...</td>\n",
              "      <td>...</td>\n",
              "      <td>...</td>\n",
              "      <td>...</td>\n",
              "      <td>...</td>\n",
              "      <td>...</td>\n",
              "      <td>...</td>\n",
              "      <td>...</td>\n",
              "      <td>...</td>\n",
              "      <td>...</td>\n",
              "      <td>...</td>\n",
              "      <td>...</td>\n",
              "      <td>...</td>\n",
              "      <td>...</td>\n",
              "    </tr>\n",
              "    <tr>\n",
              "      <th>3289</th>\n",
              "      <td>0.0</td>\n",
              "      <td>31.920</td>\n",
              "      <td>4</td>\n",
              "      <td>East</td>\n",
              "      <td>kariox</td>\n",
              "      <td>Consumer</td>\n",
              "      <td>laptop</td>\n",
              "      <td>Second Class</td>\n",
              "      <td>12</td>\n",
              "      <td>4</td>\n",
              "      <td>9989</td>\n",
              "      <td>1</td>\n",
              "      <td>0</td>\n",
              "      <td>0</td>\n",
              "      <td>0</td>\n",
              "      <td>0</td>\n",
              "      <td>0</td>\n",
              "      <td>0</td>\n",
              "      <td>0</td>\n",
              "      <td>9989</td>\n",
              "      <td>0</td>\n",
              "      <td>0</td>\n",
              "      <td>0</td>\n",
              "      <td>1</td>\n",
              "      <td>0</td>\n",
              "      <td>0</td>\n",
              "      <td>0</td>\n",
              "      <td>0</td>\n",
              "      <td>9989</td>\n",
              "      <td>1</td>\n",
              "      <td>0</td>\n",
              "      <td>0</td>\n",
              "      <td>0</td>\n",
              "      <td>0</td>\n",
              "      <td>0</td>\n",
              "      <td>0</td>\n",
              "      <td>0</td>\n",
              "    </tr>\n",
              "    <tr>\n",
              "      <th>3290</th>\n",
              "      <td>0.0</td>\n",
              "      <td>19.440</td>\n",
              "      <td>3</td>\n",
              "      <td>East</td>\n",
              "      <td>kariox</td>\n",
              "      <td>Consumer</td>\n",
              "      <td>phone</td>\n",
              "      <td>Second Class</td>\n",
              "      <td>12</td>\n",
              "      <td>4</td>\n",
              "      <td>9990</td>\n",
              "      <td>1</td>\n",
              "      <td>0</td>\n",
              "      <td>0</td>\n",
              "      <td>0</td>\n",
              "      <td>0</td>\n",
              "      <td>0</td>\n",
              "      <td>0</td>\n",
              "      <td>0</td>\n",
              "      <td>9990</td>\n",
              "      <td>0</td>\n",
              "      <td>0</td>\n",
              "      <td>0</td>\n",
              "      <td>1</td>\n",
              "      <td>0</td>\n",
              "      <td>0</td>\n",
              "      <td>0</td>\n",
              "      <td>0</td>\n",
              "      <td>9990</td>\n",
              "      <td>1</td>\n",
              "      <td>0</td>\n",
              "      <td>0</td>\n",
              "      <td>0</td>\n",
              "      <td>0</td>\n",
              "      <td>0</td>\n",
              "      <td>0</td>\n",
              "      <td>0</td>\n",
              "    </tr>\n",
              "    <tr>\n",
              "      <th>3291</th>\n",
              "      <td>0.0</td>\n",
              "      <td>272.940</td>\n",
              "      <td>3</td>\n",
              "      <td>East</td>\n",
              "      <td>kariox</td>\n",
              "      <td>Consumer</td>\n",
              "      <td>laptop</td>\n",
              "      <td>Second Class</td>\n",
              "      <td>12</td>\n",
              "      <td>4</td>\n",
              "      <td>9991</td>\n",
              "      <td>1</td>\n",
              "      <td>0</td>\n",
              "      <td>0</td>\n",
              "      <td>0</td>\n",
              "      <td>0</td>\n",
              "      <td>0</td>\n",
              "      <td>0</td>\n",
              "      <td>0</td>\n",
              "      <td>9991</td>\n",
              "      <td>0</td>\n",
              "      <td>0</td>\n",
              "      <td>0</td>\n",
              "      <td>1</td>\n",
              "      <td>0</td>\n",
              "      <td>0</td>\n",
              "      <td>0</td>\n",
              "      <td>0</td>\n",
              "      <td>9991</td>\n",
              "      <td>1</td>\n",
              "      <td>0</td>\n",
              "      <td>0</td>\n",
              "      <td>0</td>\n",
              "      <td>0</td>\n",
              "      <td>0</td>\n",
              "      <td>0</td>\n",
              "      <td>0</td>\n",
              "    </tr>\n",
              "    <tr>\n",
              "      <th>3292</th>\n",
              "      <td>0.2</td>\n",
              "      <td>113.568</td>\n",
              "      <td>2</td>\n",
              "      <td>West</td>\n",
              "      <td>qexty</td>\n",
              "      <td>Consumer</td>\n",
              "      <td>tshirts</td>\n",
              "      <td>Standard Class</td>\n",
              "      <td>12</td>\n",
              "      <td>4</td>\n",
              "      <td>9992</td>\n",
              "      <td>0</td>\n",
              "      <td>0</td>\n",
              "      <td>0</td>\n",
              "      <td>0</td>\n",
              "      <td>0</td>\n",
              "      <td>1</td>\n",
              "      <td>0</td>\n",
              "      <td>0</td>\n",
              "      <td>9992</td>\n",
              "      <td>0</td>\n",
              "      <td>0</td>\n",
              "      <td>0</td>\n",
              "      <td>0</td>\n",
              "      <td>1</td>\n",
              "      <td>0</td>\n",
              "      <td>0</td>\n",
              "      <td>0</td>\n",
              "      <td>9992</td>\n",
              "      <td>0</td>\n",
              "      <td>0</td>\n",
              "      <td>0</td>\n",
              "      <td>0</td>\n",
              "      <td>1</td>\n",
              "      <td>0</td>\n",
              "      <td>0</td>\n",
              "      <td>0</td>\n",
              "    </tr>\n",
              "    <tr>\n",
              "      <th>3293</th>\n",
              "      <td>0.2</td>\n",
              "      <td>3.024</td>\n",
              "      <td>3</td>\n",
              "      <td>West</td>\n",
              "      <td>kariox</td>\n",
              "      <td>Consumer</td>\n",
              "      <td>lighting</td>\n",
              "      <td>Standard Class</td>\n",
              "      <td>12</td>\n",
              "      <td>4</td>\n",
              "      <td>9993</td>\n",
              "      <td>0</td>\n",
              "      <td>0</td>\n",
              "      <td>0</td>\n",
              "      <td>1</td>\n",
              "      <td>0</td>\n",
              "      <td>0</td>\n",
              "      <td>0</td>\n",
              "      <td>0</td>\n",
              "      <td>9993</td>\n",
              "      <td>0</td>\n",
              "      <td>0</td>\n",
              "      <td>0</td>\n",
              "      <td>1</td>\n",
              "      <td>0</td>\n",
              "      <td>0</td>\n",
              "      <td>0</td>\n",
              "      <td>0</td>\n",
              "      <td>9993</td>\n",
              "      <td>0</td>\n",
              "      <td>0</td>\n",
              "      <td>0</td>\n",
              "      <td>0</td>\n",
              "      <td>0</td>\n",
              "      <td>0</td>\n",
              "      <td>0</td>\n",
              "      <td>1</td>\n",
              "    </tr>\n",
              "  </tbody>\n",
              "</table>\n",
              "<p>3294 rows × 37 columns</p>\n",
              "</div>"
            ],
            "text/plain": [
              "      discount    price  no of items  ... add_col_5 add_col_6 add_col_7\n",
              "0          0.0   24.200            5  ...         0         0         0\n",
              "1          0.2  359.976            3  ...         0         0         0\n",
              "2          0.0    3.520            2  ...         0         0         1\n",
              "3          0.2   11.520            5  ...         0         1         0\n",
              "4          0.0  242.940            3  ...         0         0         0\n",
              "...        ...      ...          ...  ...       ...       ...       ...\n",
              "3289       0.0   31.920            4  ...         0         0         0\n",
              "3290       0.0   19.440            3  ...         0         0         0\n",
              "3291       0.0  272.940            3  ...         0         0         0\n",
              "3292       0.2  113.568            2  ...         0         0         0\n",
              "3293       0.2    3.024            3  ...         0         0         1\n",
              "\n",
              "[3294 rows x 37 columns]"
            ]
          },
          "metadata": {
            "tags": []
          },
          "execution_count": 549
        }
      ]
    },
    {
      "cell_type": "code",
      "metadata": {
        "colab": {
          "base_uri": "https://localhost:8080/"
        },
        "id": "B4hDpjrjwTzj",
        "outputId": "66f1c2f7-11f6-4b8f-cab8-2cb08cdd02e5"
      },
      "source": [
        "df_test.columns"
      ],
      "execution_count": null,
      "outputs": [
        {
          "output_type": "execute_result",
          "data": {
            "text/plain": [
              "Index(['discount', 'price', 'no of items', 'location', 'class', 'segment',\n",
              "       'sub-class', 'delivery type', 'month', 'quarter', 'index', 'dc_col_0',\n",
              "       'dc_col_1', 'dc_col_2', 'dc_col_3', 'dc_col_4', 'dc_col_5', 'dc_col_6',\n",
              "       'dc_col_7', 'index', 'col_0', 'col_1', 'col_2', 'col_3', 'col_4',\n",
              "       'col_5', 'col_6', 'col_7', 'index', 'add_col_0', 'add_col_1',\n",
              "       'add_col_2', 'add_col_3', 'add_col_4', 'add_col_5', 'add_col_6',\n",
              "       'add_col_7'],\n",
              "      dtype='object')"
            ]
          },
          "metadata": {
            "tags": []
          },
          "execution_count": 550
        }
      ]
    },
    {
      "cell_type": "code",
      "metadata": {
        "id": "koOe-NSWwT5V"
      },
      "source": [
        "y_test = pd.get_dummies(df_test.location, prefix='Location')"
      ],
      "execution_count": null,
      "outputs": []
    },
    {
      "cell_type": "code",
      "metadata": {
        "colab": {
          "base_uri": "https://localhost:8080/"
        },
        "id": "glItuvhGwT-p",
        "outputId": "159f790f-62ad-472f-bfbf-6f9e355a7982"
      },
      "source": [
        "y_test.shape"
      ],
      "execution_count": null,
      "outputs": [
        {
          "output_type": "execute_result",
          "data": {
            "text/plain": [
              "(3294, 4)"
            ]
          },
          "metadata": {
            "tags": []
          },
          "execution_count": 552
        }
      ]
    },
    {
      "cell_type": "code",
      "metadata": {
        "id": "aIYfuADqwUDh"
      },
      "source": [
        "df_test = pd.concat([df_test, y_test], axis = 1)"
      ],
      "execution_count": null,
      "outputs": []
    },
    {
      "cell_type": "code",
      "metadata": {
        "colab": {
          "base_uri": "https://localhost:8080/"
        },
        "id": "onZpzQeCwUJn",
        "outputId": "8ad57b4c-4497-404f-9644-198fe099dcd2"
      },
      "source": [
        "se_test = pd.get_dummies(df_test.segment, prefix='Segment')\n",
        "print(se_test.head(20))"
      ],
      "execution_count": null,
      "outputs": [
        {
          "output_type": "stream",
          "text": [
            "    Segment_Consumer  Segment_Corporate  Segment_Home Office\n",
            "0                  1                  0                    0\n",
            "1                  1                  0                    0\n",
            "2                  1                  0                    0\n",
            "3                  1                  0                    0\n",
            "4                  0                  0                    1\n",
            "5                  0                  0                    1\n",
            "6                  0                  0                    1\n",
            "7                  0                  0                    1\n",
            "8                  0                  0                    1\n",
            "9                  0                  0                    1\n",
            "10                 0                  0                    1\n",
            "11                 0                  0                    1\n",
            "12                 0                  0                    1\n",
            "13                 0                  1                    0\n",
            "14                 1                  0                    0\n",
            "15                 0                  1                    0\n",
            "16                 0                  1                    0\n",
            "17                 0                  0                    1\n",
            "18                 0                  1                    0\n",
            "19                 0                  1                    0\n"
          ],
          "name": "stdout"
        }
      ]
    },
    {
      "cell_type": "code",
      "metadata": {
        "id": "1QaeDRZtwUQw"
      },
      "source": [
        "df_test = pd.concat([df_test, se_test], axis = 1)\n",
        "df_test = df_test.drop(['segment'], axis = 1)"
      ],
      "execution_count": null,
      "outputs": []
    },
    {
      "cell_type": "code",
      "metadata": {
        "id": "4Vc6pFsIwUWZ"
      },
      "source": [
        "df_test.rename(columns={'class': 'class1'}, inplace=True)"
      ],
      "execution_count": null,
      "outputs": []
    },
    {
      "cell_type": "code",
      "metadata": {
        "colab": {
          "base_uri": "https://localhost:8080/"
        },
        "id": "0Jg24MkcwUcI",
        "outputId": "716b064d-9aec-48a4-df40-6efd7d4462c0"
      },
      "source": [
        "cl_test = pd.get_dummies(df_test.class1, prefix='Class')\n",
        "print(cl_test.head(20))"
      ],
      "execution_count": null,
      "outputs": [
        {
          "output_type": "stream",
          "text": [
            "    Class_fynota  Class_kariox  Class_qexty\n",
            "0              0             1            0\n",
            "1              1             0            0\n",
            "2              0             1            0\n",
            "3              0             1            0\n",
            "4              0             1            0\n",
            "5              1             0            0\n",
            "6              0             1            0\n",
            "7              0             0            1\n",
            "8              0             1            0\n",
            "9              0             1            0\n",
            "10             0             1            0\n",
            "11             0             1            0\n",
            "12             0             1            0\n",
            "13             1             0            0\n",
            "14             0             1            0\n",
            "15             0             1            0\n",
            "16             0             1            0\n",
            "17             1             0            0\n",
            "18             0             1            0\n",
            "19             0             1            0\n"
          ],
          "name": "stdout"
        }
      ]
    },
    {
      "cell_type": "code",
      "metadata": {
        "id": "65b6SEdDwUic"
      },
      "source": [
        "df_test = pd.concat([df_test, cl_test], axis = 1)\n",
        "df_test = df_test.drop(['location', 'class1'], axis = 1)"
      ],
      "execution_count": null,
      "outputs": []
    },
    {
      "cell_type": "code",
      "metadata": {
        "id": "zf1jBKMApEH8"
      },
      "source": [
        "df_test = df_test.drop(['Location_Central', 'Segment_Corporate', 'Class_qexty'], axis = 1)"
      ],
      "execution_count": null,
      "outputs": []
    },
    {
      "cell_type": "code",
      "metadata": {
        "id": "obLly6mBqMwc"
      },
      "source": [
        "df_test_subclass = pd.get_dummies(df_test['sub-class'],prefix = 'sub-class')"
      ],
      "execution_count": null,
      "outputs": []
    },
    {
      "cell_type": "code",
      "metadata": {
        "id": "vx82HJ1RxLuR"
      },
      "source": [
        "df_test_subclass.drop(['sub-class_sweets'],axis = 1,inplace = True)"
      ],
      "execution_count": null,
      "outputs": []
    },
    {
      "cell_type": "code",
      "metadata": {
        "id": "VZyQp_fPxLzx"
      },
      "source": [
        "df_test = pd.concat([df_test,df_test_subclass],axis = 1)"
      ],
      "execution_count": null,
      "outputs": []
    },
    {
      "cell_type": "code",
      "metadata": {
        "id": "YiX-olt-xL5t"
      },
      "source": [
        "df_test = df_test.drop(['sub-class'], axis = 1)"
      ],
      "execution_count": null,
      "outputs": []
    },
    {
      "cell_type": "code",
      "metadata": {
        "id": "GKQ7Z2fCxL_F"
      },
      "source": [
        "df_test_dtype = pd.get_dummies(df_test['delivery type'],prefix = 'dtype')"
      ],
      "execution_count": null,
      "outputs": []
    },
    {
      "cell_type": "code",
      "metadata": {
        "id": "qywt0EZwxMES"
      },
      "source": [
        "df_test_dtype = df_test_dtype.drop(['dtype_Same Day'],axis = 1)"
      ],
      "execution_count": null,
      "outputs": []
    },
    {
      "cell_type": "code",
      "metadata": {
        "id": "KVo8oJU4xMJZ"
      },
      "source": [
        "df_test = pd.concat([df_test, df_test_dtype], axis = 1)\n",
        "df_test = df_test.drop(['delivery type'], axis = 1)"
      ],
      "execution_count": null,
      "outputs": []
    },
    {
      "cell_type": "code",
      "metadata": {
        "id": "Y8thWp1TxMOt"
      },
      "source": [
        "df_test = df_test.drop(['index', 'index', 'index'], axis = 1)"
      ],
      "execution_count": null,
      "outputs": []
    },
    {
      "cell_type": "code",
      "metadata": {
        "colab": {
          "base_uri": "https://localhost:8080/"
        },
        "id": "Y15FqwEgxMT4",
        "outputId": "1ee8c91a-602e-42e5-b053-24d626c83e58"
      },
      "source": [
        "df_test.columns"
      ],
      "execution_count": null,
      "outputs": [
        {
          "output_type": "execute_result",
          "data": {
            "text/plain": [
              "Index(['discount', 'price', 'no of items', 'month', 'quarter', 'dc_col_0',\n",
              "       'dc_col_1', 'dc_col_2', 'dc_col_3', 'dc_col_4', 'dc_col_5', 'dc_col_6',\n",
              "       'dc_col_7', 'col_0', 'col_1', 'col_2', 'col_3', 'col_4', 'col_5',\n",
              "       'col_6', 'col_7', 'add_col_0', 'add_col_1', 'add_col_2', 'add_col_3',\n",
              "       'add_col_4', 'add_col_5', 'add_col_6', 'add_col_7', 'Location_East',\n",
              "       'Location_South', 'Location_West', 'Segment_Consumer',\n",
              "       'Segment_Home Office', 'Class_fynota', 'Class_kariox',\n",
              "       'sub-class_battery', 'sub-class_charger', 'sub-class_chocolates',\n",
              "       'sub-class_colddrinks', 'sub-class_fastfood', 'sub-class_headset',\n",
              "       'sub-class_hoodies', 'sub-class_laptop', 'sub-class_lighting',\n",
              "       'sub-class_pants', 'sub-class_phone', 'sub-class_shorts',\n",
              "       'sub-class_tablet', 'sub-class_television', 'sub-class_tshirts',\n",
              "       'sub-class_watch', 'dtype_First Class', 'dtype_Second Class',\n",
              "       'dtype_Standard Class'],\n",
              "      dtype='object')"
            ]
          },
          "metadata": {
            "tags": []
          },
          "execution_count": 568
        }
      ]
    },
    {
      "cell_type": "code",
      "metadata": {
        "colab": {
          "base_uri": "https://localhost:8080/"
        },
        "id": "AdgSmm9G0nW_",
        "outputId": "1aeaf20a-cd41-4dbf-acad-adb818691ca8"
      },
      "source": [
        "df_test_copy['price']"
      ],
      "execution_count": null,
      "outputs": [
        {
          "output_type": "execute_result",
          "data": {
            "text/plain": [
              "0        24.200\n",
              "1       359.976\n",
              "2         3.520\n",
              "3        11.520\n",
              "4       242.940\n",
              "         ...   \n",
              "3289     31.920\n",
              "3290     19.440\n",
              "3291    272.940\n",
              "3292    113.568\n",
              "3293      3.024\n",
              "Name: price, Length: 3294, dtype: float64"
            ]
          },
          "metadata": {
            "tags": []
          },
          "execution_count": 569
        }
      ]
    },
    {
      "cell_type": "code",
      "metadata": {
        "colab": {
          "base_uri": "https://localhost:8080/",
          "height": 334
        },
        "id": "pGl_emL_yRsJ",
        "outputId": "d049f35c-11fa-4a3e-efa5-fb1a92db09b4"
      },
      "source": [
        "sns.distplot(df_test_copy['price'])\n",
        "plt.show()"
      ],
      "execution_count": null,
      "outputs": [
        {
          "output_type": "stream",
          "text": [
            "/usr/local/lib/python3.7/dist-packages/seaborn/distributions.py:2557: FutureWarning: `distplot` is a deprecated function and will be removed in a future version. Please adapt your code to use either `displot` (a figure-level function with similar flexibility) or `histplot` (an axes-level function for histograms).\n",
            "  warnings.warn(msg, FutureWarning)\n"
          ],
          "name": "stderr"
        },
        {
          "output_type": "display_data",
          "data": {
            "image/png": "[encoded data removed]",
            "text/plain": [
              "<Figure size 432x288 with 1 Axes>"
            ]
          },
          "metadata": {
            "tags": [],
            "needs_background": "light"
          }
        }
      ]
    },
    {
      "cell_type": "code",
      "metadata": {
        "colab": {
          "base_uri": "https://localhost:8080/"
        },
        "id": "8SkGrAVsIR31",
        "outputId": "39f8b48d-9bd1-4052-fe04-f76360f7e6c4"
      },
      "source": [
        "df['quarter'].unique()"
      ],
      "execution_count": null,
      "outputs": [
        {
          "output_type": "execute_result",
          "data": {
            "text/plain": [
              "array([1, 2, 3, 4])"
            ]
          },
          "metadata": {
            "tags": []
          },
          "execution_count": 571
        }
      ]
    },
    {
      "cell_type": "markdown",
      "metadata": {
        "id": "-cCseazwQV5h"
      },
      "source": [
        "# Month_Quarter"
      ]
    },
    {
      "cell_type": "code",
      "metadata": {
        "id": "B3MToaS6Qfeq"
      },
      "source": [
        "m = pd.get_dummies(df.month, prefix='Month')\n",
        "m_t = pd.get_dummies(df_test.month, prefix='Month')\n",
        "\n",
        "df = pd.concat([df, m], axis = 1)\n",
        "df_test = pd.concat([df_test, m_t], axis = 1)\n",
        "\n",
        "#q = pd.get_dummies(df.quarter, prefix='Quarter')\n",
        "#q_t = pd.get_dummies(df_test.quarter, prefix='Quarter')\n",
        "\n",
        "#df = pd.concat([df, q], axis = 1)\n",
        "df = df.drop(['quarter','month'],axis = 1)\n",
        "#df_test = pd.concat([df_test, q_t], axis = 1)\n",
        "df_test = df_test.drop(['quarter','month'],axis = 1)\n",
        "\n",
        "df=df.drop(['Month_1'],axis=1)\n",
        "df_test=df_test.drop(['Month_1'],axis=1)"
      ],
      "execution_count": null,
      "outputs": []
    },
    {
      "cell_type": "code",
      "metadata": {
        "colab": {
          "base_uri": "https://localhost:8080/"
        },
        "id": "IZxC6b0zRmOe",
        "outputId": "93b676f8-534f-4418-db3a-c184617618c1"
      },
      "source": [
        "len(df_test.columns)"
      ],
      "execution_count": null,
      "outputs": [
        {
          "output_type": "execute_result",
          "data": {
            "text/plain": [
              "64"
            ]
          },
          "metadata": {
            "tags": []
          },
          "execution_count": 573
        }
      ]
    },
    {
      "cell_type": "code",
      "metadata": {
        "colab": {
          "base_uri": "https://localhost:8080/"
        },
        "id": "zcQvg1jlRtG-",
        "outputId": "eefc7b3a-8435-442d-a395-63c15c6922b7"
      },
      "source": [
        "len(df.columns)"
      ],
      "execution_count": null,
      "outputs": [
        {
          "output_type": "execute_result",
          "data": {
            "text/plain": [
              "65"
            ]
          },
          "metadata": {
            "tags": []
          },
          "execution_count": 574
        }
      ]
    },
    {
      "cell_type": "code",
      "metadata": {
        "colab": {
          "base_uri": "https://localhost:8080/"
        },
        "id": "sstYj4VMSDyW",
        "outputId": "f7997cd4-9f9f-4c23-de4b-e63fc0ee655e"
      },
      "source": [
        "df.columns"
      ],
      "execution_count": null,
      "outputs": [
        {
          "output_type": "execute_result",
          "data": {
            "text/plain": [
              "Index(['discount', 'price', 'no of items', 'profit', 'dc_col_0', 'dc_col_1',\n",
              "       'dc_col_2', 'dc_col_3', 'dc_col_4', 'dc_col_5', 'dc_col_6', 'dc_col_7',\n",
              "       'col_0', 'col_1', 'col_2', 'col_3', 'col_4', 'col_5', 'col_6', 'col_7',\n",
              "       'add_col_0', 'add_col_1', 'add_col_2', 'add_col_3', 'add_col_4',\n",
              "       'add_col_5', 'add_col_6', 'add_col_7', 'Location_East',\n",
              "       'Location_South', 'Location_West', 'Segment_Consumer',\n",
              "       'Segment_Home Office', 'Class_fynota', 'Class_kariox',\n",
              "       'sub-class_battery', 'sub-class_charger', 'sub-class_chocolates',\n",
              "       'sub-class_colddrinks', 'sub-class_fastfood', 'sub-class_headset',\n",
              "       'sub-class_hoodies', 'sub-class_laptop', 'sub-class_lighting',\n",
              "       'sub-class_pants', 'sub-class_phone', 'sub-class_shorts',\n",
              "       'sub-class_tablet', 'sub-class_television', 'sub-class_tshirts',\n",
              "       'sub-class_watch', 'dtype_First Class', 'dtype_Second Class',\n",
              "       'dtype_Standard Class', 'Month_2', 'Month_3', 'Month_4', 'Month_5',\n",
              "       'Month_6', 'Month_7', 'Month_8', 'Month_9', 'Month_10', 'Month_11',\n",
              "       'Month_12'],\n",
              "      dtype='object')"
            ]
          },
          "metadata": {
            "tags": []
          },
          "execution_count": 575
        }
      ]
    },
    {
      "cell_type": "code",
      "metadata": {
        "colab": {
          "base_uri": "https://localhost:8080/"
        },
        "id": "y6RsPJekSJxF",
        "outputId": "f31d962f-9c19-44cf-d717-7d312387df3c"
      },
      "source": [
        "df_test.columns"
      ],
      "execution_count": null,
      "outputs": [
        {
          "output_type": "execute_result",
          "data": {
            "text/plain": [
              "Index(['discount', 'price', 'no of items', 'dc_col_0', 'dc_col_1', 'dc_col_2',\n",
              "       'dc_col_3', 'dc_col_4', 'dc_col_5', 'dc_col_6', 'dc_col_7', 'col_0',\n",
              "       'col_1', 'col_2', 'col_3', 'col_4', 'col_5', 'col_6', 'col_7',\n",
              "       'add_col_0', 'add_col_1', 'add_col_2', 'add_col_3', 'add_col_4',\n",
              "       'add_col_5', 'add_col_6', 'add_col_7', 'Location_East',\n",
              "       'Location_South', 'Location_West', 'Segment_Consumer',\n",
              "       'Segment_Home Office', 'Class_fynota', 'Class_kariox',\n",
              "       'sub-class_battery', 'sub-class_charger', 'sub-class_chocolates',\n",
              "       'sub-class_colddrinks', 'sub-class_fastfood', 'sub-class_headset',\n",
              "       'sub-class_hoodies', 'sub-class_laptop', 'sub-class_lighting',\n",
              "       'sub-class_pants', 'sub-class_phone', 'sub-class_shorts',\n",
              "       'sub-class_tablet', 'sub-class_television', 'sub-class_tshirts',\n",
              "       'sub-class_watch', 'dtype_First Class', 'dtype_Second Class',\n",
              "       'dtype_Standard Class', 'Month_2', 'Month_3', 'Month_4', 'Month_5',\n",
              "       'Month_6', 'Month_7', 'Month_8', 'Month_9', 'Month_10', 'Month_11',\n",
              "       'Month_12'],\n",
              "      dtype='object')"
            ]
          },
          "metadata": {
            "tags": []
          },
          "execution_count": 576
        }
      ]
    },
    {
      "cell_type": "markdown",
      "metadata": {
        "id": "1IlnnaBdyVAv"
      },
      "source": [
        "# **Model Preparation**"
      ]
    },
    {
      "cell_type": "code",
      "metadata": {
        "id": "7e7jBnkEyX9x"
      },
      "source": [
        "y_train = df['profit']"
      ],
      "execution_count": null,
      "outputs": []
    },
    {
      "cell_type": "code",
      "metadata": {
        "id": "ICRv1pAYygIp"
      },
      "source": [
        "x_train = df.drop(['profit'], axis = 1)"
      ],
      "execution_count": null,
      "outputs": []
    },
    {
      "cell_type": "code",
      "metadata": {
        "colab": {
          "base_uri": "https://localhost:8080/"
        },
        "id": "KihShyAxykbf",
        "outputId": "31d02561-7a46-483f-beb4-8f194d296ab7"
      },
      "source": [
        "import xgboost\n",
        "classifier = xgboost.XGBRegressor()\n",
        "classifier.fit(x_train, y_train)"
      ],
      "execution_count": null,
      "outputs": [
        {
          "output_type": "stream",
          "text": [
            "[12:54:53] WARNING: /workspace/src/objective/regression_obj.cu:152: reg:linear is now deprecated in favor of reg:squarederror.\n"
          ],
          "name": "stdout"
        },
        {
          "output_type": "execute_result",
          "data": {
            "text/plain": [
              "XGBRegressor(base_score=0.5, booster='gbtree', colsample_bylevel=1,\n",
              "             colsample_bynode=1, colsample_bytree=1, gamma=0,\n",
              "             importance_type='gain', learning_rate=0.1, max_delta_step=0,\n",
              "             max_depth=3, min_child_weight=1, missing=None, n_estimators=100,\n",
              "             n_jobs=1, nthread=None, objective='reg:linear', random_state=0,\n",
              "             reg_alpha=0, reg_lambda=1, scale_pos_weight=1, seed=None,\n",
              "             silent=None, subsample=1, verbosity=1)"
            ]
          },
          "metadata": {
            "tags": []
          },
          "execution_count": 579
        }
      ]
    },
    {
      "cell_type": "code",
      "metadata": {
        "colab": {
          "base_uri": "https://localhost:8080/",
          "height": 893
        },
        "id": "QDJ3tGob5mBW",
        "outputId": "43dc2c60-9a44-4c32-bf7b-3fc5c00dfe5e"
      },
      "source": [
        "# sorted_idx = classifier.feature_importances_.argsort()\n",
        "# plt.barh(df.feature_names[sorted_idx], classifier.feature_importances_[sorted_idx])\n",
        "# plt.xlabel(\"Xgboost Feature Importance\")\n",
        "\n",
        "feature_important = classifier.get_booster().get_score(importance_type='gain')\n",
        "keys = list(feature_important.keys())\n",
        "values = list(feature_important.values())\n",
        "\n",
        "data = pd.DataFrame(data=values, index=keys, columns=[\"score\"]).sort_values(by = \"score\", ascending=False)\n",
        "data.plot(kind='barh',fontsize = 10,figsize = (15,15))"
      ],
      "execution_count": null,
      "outputs": [
        {
          "output_type": "execute_result",
          "data": {
            "text/plain": [
              "<matplotlib.axes._subplots.AxesSubplot at 0x7fd486651b10>"
            ]
          },
          "metadata": {
            "tags": []
          },
          "execution_count": 580
        },
        {
          "output_type": "display_data",
          "data": {
            "image/png": "[encoded data removed]",
            "text/plain": [
              "<Figure size 1080x1080 with 1 Axes>"
            ]
          },
          "metadata": {
            "tags": [],
            "needs_background": "light"
          }
        }
      ]
    },
    {
      "cell_type": "code",
      "metadata": {
        "id": "BdNIFV6NynUv"
      },
      "source": [
        "# import pickle\n",
        "# filename = 'finalized_model.pkl'\n",
        "# pickle.dump(classifier, open(filename, 'wb'))"
      ],
      "execution_count": null,
      "outputs": []
    },
    {
      "cell_type": "code",
      "metadata": {
        "id": "JtbTA87ayteQ"
      },
      "source": [
        "y_pred = classifier.predict(df_test)"
      ],
      "execution_count": null,
      "outputs": []
    },
    {
      "cell_type": "code",
      "metadata": {
        "colab": {
          "base_uri": "https://localhost:8080/"
        },
        "id": "IRSQRdB7yyYv",
        "outputId": "f8a783dc-736a-4da4-fe96-452d8ed92446"
      },
      "source": [
        "y_pred"
      ],
      "execution_count": null,
      "outputs": [
        {
          "output_type": "execute_result",
          "data": {
            "text/plain": [
              "array([10.765624, 25.550545, 10.765624, ..., 46.45173 , 15.834402,\n",
              "       10.793734], dtype=float32)"
            ]
          },
          "metadata": {
            "tags": []
          },
          "execution_count": 583
        }
      ]
    },
    {
      "cell_type": "code",
      "metadata": {
        "id": "n9kErKLsy4HC"
      },
      "source": [
        "pred = pd.DataFrame(y_pred)\n",
        "sub_df = pd.read_csv('https://raw.githubusercontent.com/imswatantra/KDAG/main/sampleSolution.csv')\n",
        "datasets = pd.concat([sub_df['id'], pred], axis = 1)\n",
        "datasets.columns = ['id', 'profit']\n",
        "datasets.to_csv('sample_submission.csv', index = False)"
      ],
      "execution_count": null,
      "outputs": []
    },
    {
      "cell_type": "code",
      "metadata": {
        "id": "mHBgP0R90Hhh"
      },
      "source": [
        "sub = pd.DataFrame({'id':df_test_copy.id,'profit':y_pred})"
      ],
      "execution_count": null,
      "outputs": []
    },
    {
      "cell_type": "code",
      "metadata": {
        "id": "Sr737v6pzeyA"
      },
      "source": [
        "sub.to_csv('last.csv',index = False)"
      ],
      "execution_count": null,
      "outputs": []
    },
    {
      "cell_type": "code",
      "metadata": {
        "colab": {
          "base_uri": "https://localhost:8080/",
          "height": 402
        },
        "id": "n_MVRgKgzlHi",
        "outputId": "4aff6f80-a37f-4c24-cb2e-5f32aa45ed8c"
      },
      "source": [
        "datasets"
      ],
      "execution_count": null,
      "outputs": [
        {
          "output_type": "execute_result",
          "data": {
            "text/html": [
              "<div>\n",
              "<style scoped>\n",
              "    .dataframe tbody tr th:only-of-type {\n",
              "        vertical-align: middle;\n",
              "    }\n",
              "\n",
              "    .dataframe tbody tr th {\n",
              "        vertical-align: top;\n",
              "    }\n",
              "\n",
              "    .dataframe thead th {\n",
              "        text-align: right;\n",
              "    }\n",
              "</style>\n",
              "<table border=\"1\" class=\"dataframe\">\n",
              "  <thead>\n",
              "    <tr style=\"text-align: right;\">\n",
              "      <th></th>\n",
              "      <th>id</th>\n",
              "      <th>profit</th>\n",
              "    </tr>\n",
              "  </thead>\n",
              "  <tbody>\n",
              "    <tr>\n",
              "      <th>0</th>\n",
              "      <td>6701</td>\n",
              "      <td>10.765624</td>\n",
              "    </tr>\n",
              "    <tr>\n",
              "      <th>1</th>\n",
              "      <td>6702</td>\n",
              "      <td>25.550545</td>\n",
              "    </tr>\n",
              "    <tr>\n",
              "      <th>2</th>\n",
              "      <td>6703</td>\n",
              "      <td>10.765624</td>\n",
              "    </tr>\n",
              "    <tr>\n",
              "      <th>3</th>\n",
              "      <td>6704</td>\n",
              "      <td>9.212823</td>\n",
              "    </tr>\n",
              "    <tr>\n",
              "      <th>4</th>\n",
              "      <td>6705</td>\n",
              "      <td>32.758938</td>\n",
              "    </tr>\n",
              "    <tr>\n",
              "      <th>...</th>\n",
              "      <td>...</td>\n",
              "      <td>...</td>\n",
              "    </tr>\n",
              "    <tr>\n",
              "      <th>3289</th>\n",
              "      <td>9990</td>\n",
              "      <td>-1.514708</td>\n",
              "    </tr>\n",
              "    <tr>\n",
              "      <th>3290</th>\n",
              "      <td>9991</td>\n",
              "      <td>10.566256</td>\n",
              "    </tr>\n",
              "    <tr>\n",
              "      <th>3291</th>\n",
              "      <td>9992</td>\n",
              "      <td>46.451729</td>\n",
              "    </tr>\n",
              "    <tr>\n",
              "      <th>3292</th>\n",
              "      <td>9993</td>\n",
              "      <td>15.834402</td>\n",
              "    </tr>\n",
              "    <tr>\n",
              "      <th>3293</th>\n",
              "      <td>9994</td>\n",
              "      <td>10.793734</td>\n",
              "    </tr>\n",
              "  </tbody>\n",
              "</table>\n",
              "<p>3294 rows × 2 columns</p>\n",
              "</div>"
            ],
            "text/plain": [
              "        id     profit\n",
              "0     6701  10.765624\n",
              "1     6702  25.550545\n",
              "2     6703  10.765624\n",
              "3     6704   9.212823\n",
              "4     6705  32.758938\n",
              "...    ...        ...\n",
              "3289  9990  -1.514708\n",
              "3290  9991  10.566256\n",
              "3291  9992  46.451729\n",
              "3292  9993  15.834402\n",
              "3293  9994  10.793734\n",
              "\n",
              "[3294 rows x 2 columns]"
            ]
          },
          "metadata": {
            "tags": []
          },
          "execution_count": 587
        }
      ]
    },
    {
      "cell_type": "code",
      "metadata": {
        "id": "Uc93CbDO9w4I",
        "colab": {
          "base_uri": "https://localhost:8080/"
        },
        "outputId": "71ef4dd3-98e8-440f-e331-d798312a5b37"
      },
      "source": [
        "df.columns"
      ],
      "execution_count": null,
      "outputs": [
        {
          "output_type": "execute_result",
          "data": {
            "text/plain": [
              "Index(['discount', 'price', 'no of items', 'profit', 'dc_col_0', 'dc_col_1',\n",
              "       'dc_col_2', 'dc_col_3', 'dc_col_4', 'dc_col_5', 'dc_col_6', 'dc_col_7',\n",
              "       'col_0', 'col_1', 'col_2', 'col_3', 'col_4', 'col_5', 'col_6', 'col_7',\n",
              "       'add_col_0', 'add_col_1', 'add_col_2', 'add_col_3', 'add_col_4',\n",
              "       'add_col_5', 'add_col_6', 'add_col_7', 'Location_East',\n",
              "       'Location_South', 'Location_West', 'Segment_Consumer',\n",
              "       'Segment_Home Office', 'Class_fynota', 'Class_kariox',\n",
              "       'sub-class_battery', 'sub-class_charger', 'sub-class_chocolates',\n",
              "       'sub-class_colddrinks', 'sub-class_fastfood', 'sub-class_headset',\n",
              "       'sub-class_hoodies', 'sub-class_laptop', 'sub-class_lighting',\n",
              "       'sub-class_pants', 'sub-class_phone', 'sub-class_shorts',\n",
              "       'sub-class_tablet', 'sub-class_television', 'sub-class_tshirts',\n",
              "       'sub-class_watch', 'dtype_First Class', 'dtype_Second Class',\n",
              "       'dtype_Standard Class', 'Month_2', 'Month_3', 'Month_4', 'Month_5',\n",
              "       'Month_6', 'Month_7', 'Month_8', 'Month_9', 'Month_10', 'Month_11',\n",
              "       'Month_12'],\n",
              "      dtype='object')"
            ]
          },
          "metadata": {
            "tags": []
          },
          "execution_count": 588
        }
      ]
    },
    {
      "cell_type": "code",
      "metadata": {
        "id": "Rjie1CdC2yBi"
      },
      "source": [
        ""
      ],
      "execution_count": null,
      "outputs": []
    }
  ]
}